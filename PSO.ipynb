{
  "nbformat": 4,
  "nbformat_minor": 0,
  "metadata": {
    "colab": {
      "name": "PSO.ipynb",
      "provenance": [],
      "collapsed_sections": [],
      "authorship_tag": "ABX9TyMmt1Vk72JEerKEZjt3TDX/",
      "include_colab_link": true
    },
    "kernelspec": {
      "name": "python3",
      "display_name": "Python 3"
    },
    "language_info": {
      "name": "python"
    }
  },
  "cells": [
    {
      "cell_type": "markdown",
      "metadata": {
        "id": "view-in-github",
        "colab_type": "text"
      },
      "source": [
        "<a href=\"https://colab.research.google.com/github/Giovannacm/nature-inspired-computing/blob/main/PSO.ipynb\" target=\"_parent\"><img src=\"https://colab.research.google.com/assets/colab-badge.svg\" alt=\"Open In Colab\"/></a>"
      ]
    },
    {
      "cell_type": "markdown",
      "source": [
        "Universidade Estadual Paulista - UNESP\n",
        "\n",
        "Programa de Pós-Graduação em Ciência da Computação\n",
        "\n",
        "Disciplina: **Computação Inspirada pela Natureza** - Professor Fabricio Breve\n",
        "\n",
        "**Trabalho 3** - Giovanna Carreira Marinho"
      ],
      "metadata": {
        "id": "lBV2pXeMpZnr"
      }
    },
    {
      "cell_type": "markdown",
      "source": [
        "Minimização da função f(x, y) = (1-x)² + 100(y-x²)² no intervalo [-5, 5], para x e y."
      ],
      "metadata": {
        "id": "0qL2I24rpopa"
      }
    },
    {
      "cell_type": "code",
      "source": [
        "import numpy as np"
      ],
      "metadata": {
        "id": "ScrhuxqWpSrt"
      },
      "execution_count": 1,
      "outputs": []
    },
    {
      "cell_type": "code",
      "source": [
        "def avaliacao(f, ponto):\n",
        "  f_ponto = f(ponto[0], ponto[1], ponto[2])\n",
        "  return f_ponto"
      ],
      "metadata": {
        "id": "Ux8N7G9bUBGB"
      },
      "execution_count": 15,
      "outputs": []
    },
    {
      "cell_type": "code",
      "source": [
        "def PSO(populacao, f, max_it, ac_1, ac_2, v_min, v_max, print_info=True):\n",
        "  t = 0\n",
        "  historico = []\n",
        "\n",
        "  while t < max_it:\n",
        "    N = len(populacao)\n",
        "\n",
        "    if print_info:\n",
        "      print('-- Iteração', t, '--')\n",
        "\n",
        "    for i in range(N):\n",
        "      #melhor desempenho do individuo\n",
        "      f_xi = avaliacao(f, populacao[i]['cord'])\n",
        "      f_pi = avaliacao(f, populacao[i]['p'])\n",
        "      if f_xi < f_pi:\n",
        "        populacao[i]['p'] = populacao[i]['cord']\n",
        "\n",
        "      #melhor desempenho entre o individuo e vizinhos\n",
        "      g = i\n",
        "      for j in populacao[i]['viz']:\n",
        "        f_pj = avaliacao(f, populacao[j]['p'])\n",
        "        f_pg = avaliacao(f, populacao[g]['p'])\n",
        "        if f_pj < f_pg:\n",
        "          g = j\n",
        "\n",
        "      #atualizacao da velocidade e posicao/coordenada do individuo\n",
        "      const_1 = np.random.uniform(0, ac_1, 3)\n",
        "      const_2 = np.random.uniform(0, ac_2, 3)\n",
        "      \n",
        "      v_i = populacao[i]['vel'] + const_1 * (populacao[i]['p'] - populacao[i]['cord']) + const_2 * (populacao[g]['p'] - populacao[i]['cord'])\n",
        "      populacao[i]['vel'] = np.clip(v_i, v_min, v_max)\n",
        "      populacao[i]['cord'] = populacao[i]['cord'] + populacao[i]['vel']\n",
        "\n",
        "      if print_info:\n",
        "        print(populacao[i])\n",
        "\n",
        "    t += 1\n",
        "\n",
        "  return historico"
      ],
      "metadata": {
        "id": "u6G1c5BLrSq5"
      },
      "execution_count": 16,
      "outputs": []
    },
    {
      "cell_type": "code",
      "source": [
        "f = lambda x, y, z: 3 * x**2 - 5 * y + 2 * z**3 - 4\n",
        "\n",
        "v_min, v_max = (-2, 2)\n",
        "ac_1 = ac_2 = 2.05\n",
        "\n",
        "populacao = [\n",
        "    {'id': 0, 'viz': [1], 'cord': np.array([2, 1, 1]), 'vel': np.random.uniform(v_min, v_max, 3), 'p': np.array([2, 1, 1])},\n",
        "    {'id': 1, 'viz': [0], 'cord': np.array([3, 7, 2]), 'vel': np.random.uniform(v_min, v_max, 3), 'p': np.array([3, 7, 2])}\n",
        "]"
      ],
      "metadata": {
        "id": "_e8p7bXuocoK"
      },
      "execution_count": 17,
      "outputs": []
    },
    {
      "cell_type": "code",
      "source": [
        "PSO(populacao, f, 10, ac_1, ac_2, v_min, v_max)"
      ],
      "metadata": {
        "colab": {
          "base_uri": "https://localhost:8080/"
        },
        "id": "tWYPhalcwCd6",
        "outputId": "994ca522-8452-4a2e-f7ca-09d5c8bf46e4"
      },
      "execution_count": 20,
      "outputs": [
        {
          "output_type": "stream",
          "name": "stdout",
          "text": [
            "-- Iteração 0 --\n",
            "{'id': 0, 'viz': [1], 'cord': array([  6.52207092,  24.22992549, -22.15982352]), 'vel': array([ 0.60350262,  1.03227497, -1.97403622]), 'p': array([  5.9185683 ,  23.19765052, -20.1857873 ])}\n",
            "{'id': 1, 'viz': [0], 'cord': array([  7.88931296,  23.96992481, -20.81099606]), 'vel': array([ 2.        ,  0.50118464, -2.        ]), 'p': array([  5.88931296,  23.46874017, -18.81099606])}\n",
            "-- Iteração 1 --\n",
            "{'id': 0, 'viz': [1], 'cord': array([  7.12557354,  25.26220045, -24.13385973]), 'vel': array([ 0.60350262,  1.03227497, -1.97403622]), 'p': array([  6.52207092,  24.22992549, -22.15982352])}\n",
            "{'id': 1, 'viz': [0], 'cord': array([  7.1555702 ,  24.92336339, -22.81099606]), 'vel': array([-0.73374275,  0.95343858, -2.        ]), 'p': array([  7.88931296,  23.96992481, -20.81099606])}\n",
            "-- Iteração 2 --\n",
            "{'id': 0, 'viz': [1], 'cord': array([  7.72907616,  26.29447542, -26.10789595]), 'vel': array([ 0.60350262,  1.03227497, -1.97403622]), 'p': array([  7.12557354,  25.26220045, -24.13385973])}\n",
            "{'id': 1, 'viz': [0], 'cord': array([  6.41851688,  25.95044279, -24.81099606]), 'vel': array([-0.73705332,  1.0270794 , -2.        ]), 'p': array([  7.1555702 ,  24.92336339, -22.81099606])}\n",
            "-- Iteração 3 --\n",
            "{'id': 0, 'viz': [1], 'cord': array([  8.33257878,  27.32675038, -28.08193216]), 'vel': array([ 0.60350262,  1.03227497, -1.97403622]), 'p': array([  7.72907616,  26.29447542, -26.10789595])}\n",
            "{'id': 1, 'viz': [0], 'cord': array([  8.25653728,  27.51615309, -26.81099606]), 'vel': array([ 1.8380204 ,  1.56571031, -2.        ]), 'p': array([  6.41851688,  25.95044279, -24.81099606])}\n",
            "-- Iteração 4 --\n",
            "{'id': 0, 'viz': [1], 'cord': array([  8.9360814 ,  28.35902535, -30.05596838]), 'vel': array([ 0.60350262,  1.03227497, -1.97403622]), 'p': array([  8.33257878,  27.32675038, -28.08193216])}\n",
            "{'id': 1, 'viz': [0], 'cord': array([ 10.20643627,  28.99338008, -28.81099606]), 'vel': array([ 1.94989898,  1.47722698, -2.        ]), 'p': array([  8.25653728,  27.51615309, -26.81099606])}\n",
            "-- Iteração 5 --\n",
            "{'id': 0, 'viz': [1], 'cord': array([  9.53958402,  29.39130032, -32.03000459]), 'vel': array([ 0.60350262,  1.03227497, -1.97403622]), 'p': array([  8.9360814 ,  28.35902535, -30.05596838])}\n",
            "{'id': 1, 'viz': [0], 'cord': array([ 10.49275872,  29.38599397, -30.81099606]), 'vel': array([ 0.28632245,  0.39261389, -2.        ]), 'p': array([ 10.20643627,  28.99338008, -28.81099606])}\n",
            "-- Iteração 6 --\n",
            "{'id': 0, 'viz': [1], 'cord': array([ 10.14308664,  30.42357528, -34.00404081]), 'vel': array([ 0.60350262,  1.03227497, -1.97403622]), 'p': array([  9.53958402,  29.39130032, -32.03000459])}\n",
            "{'id': 1, 'viz': [0], 'cord': array([ 10.56798681,  29.78313709, -32.81099606]), 'vel': array([ 0.07522809,  0.39714313, -2.        ]), 'p': array([ 10.49275872,  29.38599397, -30.81099606])}\n",
            "-- Iteração 7 --\n",
            "{'id': 0, 'viz': [1], 'cord': array([ 10.74658926,  31.45585025, -35.97807703]), 'vel': array([ 0.60350262,  1.03227497, -1.97403622]), 'p': array([ 10.14308664,  30.42357528, -34.00404081])}\n",
            "{'id': 1, 'viz': [0], 'cord': array([  9.80581861,  30.88002701, -34.81099606]), 'vel': array([-0.7621682 ,  1.09688991, -2.        ]), 'p': array([ 10.56798681,  29.78313709, -32.81099606])}\n",
            "-- Iteração 8 --\n",
            "{'id': 0, 'viz': [1], 'cord': array([ 11.35009188,  32.48812521, -37.95211324]), 'vel': array([ 0.60350262,  1.03227497, -1.97403622]), 'p': array([ 10.74658926,  31.45585025, -35.97807703])}\n",
            "{'id': 1, 'viz': [0], 'cord': array([ 10.2621098 ,  32.35768336, -36.81099606]), 'vel': array([ 0.45629119,  1.47765636, -2.        ]), 'p': array([  9.80581861,  30.88002701, -34.81099606])}\n",
            "-- Iteração 9 --\n",
            "{'id': 0, 'viz': [1], 'cord': array([ 11.9535945 ,  33.52040018, -39.92614946]), 'vel': array([ 0.60350262,  1.03227497, -1.97403622]), 'p': array([ 11.35009188,  32.48812521, -37.95211324])}\n",
            "{'id': 1, 'viz': [0], 'cord': array([ 12.2621098 ,  33.93712815, -38.81099606]), 'vel': array([ 2.        ,  1.57944478, -2.        ]), 'p': array([ 10.2621098 ,  32.35768336, -36.81099606])}\n"
          ]
        },
        {
          "output_type": "execute_result",
          "data": {
            "text/plain": [
              "[]"
            ]
          },
          "metadata": {},
          "execution_count": 20
        }
      ]
    }
  ]
}