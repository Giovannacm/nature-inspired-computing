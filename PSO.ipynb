{
  "nbformat": 4,
  "nbformat_minor": 0,
  "metadata": {
    "colab": {
      "name": "PSO.ipynb",
      "provenance": [],
      "collapsed_sections": [],
      "toc_visible": true,
      "authorship_tag": "ABX9TyOrxidqDDhshQNsltMDjLtl",
      "include_colab_link": true
    },
    "kernelspec": {
      "name": "python3",
      "display_name": "Python 3"
    },
    "language_info": {
      "name": "python"
    }
  },
  "cells": [
    {
      "cell_type": "markdown",
      "metadata": {
        "id": "view-in-github",
        "colab_type": "text"
      },
      "source": [
        "<a href=\"https://colab.research.google.com/github/Giovannacm/nature-inspired-computing/blob/main/PSO.ipynb\" target=\"_parent\"><img src=\"https://colab.research.google.com/assets/colab-badge.svg\" alt=\"Open In Colab\"/></a>"
      ]
    },
    {
      "cell_type": "markdown",
      "source": [
        "Universidade Estadual Paulista - UNESP\n",
        "\n",
        "Programa de Pós-Graduação em Ciência da Computação\n",
        "\n",
        "Disciplina: **Computação Inspirada pela Natureza** - Professor Fabricio Breve\n",
        "\n",
        "**Trabalho 3** - Giovanna Carreira Marinho"
      ],
      "metadata": {
        "id": "lBV2pXeMpZnr"
      }
    },
    {
      "cell_type": "markdown",
      "source": [
        "Utilizar PSO - Particle Swarm Optimization para minimização da função f(x, y) = (1-x)² + 100(y-x²)² no intervalo [-5, 5], para x e y."
      ],
      "metadata": {
        "id": "0qL2I24rpopa"
      }
    },
    {
      "cell_type": "markdown",
      "source": [
        "# Funções para o PSO"
      ],
      "metadata": {
        "id": "piZvLIbw_z2T"
      }
    },
    {
      "cell_type": "code",
      "source": [
        "import numpy as np\n",
        "import matplotlib.pyplot as plt\n",
        "from matplotlib.patches import Patch\n",
        "from matplotlib.lines import Line2D"
      ],
      "metadata": {
        "id": "ScrhuxqWpSrt"
      },
      "execution_count": 1,
      "outputs": []
    },
    {
      "cell_type": "code",
      "source": [
        "def avaliacao(f, ponto):\n",
        "  f_ponto = f(ponto[0], ponto[1])\n",
        "  return f_ponto"
      ],
      "metadata": {
        "id": "Ux8N7G9bUBGB"
      },
      "execution_count": 2,
      "outputs": []
    },
    {
      "cell_type": "code",
      "source": [
        "def geraPopulacao(tamanho, valor_min, valor_max, velocidade_min, velocidade_max, dimensao=2):\n",
        "  populacao = []\n",
        "\n",
        "  for i in range(tamanho):\n",
        "    individuo = {}\n",
        "    individuo['id'] = i\n",
        "\n",
        "    if i == 0:\n",
        "      individuo['viz'] = [tamanho - 1, i + 1]\n",
        "    elif i == tamanho - 1:\n",
        "      individuo['viz'] = [i - 1, 0]\n",
        "    else:\n",
        "      individuo['viz'] = [i - 1, i + 1]\n",
        "      \n",
        "    individuo['cord'] = np.random.randint(valor_min, valor_max + 1, size=dimensao)\n",
        "    individuo['vel'] = np.random.uniform(velocidade_min, velocidade_max, size=dimensao)\n",
        "    individuo['p'] = individuo['cord']\n",
        "\n",
        "    populacao.append(individuo)\n",
        "\n",
        "  return populacao"
      ],
      "metadata": {
        "id": "KRixT3fKd4W8"
      },
      "execution_count": 4,
      "outputs": []
    },
    {
      "cell_type": "code",
      "source": [
        "def PSO(populacao, f, max_it, ac_1, ac_2, v_min, v_max, print_info=True, dimensao=2):\n",
        "  t = 0\n",
        "  historico = {'it': [], 'p_minimo': [], 'p_medio': []}\n",
        "\n",
        "  while t < max_it:\n",
        "    N = len(populacao)\n",
        "\n",
        "    if print_info:\n",
        "      print('-- Iteração', t, '--')\n",
        "\n",
        "    p_geral = np.inf\n",
        "    p_todos = []\n",
        "    \n",
        "    for i in range(N):\n",
        "      #melhor desempenho do individuo\n",
        "      f_xi = avaliacao(f, populacao[i]['cord'])\n",
        "      f_pi = avaliacao(f, populacao[i]['p'])\n",
        "      if f_xi < f_pi:\n",
        "        populacao[i]['p'] = populacao[i]['cord']\n",
        "\n",
        "      #melhor desempenho entre o individuo e vizinhos\n",
        "      g = i\n",
        "      for j in populacao[i]['viz']:\n",
        "        f_pj = avaliacao(f, populacao[j]['p'])\n",
        "        f_pg = avaliacao(f, populacao[g]['p'])\n",
        "        if f_pj < f_pg:\n",
        "          g = j\n",
        "\n",
        "      #atualizacao da velocidade e posicao/coordenada do individuo\n",
        "      const_1 = np.random.uniform(0, ac_1, size=dimensao)\n",
        "      const_2 = np.random.uniform(0, ac_2, size=dimensao)\n",
        "      \n",
        "      v_i = populacao[i]['vel'] + const_1 * (populacao[i]['p'] - populacao[i]['cord']) + const_2 * (populacao[g]['p'] - populacao[i]['cord'])\n",
        "      populacao[i]['vel'] = np.clip(v_i, v_min, v_max)\n",
        "      populacao[i]['cord'] = populacao[i]['cord'] + populacao[i]['vel']\n",
        "\n",
        "      if avaliacao(f, populacao[i]['p']) < p_geral:\n",
        "        p_geral = avaliacao(f, populacao[i]['p'])\n",
        "      p_todos.append(avaliacao(f, populacao[i]['p']))\n",
        "\n",
        "      if print_info:\n",
        "        print(populacao[i])\n",
        "    \n",
        "    historico['it'].append(t)\n",
        "    historico['p_minimo'].append(p_geral)\n",
        "    historico['p_medio'].append(np.mean(p_todos))\n",
        "\n",
        "    t += 1\n",
        "\n",
        "  return historico"
      ],
      "metadata": {
        "id": "u6G1c5BLrSq5"
      },
      "execution_count": 5,
      "outputs": []
    },
    {
      "cell_type": "code",
      "source": [
        "f = lambda x, y: (1 - x)**2 + 100*(y - x**2)**2\n",
        "v_min, v_max = (-2, 2)\n",
        "ac_1 = ac_2 = 2.05"
      ],
      "metadata": {
        "id": "_e8p7bXuocoK"
      },
      "execution_count": 6,
      "outputs": []
    },
    {
      "cell_type": "markdown",
      "source": [
        "# Teste 1: 10 iterações"
      ],
      "metadata": {
        "id": "2-MNtu0b_5io"
      }
    },
    {
      "cell_type": "code",
      "source": [
        "populacao_1 = geraPopulacao(tamanho=10, valor_min=-5, valor_max=5, velocidade_min=v_min, velocidade_max=v_max, dimensao=2)"
      ],
      "metadata": {
        "id": "ttnP0oPlfHnc"
      },
      "execution_count": 7,
      "outputs": []
    },
    {
      "cell_type": "code",
      "source": [
        "historico_1 = PSO(populacao_1, f, 10, ac_1, ac_2, v_min, v_max, False)"
      ],
      "metadata": {
        "id": "tWYPhalcwCd6"
      },
      "execution_count": 8,
      "outputs": []
    },
    {
      "cell_type": "code",
      "source": [
        "populacao_2 = geraPopulacao(tamanho=30, valor_min=-5, valor_max=5, velocidade_min=v_min, velocidade_max=v_max, dimensao=2)"
      ],
      "metadata": {
        "id": "swD7TtgK6-RJ"
      },
      "execution_count": 9,
      "outputs": []
    },
    {
      "cell_type": "code",
      "source": [
        "historico_2 = PSO(populacao_2, f, 10, ac_1, ac_2, v_min, v_max, False)"
      ],
      "metadata": {
        "id": "KMXdQ27d7D-j"
      },
      "execution_count": 10,
      "outputs": []
    },
    {
      "cell_type": "code",
      "source": [
        "populacao_3 = geraPopulacao(tamanho=50, valor_min=-5, valor_max=5, velocidade_min=v_min, velocidade_max=v_max, dimensao=2)"
      ],
      "metadata": {
        "id": "H84W34w57K-4"
      },
      "execution_count": 11,
      "outputs": []
    },
    {
      "cell_type": "code",
      "source": [
        "historico_3 = PSO(populacao_3, f, 10, ac_1, ac_2, v_min, v_max, False)"
      ],
      "metadata": {
        "id": "5NvCd9lu7ONJ"
      },
      "execution_count": 12,
      "outputs": []
    },
    {
      "cell_type": "code",
      "source": [
        "plt.figure(figsize=(15, 5))\n",
        "\n",
        "plt.plot(historico_1['it'], historico_1['p_minimo'], color='r', linestyle='dashed')\n",
        "plt.plot(historico_1['it'], historico_1['p_medio'], color='r', linestyle='solid')\n",
        "\n",
        "plt.plot(historico_2['it'], historico_2['p_minimo'], color='g', linestyle='dashed')\n",
        "plt.plot(historico_2['it'], historico_2['p_medio'], color='g', linestyle='solid')\n",
        "\n",
        "plt.plot(historico_3['it'], historico_3['p_minimo'], color='b', linestyle='dashed')\n",
        "plt.plot(historico_3['it'], historico_3['p_medio'], color='b', linestyle='solid')\n",
        "\n",
        "legend_elements = [Line2D([0], [0], linestyle='dashed', color='black', label='Mínimo'),\n",
        "                   Line2D([0], [0], linestyle='solid', color='black', label='Médio'),\n",
        "                   Line2D([0], [0], marker='o', color='w', label='10 indivíduos', markerfacecolor='r', markersize=10),\n",
        "                   Line2D([0], [0], marker='o', color='w', label='30 indivíduos', markerfacecolor='g', markersize=10),\n",
        "                   Line2D([0], [0], marker='o', color='w', label='50 indivíduos', markerfacecolor='b', markersize=10)]\n",
        "\n",
        "plt.legend(handles=legend_elements)\n",
        "plt.title('10 iterações')\n",
        "plt.xlabel('Iteração')\n",
        "plt.ylabel('f(x, y)')\n",
        "plt.show()"
      ],
      "metadata": {
        "colab": {
          "base_uri": "https://localhost:8080/",
          "height": 350
        },
        "id": "m4IWAfeIoXuM",
        "outputId": "111f0752-d9a4-4db7-ccfc-63ae4b918eb8"
      },
      "execution_count": 13,
      "outputs": [
        {
          "output_type": "display_data",
          "data": {
            "text/plain": [
              "<Figure size 1080x360 with 1 Axes>"
            ],
            "image/png": "[encoded data removed]"
          },
          "metadata": {
            "needs_background": "light"
          }
        }
      ]
    },
    {
      "cell_type": "markdown",
      "source": [
        "# Teste 2: 30 iterações"
      ],
      "metadata": {
        "id": "KyO-2h6wADbf"
      }
    },
    {
      "cell_type": "code",
      "source": [
        "populacao_1 = geraPopulacao(tamanho=10, valor_min=-5, valor_max=5, velocidade_min=v_min, velocidade_max=v_max, dimensao=2)\n",
        "historico_1 = PSO(populacao_1, f, 30, ac_1, ac_2, v_min, v_max, False)"
      ],
      "metadata": {
        "id": "p6o1_lPoABJh"
      },
      "execution_count": 14,
      "outputs": []
    },
    {
      "cell_type": "code",
      "source": [
        "populacao_2 = geraPopulacao(tamanho=30, valor_min=-5, valor_max=5, velocidade_min=v_min, velocidade_max=v_max, dimensao=2)\n",
        "historico_2 = PSO(populacao_2, f, 30, ac_1, ac_2, v_min, v_max, False)"
      ],
      "metadata": {
        "id": "K14MDwWjABJi"
      },
      "execution_count": 15,
      "outputs": []
    },
    {
      "cell_type": "code",
      "source": [
        "populacao_3 = geraPopulacao(tamanho=50, valor_min=-5, valor_max=5, velocidade_min=v_min, velocidade_max=v_max, dimensao=2)\n",
        "historico_3 = PSO(populacao_3, f, 30, ac_1, ac_2, v_min, v_max, False)"
      ],
      "metadata": {
        "id": "IgvD8D8DABJi"
      },
      "execution_count": 16,
      "outputs": []
    },
    {
      "cell_type": "code",
      "source": [
        "plt.figure(figsize=(15, 5))\n",
        "\n",
        "plt.plot(historico_1['it'], historico_1['p_minimo'], color='r', linestyle='dashed')\n",
        "plt.plot(historico_1['it'], historico_1['p_medio'], color='r', linestyle='solid')\n",
        "\n",
        "plt.plot(historico_2['it'], historico_2['p_minimo'], color='g', linestyle='dashed')\n",
        "plt.plot(historico_2['it'], historico_2['p_medio'], color='g', linestyle='solid')\n",
        "\n",
        "plt.plot(historico_3['it'], historico_3['p_minimo'], color='b', linestyle='dashed')\n",
        "plt.plot(historico_3['it'], historico_3['p_medio'], color='b', linestyle='solid')\n",
        "\n",
        "legend_elements = [Line2D([0], [0], linestyle='dashed', color='black', label='Mínimo'),\n",
        "                   Line2D([0], [0], linestyle='solid', color='black', label='Médio'),\n",
        "                   Line2D([0], [0], marker='o', color='w', label='10 indivíduos', markerfacecolor='r', markersize=10),\n",
        "                   Line2D([0], [0], marker='o', color='w', label='30 indivíduos', markerfacecolor='g', markersize=10),\n",
        "                   Line2D([0], [0], marker='o', color='w', label='50 indivíduos', markerfacecolor='b', markersize=10)]\n",
        "\n",
        "plt.legend(handles=legend_elements)\n",
        "plt.title('30 iterações')\n",
        "plt.xlabel('Iteração')\n",
        "plt.ylabel('f(x, y)')\n",
        "plt.show()"
      ],
      "metadata": {
        "colab": {
          "base_uri": "https://localhost:8080/",
          "height": 350
        },
        "id": "vIxL3H4hACSo",
        "outputId": "d56d3432-3bbb-4b3f-e2b4-ca26f50495df"
      },
      "execution_count": 17,
      "outputs": [
        {
          "output_type": "display_data",
          "data": {
            "text/plain": [
              "<Figure size 1080x360 with 1 Axes>"
            ],
            "image/png": "[encoded data removed]"
          },
          "metadata": {
            "needs_background": "light"
          }
        }
      ]
    }
  ]
}