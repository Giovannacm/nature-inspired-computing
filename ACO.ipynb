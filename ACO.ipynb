{
  "nbformat": 4,
  "nbformat_minor": 0,
  "metadata": {
    "colab": {
      "name": "ACO.ipynb",
      "provenance": [],
      "collapsed_sections": [
        "Z0rgqWT6La8Y",
        "Ts_9E50HDvg0",
        "9IEvs-n8wEpn",
        "LR-ijw-2Qlh8",
        "SOR--EgPQ1OG"
      ],
      "toc_visible": true,
      "authorship_tag": "ABX9TyMHXSP1WTnjJt8vAsIshT/n",
      "include_colab_link": true
    },
    "kernelspec": {
      "name": "python3",
      "display_name": "Python 3"
    },
    "language_info": {
      "name": "python"
    }
  },
  "cells": [
    {
      "cell_type": "markdown",
      "metadata": {
        "id": "view-in-github",
        "colab_type": "text"
      },
      "source": [
        "<a href=\"https://colab.research.google.com/github/Giovannacm/nature-inspired-computing/blob/main/ACO.ipynb\" target=\"_parent\"><img src=\"https://colab.research.google.com/assets/colab-badge.svg\" alt=\"Open In Colab\"/></a>"
      ]
    },
    {
      "cell_type": "markdown",
      "source": [
        "Universidade Estadual Paulista - UNESP\n",
        "\n",
        "Programa de Pós-Graduação em Ciência da Computação\n",
        "\n",
        "Disciplina: **Computação Inspirada pela Natureza** - Professor Fabricio Breve\n",
        "\n",
        "**Trabalho 3** - Giovanna Carreira Marinho"
      ],
      "metadata": {
        "id": "HwqfQewfLY9g"
      }
    },
    {
      "cell_type": "markdown",
      "source": [
        "Aplicar o ACO para encontar o menor caminho no problema do Caixeiro Viajante com 52 cidades."
      ],
      "metadata": {
        "id": "HdsRRcVg8PBH"
      }
    },
    {
      "cell_type": "code",
      "execution_count": 1,
      "metadata": {
        "id": "eELfRgZSlw5z"
      },
      "outputs": [],
      "source": [
        "import random\n",
        "import numpy as np\n",
        "import matplotlib.pyplot as plt"
      ]
    },
    {
      "cell_type": "markdown",
      "source": [
        "# Funções auxiliares"
      ],
      "metadata": {
        "id": "Z0rgqWT6La8Y"
      }
    },
    {
      "cell_type": "code",
      "source": [
        "def getFeromonio(grafo, aresta_i, aresta_j):\n",
        "  return grafo[aresta_i][aresta_j]"
      ],
      "metadata": {
        "id": "OUoNGhh1npOJ"
      },
      "execution_count": 2,
      "outputs": []
    },
    {
      "cell_type": "code",
      "source": [
        "def accFeromonio(grafo, aresta_i, aresta_j, valor):\n",
        "  if grafo[aresta_i][aresta_j] > 0:\n",
        "    grafo[aresta_i][aresta_j] += valor\n",
        "    grafo[aresta_j][aresta_i] += valor"
      ],
      "metadata": {
        "id": "dN5gxc0doCpJ"
      },
      "execution_count": 3,
      "outputs": []
    },
    {
      "cell_type": "code",
      "source": [
        "def evaporaFeromonios(grafo, valor):\n",
        "  len_vertices = len(grafo)\n",
        "  for i in range(len_vertices):\n",
        "    for j in range(len_vertices):\n",
        "      if grafo[i][j] > 0:\n",
        "        grafo[i][j] *= valor"
      ],
      "metadata": {
        "id": "3yvllzd5ZqHw"
      },
      "execution_count": 4,
      "outputs": []
    },
    {
      "cell_type": "code",
      "source": [
        "def getVerticesAdjacentes(grafo, aresta):\n",
        "  vizinhos = []\n",
        "  feromonio = []\n",
        "  len_vertices = len(grafo[aresta])\n",
        "  for i in range(len_vertices):\n",
        "    if grafo[aresta][i] > 0:\n",
        "      vizinhos.append(i)\n",
        "      feromonio.append(grafo[aresta][i])\n",
        "  return vizinhos, feromonio"
      ],
      "metadata": {
        "id": "Gd1zQtNBoWga"
      },
      "execution_count": 5,
      "outputs": []
    },
    {
      "cell_type": "code",
      "source": [
        "def geraPopulacao(tamanho, valor):\n",
        "  formigas = []\n",
        "  for i in range(tamanho):\n",
        "    formigas.append([valor])\n",
        "  return formigas"
      ],
      "metadata": {
        "id": "ajfB0IY7BLhi"
      },
      "execution_count": 6,
      "outputs": []
    },
    {
      "cell_type": "markdown",
      "source": [
        "#ACO simples"
      ],
      "metadata": {
        "id": "Ts_9E50HDvg0"
      }
    },
    {
      "cell_type": "code",
      "source": [
        "def buscaMenorCaminho(grafo, p, origem, destino, quant_pop, max_it):\n",
        "  t = 0\n",
        "  while t < max_it:\n",
        "\n",
        "    formigas = geraPopulacao(quant_pop, origem)\n",
        "\n",
        "    for formiga in formigas:\n",
        "      historico = formiga.copy()\n",
        "\n",
        "      while destino not in formiga:\n",
        "        vizinhos_real, feromonios_real = getVerticesAdjacentes(grafo, formiga[-1])\n",
        "\n",
        "        vizinhos, feromonios = [], []\n",
        "        for vertice in range(len(vizinhos_real)):\n",
        "          if vizinhos_real[vertice] not in historico:\n",
        "            vizinhos.append(vizinhos_real[vertice])\n",
        "            feromonios.append(feromonios_real[vertice])\n",
        "\n",
        "        proba = []\n",
        "        for vertice in range(len(vizinhos)):\n",
        "          proba.append(getFeromonio(grafo, formiga[-1], vizinhos[vertice]) / sum(feromonios))\n",
        "\n",
        "        escolha = vizinhos[np.random.choice(np.arange(len(vizinhos)), p = proba)]\n",
        "\n",
        "        formiga.append(escolha)\n",
        "        historico.append(escolha)\n",
        "\n",
        "    evaporaFeromonios(grafo, p)\n",
        "\n",
        "    for formiga in formigas:\n",
        "      for vertice in range(len(formiga) - 1):\n",
        "        accFeromonio(grafo, formiga[vertice], formiga[vertice+1], 1/(len(formiga) - 1))\n",
        "\n",
        "    print('\\n--> Iteração:', t)\n",
        "    for linha in grafo:\n",
        "      print(linha)\n",
        "    \n",
        "    t += 1"
      ],
      "metadata": {
        "id": "vDeUc_QgmtLK"
      },
      "execution_count": 7,
      "outputs": []
    },
    {
      "cell_type": "code",
      "source": [
        "grafo = [[0, 1, 1, 1],\n",
        "         [1, 0, 1, 1],\n",
        "         [1, 1, 0, 1],\n",
        "         [1, 1, 1, 0]]\n",
        "buscaMenorCaminho(grafo=grafo, p=0.5, origem=0, destino=3, quant_pop=5, max_it=4)"
      ],
      "metadata": {
        "colab": {
          "base_uri": "https://localhost:8080/"
        },
        "id": "_YH3uaEZjLl3",
        "outputId": "d54ed64d-9ca2-4a51-8c00-0b979ef78e81"
      },
      "execution_count": 8,
      "outputs": [
        {
          "output_type": "stream",
          "name": "stdout",
          "text": [
            "\n",
            "--> Iteração: 0\n",
            "[0, 0.5, 2.1666666666666665, 1.5]\n",
            "[0.5, 0, 1.1666666666666665, 1.1666666666666665]\n",
            "[2.1666666666666665, 1.1666666666666665, 0, 1.5]\n",
            "[1.5, 1.1666666666666665, 1.5, 0]\n",
            "\n",
            "--> Iteração: 1\n",
            "[0, 0.25, 2.4166666666666665, 2.75]\n",
            "[0.25, 0, 0.9166666666666665, 0.9166666666666665]\n",
            "[2.4166666666666665, 0.9166666666666665, 0, 1.75]\n",
            "[2.75, 0.9166666666666665, 1.75, 0]\n",
            "\n",
            "--> Iteração: 2\n",
            "[0, 0.125, 2.708333333333333, 3.375]\n",
            "[0.125, 0, 0.45833333333333326, 0.45833333333333326]\n",
            "[2.708333333333333, 0.45833333333333326, 0, 2.375]\n",
            "[3.375, 0.45833333333333326, 2.375, 0]\n",
            "\n",
            "--> Iteração: 3\n",
            "[0, 0.0625, 2.6875, 3.6875]\n",
            "[0.0625, 0, 0.5625, 0.5625]\n",
            "[2.6875, 0.5625, 0, 2.1875]\n",
            "[3.6875, 0.5625, 2.1875, 0]\n"
          ]
        }
      ]
    },
    {
      "cell_type": "markdown",
      "source": [
        "# Transformar arquivo em grafo"
      ],
      "metadata": {
        "id": "9IEvs-n8wEpn"
      }
    },
    {
      "cell_type": "code",
      "source": [
        "def fileToData():\n",
        "  arquivo = open(\"/content/berlin52.tsp\", \"r\")\n",
        "  x_list = []\n",
        "  y_list = []\n",
        "  for linha in arquivo:\n",
        "    if linha[0].isdigit():\n",
        "      id, x, y = linha.split()\n",
        "      x_list.append(float(x))\n",
        "      y_list.append(float(y))\n",
        "  return x_list, y_list"
      ],
      "metadata": {
        "id": "BVFUT-uuwH84"
      },
      "execution_count": 9,
      "outputs": []
    },
    {
      "cell_type": "code",
      "source": [
        "x_list, y_list = fileToData()"
      ],
      "metadata": {
        "id": "yF9CMa92wvo4"
      },
      "execution_count": 10,
      "outputs": []
    },
    {
      "cell_type": "code",
      "source": [
        "plt.scatter(x_list, y_list)\n",
        "plt.show()"
      ],
      "metadata": {
        "colab": {
          "base_uri": "https://localhost:8080/",
          "height": 0
        },
        "id": "4dP75hL8wxRv",
        "outputId": "f52df328-ec81-4fb3-83a4-8b53e828996e"
      },
      "execution_count": 11,
      "outputs": [
        {
          "output_type": "display_data",
          "data": {
            "text/plain": [
              "<Figure size 432x288 with 1 Axes>"
            ],
            "image/png": "[encoded data removed]"
          },
          "metadata": {
            "needs_background": "light"
          }
        }
      ]
    },
    {
      "cell_type": "code",
      "source": [
        "def distancia(a, b):\n",
        "  a_array = np.array(a)\n",
        "  b_array = np.array(b)\n",
        "  return np.linalg.norm(a_array - b_array)"
      ],
      "metadata": {
        "id": "o_ihvD9k_Swq"
      },
      "execution_count": 12,
      "outputs": []
    },
    {
      "cell_type": "code",
      "source": [
        "def dataToGraph(x, y, feromonio_inicial=10**(-6)):\n",
        "  n = len(x)\n",
        "  grafo_dist = []\n",
        "  grafo_fero = []\n",
        "  for i in range(n):\n",
        "    dist = []\n",
        "    fero = []\n",
        "    for j in range(n):\n",
        "      if i == j:\n",
        "        dist.append(0)\n",
        "        fero.append(0)\n",
        "      else:\n",
        "        dist.append(distancia([x[i], y[i]], [x[j], y[j]]))\n",
        "        fero.append(feromonio_inicial)\n",
        "    grafo_dist.append(dist)\n",
        "    grafo_fero.append(fero)\n",
        "  return grafo_dist, grafo_fero"
      ],
      "metadata": {
        "id": "9tGA9Scf4ayr"
      },
      "execution_count": 13,
      "outputs": []
    },
    {
      "cell_type": "markdown",
      "source": [
        "# ACO-TSP"
      ],
      "metadata": {
        "id": "vrO8JZ8UDmLy"
      }
    },
    {
      "cell_type": "code",
      "source": [
        "def geraPopulacao_2(tamanho):\n",
        "  formigas = []\n",
        "  for i in range(tamanho):\n",
        "    formigas.append([i])\n",
        "  return formigas"
      ],
      "metadata": {
        "id": "tJUcsWZ-G-Pq"
      },
      "execution_count": 14,
      "outputs": []
    },
    {
      "cell_type": "code",
      "source": [
        "def getVerticesAdjacentes_2(grafo_dist, grafo_fero, aresta):\n",
        "  vizinhos = []\n",
        "  feromonio = []\n",
        "  len_vertices = len(grafo_dist[aresta])\n",
        "  for i in range(len_vertices):\n",
        "    if grafo_dist[aresta][i] > 0:\n",
        "      vizinhos.append(i)\n",
        "      feromonio.append(grafo_fero[aresta][i])\n",
        "  return vizinhos, feromonio"
      ],
      "metadata": {
        "id": "Z_ybYd6DJm74"
      },
      "execution_count": 15,
      "outputs": []
    },
    {
      "cell_type": "code",
      "source": [
        "def somaVizinhos(grafo, formiga, vizinhos, visibilidade, alfa, beta):\n",
        "  sum = 0\n",
        "  for vizinho in vizinhos:\n",
        "    sum += (getFeromonio(grafo, formiga, vizinho)**alfa) * (visibilidade**beta)\n",
        "  return sum"
      ],
      "metadata": {
        "id": "9GzAP57cL1iQ"
      },
      "execution_count": 16,
      "outputs": []
    },
    {
      "cell_type": "code",
      "source": [
        "def avaliaRota(formiga, grafo_dist):\n",
        "  acc = 0\n",
        "  n = len(formiga)\n",
        "  for i in range(n - 1):\n",
        "    acc += grafo_dist[formiga[i]][formiga[i+1]]\n",
        "  return acc"
      ],
      "metadata": {
        "id": "6cJOOPfxP9P0"
      },
      "execution_count": 17,
      "outputs": []
    },
    {
      "cell_type": "code",
      "source": [
        "def buscaMenorCaminho_2(grafo_dist, grafo_fero, p, alfa, beta, Q, b, quant_pop, max_it, print_info=True):\n",
        "  historico_sol = {'it': [], 'd': []}\n",
        "  quant_cidades = len(grafo_dist)\n",
        "  melhor_rota = []\n",
        "  melhor_custo = np.inf\n",
        "  t = 0\n",
        "  while t < max_it:\n",
        "    formigas = geraPopulacao_2(quant_pop)\n",
        "\n",
        "    for formiga in formigas:\n",
        "      historico = formiga.copy() #armazenando o historico do caminho\n",
        "\n",
        "      while len(formiga) != quant_cidades:\n",
        "        vizinhos_real, feromonios_real = getVerticesAdjacentes_2(grafo_dist, grafo_fero, formiga[-1])\n",
        "        vizinhos, feromonios = [], []\n",
        "        for vertice in range(len(vizinhos_real)): #removendo aqueles vizinhos que ja foram visitados\n",
        "          if vizinhos_real[vertice] not in historico:\n",
        "            vizinhos.append(vizinhos_real[vertice])\n",
        "            feromonios.append(feromonios_real[vertice])\n",
        "\n",
        "        proba = []\n",
        "        for vertice in range(len(vizinhos)): #gerando as probabilidades para cada vizinho\n",
        "          visibilidade = 1 / (grafo_dist[formiga[-1]][vizinhos[vertice]])\n",
        "          num = (getFeromonio(grafo_fero, formiga[-1], vizinhos[vertice])**alfa) * (visibilidade**beta)\n",
        "          deno = somaVizinhos(grafo_fero, formiga[-1], vizinhos, visibilidade, alfa, beta)\n",
        "          proba.append(num / deno)\n",
        "\n",
        "        escolha = vizinhos[np.random.choice(np.arange(len(vizinhos)), p = proba)]\n",
        "        formiga.append(escolha)\n",
        "        historico.append(escolha)\n",
        "\n",
        "      formiga.append(formiga[0])\n",
        "\n",
        "    melhor_iteracao = np.inf\n",
        "    for formiga in formigas: #verificando as rotas das formigas em busca de uma melhor solucao global e verificando a melhor na iteracao\n",
        "      rota = avaliaRota(formiga, grafo_dist)\n",
        "      if rota < melhor_custo:\n",
        "        melhor_custo = rota\n",
        "        melhor_rota = formiga\n",
        "      if rota < melhor_iteracao:\n",
        "        melhor_iteracao = rota\n",
        "    historico_sol['it'].append(t)\n",
        "    historico_sol['d'].append(melhor_iteracao)\n",
        "    \n",
        "    evaporaFeromonios(grafo_fero, 1 - p)\n",
        "\n",
        "    for formiga in formigas:\n",
        "      for vertice in range(len(formiga) - 1):\n",
        "        feromonio_depositado = Q/(len(formiga) - 1)\n",
        "        accFeromonio(grafo_fero, formiga[vertice], formiga[vertice+1], feromonio_depositado)\n",
        "    \n",
        "    #formiga elitista\n",
        "    for vertice in range(len(melhor_rota) - 1):\n",
        "      feromonio_depositado = Q/(len(melhor_rota) - 1)\n",
        "      accFeromonio(grafo_fero, melhor_rota[vertice], melhor_rota[vertice+1], b*feromonio_depositado)\n",
        "\n",
        "    if print_info:\n",
        "      print('--> Iteração:', t)\n",
        "      print(' Melhor custo:', melhor_custo, '|', melhor_rota, '\\n')\n",
        "    \n",
        "    t += 1\n",
        "\n",
        "  return melhor_custo, melhor_rota, historico_sol"
      ],
      "metadata": {
        "id": "j4d82oS3BZAx"
      },
      "execution_count": 18,
      "outputs": []
    },
    {
      "cell_type": "markdown",
      "source": [
        "## Teste com algumas cidades"
      ],
      "metadata": {
        "id": "LR-ijw-2Qlh8"
      }
    },
    {
      "cell_type": "code",
      "source": [
        "grafo_dist, grafo_fero = dataToGraph(x_list[:10], y_list[:10])"
      ],
      "metadata": {
        "id": "10OmGTNxBWeD"
      },
      "execution_count": 19,
      "outputs": []
    },
    {
      "cell_type": "code",
      "source": [
        "melhor_custo, melhor_rota, historico_sol = buscaMenorCaminho_2(grafo_dist=grafo_dist, grafo_fero=grafo_fero, p=0.5, alfa=1, beta=5, Q=100, b=5, quant_pop=len(grafo_dist), max_it=100, print_info=True)"
      ],
      "metadata": {
        "id": "y62KdAaPVY_o",
        "colab": {
          "base_uri": "https://localhost:8080/"
        },
        "outputId": "3afa2187-28df-43cc-c398-0a8ebce8acbf"
      },
      "execution_count": 20,
      "outputs": [
        {
          "output_type": "stream",
          "name": "stdout",
          "text": [
            "--> Iteração: 0\n",
            " Melhor custo: 4284.162184425919 | [5, 0, 4, 2, 7, 8, 9, 3, 1, 6, 5] \n",
            "\n",
            "--> Iteração: 1\n",
            " Melhor custo: 3818.4159859109973 | [4, 3, 9, 8, 7, 0, 5, 6, 1, 2, 4] \n",
            "\n",
            "--> Iteração: 2\n",
            " Melhor custo: 3818.4159859109973 | [4, 3, 9, 8, 7, 0, 5, 6, 1, 2, 4] \n",
            "\n",
            "--> Iteração: 3\n",
            " Melhor custo: 3555.865685688971 | [7, 2, 1, 6, 5, 0, 4, 3, 8, 9, 7] \n",
            "\n",
            "--> Iteração: 4\n",
            " Melhor custo: 3555.865685688971 | [7, 2, 1, 6, 5, 0, 4, 3, 8, 9, 7] \n",
            "\n",
            "--> Iteração: 5\n",
            " Melhor custo: 3555.865685688971 | [7, 2, 1, 6, 5, 0, 4, 3, 8, 9, 7] \n",
            "\n",
            "--> Iteração: 6\n",
            " Melhor custo: 3555.865685688971 | [7, 2, 1, 6, 5, 0, 4, 3, 8, 9, 7] \n",
            "\n",
            "--> Iteração: 7\n",
            " Melhor custo: 3555.865685688971 | [7, 2, 1, 6, 5, 0, 4, 3, 8, 9, 7] \n",
            "\n",
            "--> Iteração: 8\n",
            " Melhor custo: 3555.865685688971 | [7, 2, 1, 6, 5, 0, 4, 3, 8, 9, 7] \n",
            "\n",
            "--> Iteração: 9\n",
            " Melhor custo: 3317.7072509813697 | [2, 1, 6, 0, 7, 9, 8, 4, 5, 3, 2] \n",
            "\n",
            "--> Iteração: 10\n",
            " Melhor custo: 2990.6914089899797 | [9, 8, 4, 3, 5, 0, 6, 1, 2, 7, 9] \n",
            "\n",
            "--> Iteração: 11\n",
            " Melhor custo: 2990.6914089899797 | [9, 8, 4, 3, 5, 0, 6, 1, 2, 7, 9] \n",
            "\n",
            "--> Iteração: 12\n",
            " Melhor custo: 2990.6914089899797 | [9, 8, 4, 3, 5, 0, 6, 1, 2, 7, 9] \n",
            "\n",
            "--> Iteração: 13\n",
            " Melhor custo: 2990.6914089899797 | [9, 8, 4, 3, 5, 0, 6, 1, 2, 7, 9] \n",
            "\n",
            "--> Iteração: 14\n",
            " Melhor custo: 2990.6914089899788 | [6, 1, 2, 7, 9, 8, 4, 3, 5, 0, 6] \n",
            "\n",
            "--> Iteração: 15\n",
            " Melhor custo: 2923.6216047008784 | [9, 8, 7, 2, 1, 6, 0, 5, 3, 4, 9] \n",
            "\n",
            "--> Iteração: 16\n",
            " Melhor custo: 2923.6216047008784 | [9, 8, 7, 2, 1, 6, 0, 5, 3, 4, 9] \n",
            "\n",
            "--> Iteração: 17\n",
            " Melhor custo: 2923.6216047008784 | [9, 8, 7, 2, 1, 6, 0, 5, 3, 4, 9] \n",
            "\n",
            "--> Iteração: 18\n",
            " Melhor custo: 2923.6216047008784 | [9, 8, 7, 2, 1, 6, 0, 5, 3, 4, 9] \n",
            "\n",
            "--> Iteração: 19\n",
            " Melhor custo: 2923.6216047008784 | [9, 8, 7, 2, 1, 6, 0, 5, 3, 4, 9] \n",
            "\n",
            "--> Iteração: 20\n",
            " Melhor custo: 2923.6216047008784 | [9, 8, 7, 2, 1, 6, 0, 5, 3, 4, 9] \n",
            "\n",
            "--> Iteração: 21\n",
            " Melhor custo: 2923.621604700878 | [0, 6, 1, 2, 7, 8, 9, 4, 3, 5, 0] \n",
            "\n",
            "--> Iteração: 22\n",
            " Melhor custo: 2923.621604700878 | [0, 6, 1, 2, 7, 8, 9, 4, 3, 5, 0] \n",
            "\n",
            "--> Iteração: 23\n",
            " Melhor custo: 2923.621604700878 | [0, 6, 1, 2, 7, 8, 9, 4, 3, 5, 0] \n",
            "\n",
            "--> Iteração: 24\n",
            " Melhor custo: 2923.621604700878 | [0, 6, 1, 2, 7, 8, 9, 4, 3, 5, 0] \n",
            "\n",
            "--> Iteração: 25\n",
            " Melhor custo: 2923.621604700878 | [0, 6, 1, 2, 7, 8, 9, 4, 3, 5, 0] \n",
            "\n",
            "--> Iteração: 26\n",
            " Melhor custo: 2923.621604700878 | [0, 6, 1, 2, 7, 8, 9, 4, 3, 5, 0] \n",
            "\n",
            "--> Iteração: 27\n",
            " Melhor custo: 2923.621604700878 | [0, 6, 1, 2, 7, 8, 9, 4, 3, 5, 0] \n",
            "\n",
            "--> Iteração: 28\n",
            " Melhor custo: 2923.621604700878 | [0, 6, 1, 2, 7, 8, 9, 4, 3, 5, 0] \n",
            "\n",
            "--> Iteração: 29\n",
            " Melhor custo: 2923.621604700878 | [0, 6, 1, 2, 7, 8, 9, 4, 3, 5, 0] \n",
            "\n",
            "--> Iteração: 30\n",
            " Melhor custo: 2923.621604700878 | [0, 6, 1, 2, 7, 8, 9, 4, 3, 5, 0] \n",
            "\n",
            "--> Iteração: 31\n",
            " Melhor custo: 2923.621604700878 | [0, 6, 1, 2, 7, 8, 9, 4, 3, 5, 0] \n",
            "\n",
            "--> Iteração: 32\n",
            " Melhor custo: 2923.621604700878 | [0, 6, 1, 2, 7, 8, 9, 4, 3, 5, 0] \n",
            "\n",
            "--> Iteração: 33\n",
            " Melhor custo: 2923.621604700878 | [0, 6, 1, 2, 7, 8, 9, 4, 3, 5, 0] \n",
            "\n",
            "--> Iteração: 34\n",
            " Melhor custo: 2910.176349807225 | [6, 1, 0, 5, 3, 4, 9, 8, 7, 2, 6] \n",
            "\n",
            "--> Iteração: 35\n",
            " Melhor custo: 2910.176349807225 | [6, 1, 0, 5, 3, 4, 9, 8, 7, 2, 6] \n",
            "\n",
            "--> Iteração: 36\n",
            " Melhor custo: 2910.176349807225 | [6, 1, 0, 5, 3, 4, 9, 8, 7, 2, 6] \n",
            "\n",
            "--> Iteração: 37\n",
            " Melhor custo: 2910.176349807225 | [6, 1, 0, 5, 3, 4, 9, 8, 7, 2, 6] \n",
            "\n",
            "--> Iteração: 38\n",
            " Melhor custo: 2910.176349807225 | [6, 1, 0, 5, 3, 4, 9, 8, 7, 2, 6] \n",
            "\n",
            "--> Iteração: 39\n",
            " Melhor custo: 2910.176349807225 | [6, 1, 0, 5, 3, 4, 9, 8, 7, 2, 6] \n",
            "\n",
            "--> Iteração: 40\n",
            " Melhor custo: 2910.1763498072246 | [7, 2, 6, 1, 0, 5, 3, 4, 9, 8, 7] \n",
            "\n",
            "--> Iteração: 41\n",
            " Melhor custo: 2910.1763498072246 | [7, 2, 6, 1, 0, 5, 3, 4, 9, 8, 7] \n",
            "\n",
            "--> Iteração: 42\n",
            " Melhor custo: 2896.321890421431 | [4, 5, 0, 1, 6, 2, 7, 8, 9, 3, 4] \n",
            "\n",
            "--> Iteração: 43\n",
            " Melhor custo: 2896.321890421431 | [4, 5, 0, 1, 6, 2, 7, 8, 9, 3, 4] \n",
            "\n",
            "--> Iteração: 44\n",
            " Melhor custo: 2896.321890421431 | [4, 5, 0, 1, 6, 2, 7, 8, 9, 3, 4] \n",
            "\n",
            "--> Iteração: 45\n",
            " Melhor custo: 2896.321890421431 | [4, 5, 0, 1, 6, 2, 7, 8, 9, 3, 4] \n",
            "\n",
            "--> Iteração: 46\n",
            " Melhor custo: 2896.321890421431 | [4, 5, 0, 1, 6, 2, 7, 8, 9, 3, 4] \n",
            "\n",
            "--> Iteração: 47\n",
            " Melhor custo: 2896.321890421431 | [4, 5, 0, 1, 6, 2, 7, 8, 9, 3, 4] \n",
            "\n",
            "--> Iteração: 48\n",
            " Melhor custo: 2896.321890421431 | [4, 5, 0, 1, 6, 2, 7, 8, 9, 3, 4] \n",
            "\n",
            "--> Iteração: 49\n",
            " Melhor custo: 2896.3218904214305 | [0, 1, 6, 2, 7, 8, 9, 3, 4, 5, 0] \n",
            "\n",
            "--> Iteração: 50\n",
            " Melhor custo: 2896.3218904214305 | [0, 1, 6, 2, 7, 8, 9, 3, 4, 5, 0] \n",
            "\n",
            "--> Iteração: 51\n",
            " Melhor custo: 2896.3218904214305 | [0, 1, 6, 2, 7, 8, 9, 3, 4, 5, 0] \n",
            "\n",
            "--> Iteração: 52\n",
            " Melhor custo: 2896.3218904214305 | [0, 1, 6, 2, 7, 8, 9, 3, 4, 5, 0] \n",
            "\n",
            "--> Iteração: 53\n",
            " Melhor custo: 2896.3218904214305 | [0, 1, 6, 2, 7, 8, 9, 3, 4, 5, 0] \n",
            "\n",
            "--> Iteração: 54\n",
            " Melhor custo: 2896.3218904214305 | [0, 1, 6, 2, 7, 8, 9, 3, 4, 5, 0] \n",
            "\n",
            "--> Iteração: 55\n",
            " Melhor custo: 2896.3218904214305 | [0, 1, 6, 2, 7, 8, 9, 3, 4, 5, 0] \n",
            "\n",
            "--> Iteração: 56\n",
            " Melhor custo: 2896.3218904214305 | [0, 1, 6, 2, 7, 8, 9, 3, 4, 5, 0] \n",
            "\n",
            "--> Iteração: 57\n",
            " Melhor custo: 2896.3218904214305 | [0, 1, 6, 2, 7, 8, 9, 3, 4, 5, 0] \n",
            "\n",
            "--> Iteração: 58\n",
            " Melhor custo: 2826.498400267958 | [5, 4, 0, 1, 6, 2, 7, 8, 9, 3, 5] \n",
            "\n",
            "--> Iteração: 59\n",
            " Melhor custo: 2826.498400267958 | [5, 4, 0, 1, 6, 2, 7, 8, 9, 3, 5] \n",
            "\n",
            "--> Iteração: 60\n",
            " Melhor custo: 2826.498400267958 | [5, 4, 0, 1, 6, 2, 7, 8, 9, 3, 5] \n",
            "\n",
            "--> Iteração: 61\n",
            " Melhor custo: 2826.4984002679575 | [9, 3, 5, 4, 0, 1, 6, 2, 7, 8, 9] \n",
            "\n",
            "--> Iteração: 62\n",
            " Melhor custo: 2826.4984002679575 | [9, 3, 5, 4, 0, 1, 6, 2, 7, 8, 9] \n",
            "\n",
            "--> Iteração: 63\n",
            " Melhor custo: 2826.498400267957 | [7, 2, 6, 1, 0, 4, 5, 3, 9, 8, 7] \n",
            "\n",
            "--> Iteração: 64\n",
            " Melhor custo: 2826.498400267957 | [7, 2, 6, 1, 0, 4, 5, 3, 9, 8, 7] \n",
            "\n",
            "--> Iteração: 65\n",
            " Melhor custo: 2826.498400267957 | [7, 2, 6, 1, 0, 4, 5, 3, 9, 8, 7] \n",
            "\n",
            "--> Iteração: 66\n",
            " Melhor custo: 2826.498400267957 | [7, 2, 6, 1, 0, 4, 5, 3, 9, 8, 7] \n",
            "\n",
            "--> Iteração: 67\n",
            " Melhor custo: 2826.498400267957 | [7, 2, 6, 1, 0, 4, 5, 3, 9, 8, 7] \n",
            "\n",
            "--> Iteração: 68\n",
            " Melhor custo: 2826.498400267957 | [7, 2, 6, 1, 0, 4, 5, 3, 9, 8, 7] \n",
            "\n",
            "--> Iteração: 69\n",
            " Melhor custo: 2826.498400267957 | [7, 2, 6, 1, 0, 4, 5, 3, 9, 8, 7] \n",
            "\n",
            "--> Iteração: 70\n",
            " Melhor custo: 2826.498400267957 | [7, 2, 6, 1, 0, 4, 5, 3, 9, 8, 7] \n",
            "\n",
            "--> Iteração: 71\n",
            " Melhor custo: 2826.498400267957 | [7, 2, 6, 1, 0, 4, 5, 3, 9, 8, 7] \n",
            "\n",
            "--> Iteração: 72\n",
            " Melhor custo: 2826.498400267957 | [7, 2, 6, 1, 0, 4, 5, 3, 9, 8, 7] \n",
            "\n",
            "--> Iteração: 73\n",
            " Melhor custo: 2826.498400267957 | [7, 2, 6, 1, 0, 4, 5, 3, 9, 8, 7] \n",
            "\n",
            "--> Iteração: 74\n",
            " Melhor custo: 2826.498400267957 | [7, 2, 6, 1, 0, 4, 5, 3, 9, 8, 7] \n",
            "\n",
            "--> Iteração: 75\n",
            " Melhor custo: 2826.498400267957 | [7, 2, 6, 1, 0, 4, 5, 3, 9, 8, 7] \n",
            "\n",
            "--> Iteração: 76\n",
            " Melhor custo: 2826.498400267957 | [7, 2, 6, 1, 0, 4, 5, 3, 9, 8, 7] \n",
            "\n",
            "--> Iteração: 77\n",
            " Melhor custo: 2826.498400267957 | [7, 2, 6, 1, 0, 4, 5, 3, 9, 8, 7] \n",
            "\n",
            "--> Iteração: 78\n",
            " Melhor custo: 2826.498400267957 | [7, 2, 6, 1, 0, 4, 5, 3, 9, 8, 7] \n",
            "\n",
            "--> Iteração: 79\n",
            " Melhor custo: 2826.498400267957 | [7, 2, 6, 1, 0, 4, 5, 3, 9, 8, 7] \n",
            "\n",
            "--> Iteração: 80\n",
            " Melhor custo: 2826.498400267957 | [7, 2, 6, 1, 0, 4, 5, 3, 9, 8, 7] \n",
            "\n",
            "--> Iteração: 81\n",
            " Melhor custo: 2826.498400267957 | [7, 2, 6, 1, 0, 4, 5, 3, 9, 8, 7] \n",
            "\n",
            "--> Iteração: 82\n",
            " Melhor custo: 2826.498400267957 | [7, 2, 6, 1, 0, 4, 5, 3, 9, 8, 7] \n",
            "\n",
            "--> Iteração: 83\n",
            " Melhor custo: 2826.498400267957 | [7, 2, 6, 1, 0, 4, 5, 3, 9, 8, 7] \n",
            "\n",
            "--> Iteração: 84\n",
            " Melhor custo: 2826.498400267957 | [7, 2, 6, 1, 0, 4, 5, 3, 9, 8, 7] \n",
            "\n",
            "--> Iteração: 85\n",
            " Melhor custo: 2826.498400267957 | [7, 2, 6, 1, 0, 4, 5, 3, 9, 8, 7] \n",
            "\n",
            "--> Iteração: 86\n",
            " Melhor custo: 2826.498400267957 | [7, 2, 6, 1, 0, 4, 5, 3, 9, 8, 7] \n",
            "\n",
            "--> Iteração: 87\n",
            " Melhor custo: 2826.498400267957 | [7, 2, 6, 1, 0, 4, 5, 3, 9, 8, 7] \n",
            "\n",
            "--> Iteração: 88\n",
            " Melhor custo: 2826.498400267957 | [7, 2, 6, 1, 0, 4, 5, 3, 9, 8, 7] \n",
            "\n",
            "--> Iteração: 89\n",
            " Melhor custo: 2826.498400267957 | [7, 2, 6, 1, 0, 4, 5, 3, 9, 8, 7] \n",
            "\n",
            "--> Iteração: 90\n",
            " Melhor custo: 2826.498400267957 | [7, 2, 6, 1, 0, 4, 5, 3, 9, 8, 7] \n",
            "\n",
            "--> Iteração: 91\n",
            " Melhor custo: 2826.498400267957 | [7, 2, 6, 1, 0, 4, 5, 3, 9, 8, 7] \n",
            "\n",
            "--> Iteração: 92\n",
            " Melhor custo: 2826.498400267957 | [7, 2, 6, 1, 0, 4, 5, 3, 9, 8, 7] \n",
            "\n",
            "--> Iteração: 93\n",
            " Melhor custo: 2826.498400267957 | [7, 2, 6, 1, 0, 4, 5, 3, 9, 8, 7] \n",
            "\n",
            "--> Iteração: 94\n",
            " Melhor custo: 2826.498400267957 | [7, 2, 6, 1, 0, 4, 5, 3, 9, 8, 7] \n",
            "\n",
            "--> Iteração: 95\n",
            " Melhor custo: 2826.498400267957 | [7, 2, 6, 1, 0, 4, 5, 3, 9, 8, 7] \n",
            "\n",
            "--> Iteração: 96\n",
            " Melhor custo: 2826.498400267957 | [7, 2, 6, 1, 0, 4, 5, 3, 9, 8, 7] \n",
            "\n",
            "--> Iteração: 97\n",
            " Melhor custo: 2826.498400267957 | [7, 2, 6, 1, 0, 4, 5, 3, 9, 8, 7] \n",
            "\n",
            "--> Iteração: 98\n",
            " Melhor custo: 2826.498400267957 | [7, 2, 6, 1, 0, 4, 5, 3, 9, 8, 7] \n",
            "\n",
            "--> Iteração: 99\n",
            " Melhor custo: 2826.498400267957 | [7, 2, 6, 1, 0, 4, 5, 3, 9, 8, 7] \n",
            "\n"
          ]
        }
      ]
    },
    {
      "cell_type": "code",
      "source": [
        "plt.plot(historico_sol['it'], historico_sol['d'])\n",
        "plt.show()"
      ],
      "metadata": {
        "colab": {
          "base_uri": "https://localhost:8080/",
          "height": 265
        },
        "id": "KVZ3QaulprgR",
        "outputId": "7358984d-4561-4476-c07f-6da8aadf6750"
      },
      "execution_count": 21,
      "outputs": [
        {
          "output_type": "display_data",
          "data": {
            "text/plain": [
              "<Figure size 432x288 with 1 Axes>"
            ],
            "image/png": "[encoded data removed]"
          },
          "metadata": {
            "needs_background": "light"
          }
        }
      ]
    },
    {
      "cell_type": "code",
      "source": [
        "plt.scatter(x_list[:10], y_list[:10])\n",
        "n = len(melhor_rota)\n",
        "for i in range(n - 1):\n",
        "  p1_x = x_list[:10][melhor_rota[i]]\n",
        "  p1_y = y_list[:10][melhor_rota[i]]\n",
        "  p2_x = x_list[:10][melhor_rota[i+1]]\n",
        "  p2_y = y_list[:10][melhor_rota[i+1]]\n",
        "  plt.plot([p1_x, p2_x], [p1_y, p2_y], 'black')\n",
        "plt.plot([p1_x, p2_x], [p1_y, p2_y], 'black')\n",
        "plt.title('Melhor rota:' + str(melhor_custo))\n",
        "plt.show()"
      ],
      "metadata": {
        "colab": {
          "base_uri": "https://localhost:8080/",
          "height": 281
        },
        "id": "wnoHyHsfT0po",
        "outputId": "df1432e6-c530-4d9f-cc7f-871142444b12"
      },
      "execution_count": 22,
      "outputs": [
        {
          "output_type": "display_data",
          "data": {
            "text/plain": [
              "<Figure size 432x288 with 1 Axes>"
            ],
            "image/png": "[encoded data removed]"
          },
          "metadata": {
            "needs_background": "light"
          }
        }
      ]
    },
    {
      "cell_type": "markdown",
      "source": [
        "## Teste com todas cidades: 200 iterações"
      ],
      "metadata": {
        "id": "SOR--EgPQ1OG"
      }
    },
    {
      "cell_type": "code",
      "source": [
        "grafo_dist, grafo_fero = dataToGraph(x_list, y_list)"
      ],
      "metadata": {
        "id": "SSEovLJ2P0fg"
      },
      "execution_count": 23,
      "outputs": []
    },
    {
      "cell_type": "code",
      "source": [
        "melhor_custo, melhor_rota, historico_sol = buscaMenorCaminho_2(grafo_dist=grafo_dist, grafo_fero=grafo_fero, p=0.5, alfa=1, beta=5, Q=100, b=5, quant_pop=len(grafo_dist), max_it=200, print_info=True)"
      ],
      "metadata": {
        "colab": {
          "base_uri": "https://localhost:8080/"
        },
        "outputId": "5b9b342a-eb6a-4a36-e7ff-bb3eb46583fe",
        "id": "M7zgDkOfP0fg"
      },
      "execution_count": 24,
      "outputs": [
        {
          "output_type": "stream",
          "name": "stdout",
          "text": [
            "--> Iteração: 0\n",
            " Melhor custo: 22704.68701067158 | [29, 25, 6, 19, 44, 50, 26, 46, 12, 51, 45, 23, 48, 35, 43, 14, 37, 24, 18, 9, 8, 17, 2, 13, 32, 42, 1, 28, 49, 3, 15, 38, 36, 33, 30, 16, 4, 7, 40, 11, 5, 22, 41, 39, 21, 31, 0, 47, 27, 10, 34, 20, 29] \n",
            "\n",
            "--> Iteração: 1\n",
            " Melhor custo: 22704.68701067158 | [29, 25, 6, 19, 44, 50, 26, 46, 12, 51, 45, 23, 48, 35, 43, 14, 37, 24, 18, 9, 8, 17, 2, 13, 32, 42, 1, 28, 49, 3, 15, 38, 36, 33, 30, 16, 4, 7, 40, 11, 5, 22, 41, 39, 21, 31, 0, 47, 27, 10, 34, 20, 29] \n",
            "\n",
            "--> Iteração: 2\n",
            " Melhor custo: 22704.68701067158 | [29, 25, 6, 19, 44, 50, 26, 46, 12, 51, 45, 23, 48, 35, 43, 14, 37, 24, 18, 9, 8, 17, 2, 13, 32, 42, 1, 28, 49, 3, 15, 38, 36, 33, 30, 16, 4, 7, 40, 11, 5, 22, 41, 39, 21, 31, 0, 47, 27, 10, 34, 20, 29] \n",
            "\n",
            "--> Iteração: 3\n",
            " Melhor custo: 22704.68701067158 | [29, 25, 6, 19, 44, 50, 26, 46, 12, 51, 45, 23, 48, 35, 43, 14, 37, 24, 18, 9, 8, 17, 2, 13, 32, 42, 1, 28, 49, 3, 15, 38, 36, 33, 30, 16, 4, 7, 40, 11, 5, 22, 41, 39, 21, 31, 0, 47, 27, 10, 34, 20, 29] \n",
            "\n",
            "--> Iteração: 4\n",
            " Melhor custo: 22704.68701067158 | [29, 25, 6, 19, 44, 50, 26, 46, 12, 51, 45, 23, 48, 35, 43, 14, 37, 24, 18, 9, 8, 17, 2, 13, 32, 42, 1, 28, 49, 3, 15, 38, 36, 33, 30, 16, 4, 7, 40, 11, 5, 22, 41, 39, 21, 31, 0, 47, 27, 10, 34, 20, 29] \n",
            "\n",
            "--> Iteração: 5\n",
            " Melhor custo: 22704.68701067158 | [29, 25, 6, 19, 44, 50, 26, 46, 12, 51, 45, 23, 48, 35, 43, 14, 37, 24, 18, 9, 8, 17, 2, 13, 32, 42, 1, 28, 49, 3, 15, 38, 36, 33, 30, 16, 4, 7, 40, 11, 5, 22, 41, 39, 21, 31, 0, 47, 27, 10, 34, 20, 29] \n",
            "\n",
            "--> Iteração: 6\n",
            " Melhor custo: 22704.68701067158 | [29, 25, 6, 19, 44, 50, 26, 46, 12, 51, 45, 23, 48, 35, 43, 14, 37, 24, 18, 9, 8, 17, 2, 13, 32, 42, 1, 28, 49, 3, 15, 38, 36, 33, 30, 16, 4, 7, 40, 11, 5, 22, 41, 39, 21, 31, 0, 47, 27, 10, 34, 20, 29] \n",
            "\n",
            "--> Iteração: 7\n",
            " Melhor custo: 22704.68701067158 | [29, 25, 6, 19, 44, 50, 26, 46, 12, 51, 45, 23, 48, 35, 43, 14, 37, 24, 18, 9, 8, 17, 2, 13, 32, 42, 1, 28, 49, 3, 15, 38, 36, 33, 30, 16, 4, 7, 40, 11, 5, 22, 41, 39, 21, 31, 0, 47, 27, 10, 34, 20, 29] \n",
            "\n",
            "--> Iteração: 8\n",
            " Melhor custo: 22704.68701067158 | [29, 25, 6, 19, 44, 50, 26, 46, 12, 51, 45, 23, 48, 35, 43, 14, 37, 24, 18, 9, 8, 17, 2, 13, 32, 42, 1, 28, 49, 3, 15, 38, 36, 33, 30, 16, 4, 7, 40, 11, 5, 22, 41, 39, 21, 31, 0, 47, 27, 10, 34, 20, 29] \n",
            "\n",
            "--> Iteração: 9\n",
            " Melhor custo: 22704.68701067158 | [29, 25, 6, 19, 44, 50, 26, 46, 12, 51, 45, 23, 48, 35, 43, 14, 37, 24, 18, 9, 8, 17, 2, 13, 32, 42, 1, 28, 49, 3, 15, 38, 36, 33, 30, 16, 4, 7, 40, 11, 5, 22, 41, 39, 21, 31, 0, 47, 27, 10, 34, 20, 29] \n",
            "\n",
            "--> Iteração: 10\n",
            " Melhor custo: 22704.68701067158 | [29, 25, 6, 19, 44, 50, 26, 46, 12, 51, 45, 23, 48, 35, 43, 14, 37, 24, 18, 9, 8, 17, 2, 13, 32, 42, 1, 28, 49, 3, 15, 38, 36, 33, 30, 16, 4, 7, 40, 11, 5, 22, 41, 39, 21, 31, 0, 47, 27, 10, 34, 20, 29] \n",
            "\n",
            "--> Iteração: 11\n",
            " Melhor custo: 22704.68701067158 | [29, 25, 6, 19, 44, 50, 26, 46, 12, 51, 45, 23, 48, 35, 43, 14, 37, 24, 18, 9, 8, 17, 2, 13, 32, 42, 1, 28, 49, 3, 15, 38, 36, 33, 30, 16, 4, 7, 40, 11, 5, 22, 41, 39, 21, 31, 0, 47, 27, 10, 34, 20, 29] \n",
            "\n",
            "--> Iteração: 12\n",
            " Melhor custo: 22704.68701067158 | [29, 25, 6, 19, 44, 50, 26, 46, 12, 51, 45, 23, 48, 35, 43, 14, 37, 24, 18, 9, 8, 17, 2, 13, 32, 42, 1, 28, 49, 3, 15, 38, 36, 33, 30, 16, 4, 7, 40, 11, 5, 22, 41, 39, 21, 31, 0, 47, 27, 10, 34, 20, 29] \n",
            "\n",
            "--> Iteração: 13\n",
            " Melhor custo: 22704.68701067158 | [29, 25, 6, 19, 44, 50, 26, 46, 12, 51, 45, 23, 48, 35, 43, 14, 37, 24, 18, 9, 8, 17, 2, 13, 32, 42, 1, 28, 49, 3, 15, 38, 36, 33, 30, 16, 4, 7, 40, 11, 5, 22, 41, 39, 21, 31, 0, 47, 27, 10, 34, 20, 29] \n",
            "\n",
            "--> Iteração: 14\n",
            " Melhor custo: 22704.68701067158 | [29, 25, 6, 19, 44, 50, 26, 46, 12, 51, 45, 23, 48, 35, 43, 14, 37, 24, 18, 9, 8, 17, 2, 13, 32, 42, 1, 28, 49, 3, 15, 38, 36, 33, 30, 16, 4, 7, 40, 11, 5, 22, 41, 39, 21, 31, 0, 47, 27, 10, 34, 20, 29] \n",
            "\n",
            "--> Iteração: 15\n",
            " Melhor custo: 22704.68701067158 | [29, 25, 6, 19, 44, 50, 26, 46, 12, 51, 45, 23, 48, 35, 43, 14, 37, 24, 18, 9, 8, 17, 2, 13, 32, 42, 1, 28, 49, 3, 15, 38, 36, 33, 30, 16, 4, 7, 40, 11, 5, 22, 41, 39, 21, 31, 0, 47, 27, 10, 34, 20, 29] \n",
            "\n",
            "--> Iteração: 16\n",
            " Melhor custo: 22704.68701067158 | [29, 25, 6, 19, 44, 50, 26, 46, 12, 51, 45, 23, 48, 35, 43, 14, 37, 24, 18, 9, 8, 17, 2, 13, 32, 42, 1, 28, 49, 3, 15, 38, 36, 33, 30, 16, 4, 7, 40, 11, 5, 22, 41, 39, 21, 31, 0, 47, 27, 10, 34, 20, 29] \n",
            "\n",
            "--> Iteração: 17\n",
            " Melhor custo: 22704.68701067158 | [29, 25, 6, 19, 44, 50, 26, 46, 12, 51, 45, 23, 48, 35, 43, 14, 37, 24, 18, 9, 8, 17, 2, 13, 32, 42, 1, 28, 49, 3, 15, 38, 36, 33, 30, 16, 4, 7, 40, 11, 5, 22, 41, 39, 21, 31, 0, 47, 27, 10, 34, 20, 29] \n",
            "\n",
            "--> Iteração: 18\n",
            " Melhor custo: 22704.68701067158 | [29, 25, 6, 19, 44, 50, 26, 46, 12, 51, 45, 23, 48, 35, 43, 14, 37, 24, 18, 9, 8, 17, 2, 13, 32, 42, 1, 28, 49, 3, 15, 38, 36, 33, 30, 16, 4, 7, 40, 11, 5, 22, 41, 39, 21, 31, 0, 47, 27, 10, 34, 20, 29] \n",
            "\n",
            "--> Iteração: 19\n",
            " Melhor custo: 22704.68701067158 | [29, 25, 6, 19, 44, 50, 26, 46, 12, 51, 45, 23, 48, 35, 43, 14, 37, 24, 18, 9, 8, 17, 2, 13, 32, 42, 1, 28, 49, 3, 15, 38, 36, 33, 30, 16, 4, 7, 40, 11, 5, 22, 41, 39, 21, 31, 0, 47, 27, 10, 34, 20, 29] \n",
            "\n",
            "--> Iteração: 20\n",
            " Melhor custo: 22704.68701067158 | [29, 25, 6, 19, 44, 50, 26, 46, 12, 51, 45, 23, 48, 35, 43, 14, 37, 24, 18, 9, 8, 17, 2, 13, 32, 42, 1, 28, 49, 3, 15, 38, 36, 33, 30, 16, 4, 7, 40, 11, 5, 22, 41, 39, 21, 31, 0, 47, 27, 10, 34, 20, 29] \n",
            "\n",
            "--> Iteração: 21\n",
            " Melhor custo: 22704.68701067158 | [29, 25, 6, 19, 44, 50, 26, 46, 12, 51, 45, 23, 48, 35, 43, 14, 37, 24, 18, 9, 8, 17, 2, 13, 32, 42, 1, 28, 49, 3, 15, 38, 36, 33, 30, 16, 4, 7, 40, 11, 5, 22, 41, 39, 21, 31, 0, 47, 27, 10, 34, 20, 29] \n",
            "\n",
            "--> Iteração: 22\n",
            " Melhor custo: 22704.68701067158 | [29, 25, 6, 19, 44, 50, 26, 46, 12, 51, 45, 23, 48, 35, 43, 14, 37, 24, 18, 9, 8, 17, 2, 13, 32, 42, 1, 28, 49, 3, 15, 38, 36, 33, 30, 16, 4, 7, 40, 11, 5, 22, 41, 39, 21, 31, 0, 47, 27, 10, 34, 20, 29] \n",
            "\n",
            "--> Iteração: 23\n",
            " Melhor custo: 22704.68701067158 | [29, 25, 6, 19, 44, 50, 26, 46, 12, 51, 45, 23, 48, 35, 43, 14, 37, 24, 18, 9, 8, 17, 2, 13, 32, 42, 1, 28, 49, 3, 15, 38, 36, 33, 30, 16, 4, 7, 40, 11, 5, 22, 41, 39, 21, 31, 0, 47, 27, 10, 34, 20, 29] \n",
            "\n",
            "--> Iteração: 24\n",
            " Melhor custo: 22704.68701067158 | [29, 25, 6, 19, 44, 50, 26, 46, 12, 51, 45, 23, 48, 35, 43, 14, 37, 24, 18, 9, 8, 17, 2, 13, 32, 42, 1, 28, 49, 3, 15, 38, 36, 33, 30, 16, 4, 7, 40, 11, 5, 22, 41, 39, 21, 31, 0, 47, 27, 10, 34, 20, 29] \n",
            "\n",
            "--> Iteração: 25\n",
            " Melhor custo: 22704.68701067158 | [29, 25, 6, 19, 44, 50, 26, 46, 12, 51, 45, 23, 48, 35, 43, 14, 37, 24, 18, 9, 8, 17, 2, 13, 32, 42, 1, 28, 49, 3, 15, 38, 36, 33, 30, 16, 4, 7, 40, 11, 5, 22, 41, 39, 21, 31, 0, 47, 27, 10, 34, 20, 29] \n",
            "\n",
            "--> Iteração: 26\n",
            " Melhor custo: 22704.68701067158 | [29, 25, 6, 19, 44, 50, 26, 46, 12, 51, 45, 23, 48, 35, 43, 14, 37, 24, 18, 9, 8, 17, 2, 13, 32, 42, 1, 28, 49, 3, 15, 38, 36, 33, 30, 16, 4, 7, 40, 11, 5, 22, 41, 39, 21, 31, 0, 47, 27, 10, 34, 20, 29] \n",
            "\n",
            "--> Iteração: 27\n",
            " Melhor custo: 22704.68701067158 | [29, 25, 6, 19, 44, 50, 26, 46, 12, 51, 45, 23, 48, 35, 43, 14, 37, 24, 18, 9, 8, 17, 2, 13, 32, 42, 1, 28, 49, 3, 15, 38, 36, 33, 30, 16, 4, 7, 40, 11, 5, 22, 41, 39, 21, 31, 0, 47, 27, 10, 34, 20, 29] \n",
            "\n",
            "--> Iteração: 28\n",
            " Melhor custo: 22704.68701067158 | [29, 25, 6, 19, 44, 50, 26, 46, 12, 51, 45, 23, 48, 35, 43, 14, 37, 24, 18, 9, 8, 17, 2, 13, 32, 42, 1, 28, 49, 3, 15, 38, 36, 33, 30, 16, 4, 7, 40, 11, 5, 22, 41, 39, 21, 31, 0, 47, 27, 10, 34, 20, 29] \n",
            "\n",
            "--> Iteração: 29\n",
            " Melhor custo: 22704.68701067158 | [29, 25, 6, 19, 44, 50, 26, 46, 12, 51, 45, 23, 48, 35, 43, 14, 37, 24, 18, 9, 8, 17, 2, 13, 32, 42, 1, 28, 49, 3, 15, 38, 36, 33, 30, 16, 4, 7, 40, 11, 5, 22, 41, 39, 21, 31, 0, 47, 27, 10, 34, 20, 29] \n",
            "\n",
            "--> Iteração: 30\n",
            " Melhor custo: 22704.68701067158 | [29, 25, 6, 19, 44, 50, 26, 46, 12, 51, 45, 23, 48, 35, 43, 14, 37, 24, 18, 9, 8, 17, 2, 13, 32, 42, 1, 28, 49, 3, 15, 38, 36, 33, 30, 16, 4, 7, 40, 11, 5, 22, 41, 39, 21, 31, 0, 47, 27, 10, 34, 20, 29] \n",
            "\n",
            "--> Iteração: 31\n",
            " Melhor custo: 22704.68701067158 | [29, 25, 6, 19, 44, 50, 26, 46, 12, 51, 45, 23, 48, 35, 43, 14, 37, 24, 18, 9, 8, 17, 2, 13, 32, 42, 1, 28, 49, 3, 15, 38, 36, 33, 30, 16, 4, 7, 40, 11, 5, 22, 41, 39, 21, 31, 0, 47, 27, 10, 34, 20, 29] \n",
            "\n",
            "--> Iteração: 32\n",
            " Melhor custo: 22704.68701067158 | [29, 25, 6, 19, 44, 50, 26, 46, 12, 51, 45, 23, 48, 35, 43, 14, 37, 24, 18, 9, 8, 17, 2, 13, 32, 42, 1, 28, 49, 3, 15, 38, 36, 33, 30, 16, 4, 7, 40, 11, 5, 22, 41, 39, 21, 31, 0, 47, 27, 10, 34, 20, 29] \n",
            "\n",
            "--> Iteração: 33\n",
            " Melhor custo: 22704.68701067158 | [29, 25, 6, 19, 44, 50, 26, 46, 12, 51, 45, 23, 48, 35, 43, 14, 37, 24, 18, 9, 8, 17, 2, 13, 32, 42, 1, 28, 49, 3, 15, 38, 36, 33, 30, 16, 4, 7, 40, 11, 5, 22, 41, 39, 21, 31, 0, 47, 27, 10, 34, 20, 29] \n",
            "\n",
            "--> Iteração: 34\n",
            " Melhor custo: 22704.68701067158 | [29, 25, 6, 19, 44, 50, 26, 46, 12, 51, 45, 23, 48, 35, 43, 14, 37, 24, 18, 9, 8, 17, 2, 13, 32, 42, 1, 28, 49, 3, 15, 38, 36, 33, 30, 16, 4, 7, 40, 11, 5, 22, 41, 39, 21, 31, 0, 47, 27, 10, 34, 20, 29] \n",
            "\n",
            "--> Iteração: 35\n",
            " Melhor custo: 22704.68701067158 | [29, 25, 6, 19, 44, 50, 26, 46, 12, 51, 45, 23, 48, 35, 43, 14, 37, 24, 18, 9, 8, 17, 2, 13, 32, 42, 1, 28, 49, 3, 15, 38, 36, 33, 30, 16, 4, 7, 40, 11, 5, 22, 41, 39, 21, 31, 0, 47, 27, 10, 34, 20, 29] \n",
            "\n",
            "--> Iteração: 36\n",
            " Melhor custo: 22704.68701067158 | [29, 25, 6, 19, 44, 50, 26, 46, 12, 51, 45, 23, 48, 35, 43, 14, 37, 24, 18, 9, 8, 17, 2, 13, 32, 42, 1, 28, 49, 3, 15, 38, 36, 33, 30, 16, 4, 7, 40, 11, 5, 22, 41, 39, 21, 31, 0, 47, 27, 10, 34, 20, 29] \n",
            "\n",
            "--> Iteração: 37\n",
            " Melhor custo: 22704.68701067158 | [29, 25, 6, 19, 44, 50, 26, 46, 12, 51, 45, 23, 48, 35, 43, 14, 37, 24, 18, 9, 8, 17, 2, 13, 32, 42, 1, 28, 49, 3, 15, 38, 36, 33, 30, 16, 4, 7, 40, 11, 5, 22, 41, 39, 21, 31, 0, 47, 27, 10, 34, 20, 29] \n",
            "\n",
            "--> Iteração: 38\n",
            " Melhor custo: 22704.68701067158 | [29, 25, 6, 19, 44, 50, 26, 46, 12, 51, 45, 23, 48, 35, 43, 14, 37, 24, 18, 9, 8, 17, 2, 13, 32, 42, 1, 28, 49, 3, 15, 38, 36, 33, 30, 16, 4, 7, 40, 11, 5, 22, 41, 39, 21, 31, 0, 47, 27, 10, 34, 20, 29] \n",
            "\n",
            "--> Iteração: 39\n",
            " Melhor custo: 22704.68701067158 | [29, 25, 6, 19, 44, 50, 26, 46, 12, 51, 45, 23, 48, 35, 43, 14, 37, 24, 18, 9, 8, 17, 2, 13, 32, 42, 1, 28, 49, 3, 15, 38, 36, 33, 30, 16, 4, 7, 40, 11, 5, 22, 41, 39, 21, 31, 0, 47, 27, 10, 34, 20, 29] \n",
            "\n",
            "--> Iteração: 40\n",
            " Melhor custo: 22704.68701067158 | [29, 25, 6, 19, 44, 50, 26, 46, 12, 51, 45, 23, 48, 35, 43, 14, 37, 24, 18, 9, 8, 17, 2, 13, 32, 42, 1, 28, 49, 3, 15, 38, 36, 33, 30, 16, 4, 7, 40, 11, 5, 22, 41, 39, 21, 31, 0, 47, 27, 10, 34, 20, 29] \n",
            "\n",
            "--> Iteração: 41\n",
            " Melhor custo: 22704.68701067158 | [29, 25, 6, 19, 44, 50, 26, 46, 12, 51, 45, 23, 48, 35, 43, 14, 37, 24, 18, 9, 8, 17, 2, 13, 32, 42, 1, 28, 49, 3, 15, 38, 36, 33, 30, 16, 4, 7, 40, 11, 5, 22, 41, 39, 21, 31, 0, 47, 27, 10, 34, 20, 29] \n",
            "\n",
            "--> Iteração: 42\n",
            " Melhor custo: 22704.68701067158 | [29, 25, 6, 19, 44, 50, 26, 46, 12, 51, 45, 23, 48, 35, 43, 14, 37, 24, 18, 9, 8, 17, 2, 13, 32, 42, 1, 28, 49, 3, 15, 38, 36, 33, 30, 16, 4, 7, 40, 11, 5, 22, 41, 39, 21, 31, 0, 47, 27, 10, 34, 20, 29] \n",
            "\n",
            "--> Iteração: 43\n",
            " Melhor custo: 22704.68701067158 | [29, 25, 6, 19, 44, 50, 26, 46, 12, 51, 45, 23, 48, 35, 43, 14, 37, 24, 18, 9, 8, 17, 2, 13, 32, 42, 1, 28, 49, 3, 15, 38, 36, 33, 30, 16, 4, 7, 40, 11, 5, 22, 41, 39, 21, 31, 0, 47, 27, 10, 34, 20, 29] \n",
            "\n",
            "--> Iteração: 44\n",
            " Melhor custo: 22704.68701067158 | [29, 25, 6, 19, 44, 50, 26, 46, 12, 51, 45, 23, 48, 35, 43, 14, 37, 24, 18, 9, 8, 17, 2, 13, 32, 42, 1, 28, 49, 3, 15, 38, 36, 33, 30, 16, 4, 7, 40, 11, 5, 22, 41, 39, 21, 31, 0, 47, 27, 10, 34, 20, 29] \n",
            "\n",
            "--> Iteração: 45\n",
            " Melhor custo: 22704.68701067158 | [29, 25, 6, 19, 44, 50, 26, 46, 12, 51, 45, 23, 48, 35, 43, 14, 37, 24, 18, 9, 8, 17, 2, 13, 32, 42, 1, 28, 49, 3, 15, 38, 36, 33, 30, 16, 4, 7, 40, 11, 5, 22, 41, 39, 21, 31, 0, 47, 27, 10, 34, 20, 29] \n",
            "\n",
            "--> Iteração: 46\n",
            " Melhor custo: 22704.68701067158 | [29, 25, 6, 19, 44, 50, 26, 46, 12, 51, 45, 23, 48, 35, 43, 14, 37, 24, 18, 9, 8, 17, 2, 13, 32, 42, 1, 28, 49, 3, 15, 38, 36, 33, 30, 16, 4, 7, 40, 11, 5, 22, 41, 39, 21, 31, 0, 47, 27, 10, 34, 20, 29] \n",
            "\n",
            "--> Iteração: 47\n",
            " Melhor custo: 22704.68701067158 | [29, 25, 6, 19, 44, 50, 26, 46, 12, 51, 45, 23, 48, 35, 43, 14, 37, 24, 18, 9, 8, 17, 2, 13, 32, 42, 1, 28, 49, 3, 15, 38, 36, 33, 30, 16, 4, 7, 40, 11, 5, 22, 41, 39, 21, 31, 0, 47, 27, 10, 34, 20, 29] \n",
            "\n",
            "--> Iteração: 48\n",
            " Melhor custo: 22704.68701067158 | [29, 25, 6, 19, 44, 50, 26, 46, 12, 51, 45, 23, 48, 35, 43, 14, 37, 24, 18, 9, 8, 17, 2, 13, 32, 42, 1, 28, 49, 3, 15, 38, 36, 33, 30, 16, 4, 7, 40, 11, 5, 22, 41, 39, 21, 31, 0, 47, 27, 10, 34, 20, 29] \n",
            "\n",
            "--> Iteração: 49\n",
            " Melhor custo: 22704.68701067158 | [29, 25, 6, 19, 44, 50, 26, 46, 12, 51, 45, 23, 48, 35, 43, 14, 37, 24, 18, 9, 8, 17, 2, 13, 32, 42, 1, 28, 49, 3, 15, 38, 36, 33, 30, 16, 4, 7, 40, 11, 5, 22, 41, 39, 21, 31, 0, 47, 27, 10, 34, 20, 29] \n",
            "\n",
            "--> Iteração: 50\n",
            " Melhor custo: 22704.68701067158 | [29, 25, 6, 19, 44, 50, 26, 46, 12, 51, 45, 23, 48, 35, 43, 14, 37, 24, 18, 9, 8, 17, 2, 13, 32, 42, 1, 28, 49, 3, 15, 38, 36, 33, 30, 16, 4, 7, 40, 11, 5, 22, 41, 39, 21, 31, 0, 47, 27, 10, 34, 20, 29] \n",
            "\n",
            "--> Iteração: 51\n",
            " Melhor custo: 22704.68701067158 | [29, 25, 6, 19, 44, 50, 26, 46, 12, 51, 45, 23, 48, 35, 43, 14, 37, 24, 18, 9, 8, 17, 2, 13, 32, 42, 1, 28, 49, 3, 15, 38, 36, 33, 30, 16, 4, 7, 40, 11, 5, 22, 41, 39, 21, 31, 0, 47, 27, 10, 34, 20, 29] \n",
            "\n",
            "--> Iteração: 52\n",
            " Melhor custo: 22704.68701067158 | [29, 25, 6, 19, 44, 50, 26, 46, 12, 51, 45, 23, 48, 35, 43, 14, 37, 24, 18, 9, 8, 17, 2, 13, 32, 42, 1, 28, 49, 3, 15, 38, 36, 33, 30, 16, 4, 7, 40, 11, 5, 22, 41, 39, 21, 31, 0, 47, 27, 10, 34, 20, 29] \n",
            "\n",
            "--> Iteração: 53\n",
            " Melhor custo: 22704.68701067158 | [29, 25, 6, 19, 44, 50, 26, 46, 12, 51, 45, 23, 48, 35, 43, 14, 37, 24, 18, 9, 8, 17, 2, 13, 32, 42, 1, 28, 49, 3, 15, 38, 36, 33, 30, 16, 4, 7, 40, 11, 5, 22, 41, 39, 21, 31, 0, 47, 27, 10, 34, 20, 29] \n",
            "\n",
            "--> Iteração: 54\n",
            " Melhor custo: 22704.68701067158 | [29, 25, 6, 19, 44, 50, 26, 46, 12, 51, 45, 23, 48, 35, 43, 14, 37, 24, 18, 9, 8, 17, 2, 13, 32, 42, 1, 28, 49, 3, 15, 38, 36, 33, 30, 16, 4, 7, 40, 11, 5, 22, 41, 39, 21, 31, 0, 47, 27, 10, 34, 20, 29] \n",
            "\n",
            "--> Iteração: 55\n",
            " Melhor custo: 22704.68701067158 | [29, 25, 6, 19, 44, 50, 26, 46, 12, 51, 45, 23, 48, 35, 43, 14, 37, 24, 18, 9, 8, 17, 2, 13, 32, 42, 1, 28, 49, 3, 15, 38, 36, 33, 30, 16, 4, 7, 40, 11, 5, 22, 41, 39, 21, 31, 0, 47, 27, 10, 34, 20, 29] \n",
            "\n",
            "--> Iteração: 56\n",
            " Melhor custo: 22704.68701067158 | [29, 25, 6, 19, 44, 50, 26, 46, 12, 51, 45, 23, 48, 35, 43, 14, 37, 24, 18, 9, 8, 17, 2, 13, 32, 42, 1, 28, 49, 3, 15, 38, 36, 33, 30, 16, 4, 7, 40, 11, 5, 22, 41, 39, 21, 31, 0, 47, 27, 10, 34, 20, 29] \n",
            "\n",
            "--> Iteração: 57\n",
            " Melhor custo: 22704.68701067158 | [29, 25, 6, 19, 44, 50, 26, 46, 12, 51, 45, 23, 48, 35, 43, 14, 37, 24, 18, 9, 8, 17, 2, 13, 32, 42, 1, 28, 49, 3, 15, 38, 36, 33, 30, 16, 4, 7, 40, 11, 5, 22, 41, 39, 21, 31, 0, 47, 27, 10, 34, 20, 29] \n",
            "\n",
            "--> Iteração: 58\n",
            " Melhor custo: 22704.68701067158 | [29, 25, 6, 19, 44, 50, 26, 46, 12, 51, 45, 23, 48, 35, 43, 14, 37, 24, 18, 9, 8, 17, 2, 13, 32, 42, 1, 28, 49, 3, 15, 38, 36, 33, 30, 16, 4, 7, 40, 11, 5, 22, 41, 39, 21, 31, 0, 47, 27, 10, 34, 20, 29] \n",
            "\n",
            "--> Iteração: 59\n",
            " Melhor custo: 22704.68701067158 | [29, 25, 6, 19, 44, 50, 26, 46, 12, 51, 45, 23, 48, 35, 43, 14, 37, 24, 18, 9, 8, 17, 2, 13, 32, 42, 1, 28, 49, 3, 15, 38, 36, 33, 30, 16, 4, 7, 40, 11, 5, 22, 41, 39, 21, 31, 0, 47, 27, 10, 34, 20, 29] \n",
            "\n",
            "--> Iteração: 60\n",
            " Melhor custo: 22704.68701067158 | [29, 25, 6, 19, 44, 50, 26, 46, 12, 51, 45, 23, 48, 35, 43, 14, 37, 24, 18, 9, 8, 17, 2, 13, 32, 42, 1, 28, 49, 3, 15, 38, 36, 33, 30, 16, 4, 7, 40, 11, 5, 22, 41, 39, 21, 31, 0, 47, 27, 10, 34, 20, 29] \n",
            "\n",
            "--> Iteração: 61\n",
            " Melhor custo: 22704.68701067158 | [29, 25, 6, 19, 44, 50, 26, 46, 12, 51, 45, 23, 48, 35, 43, 14, 37, 24, 18, 9, 8, 17, 2, 13, 32, 42, 1, 28, 49, 3, 15, 38, 36, 33, 30, 16, 4, 7, 40, 11, 5, 22, 41, 39, 21, 31, 0, 47, 27, 10, 34, 20, 29] \n",
            "\n",
            "--> Iteração: 62\n",
            " Melhor custo: 22704.68701067158 | [29, 25, 6, 19, 44, 50, 26, 46, 12, 51, 45, 23, 48, 35, 43, 14, 37, 24, 18, 9, 8, 17, 2, 13, 32, 42, 1, 28, 49, 3, 15, 38, 36, 33, 30, 16, 4, 7, 40, 11, 5, 22, 41, 39, 21, 31, 0, 47, 27, 10, 34, 20, 29] \n",
            "\n",
            "--> Iteração: 63\n",
            " Melhor custo: 22704.68701067158 | [29, 25, 6, 19, 44, 50, 26, 46, 12, 51, 45, 23, 48, 35, 43, 14, 37, 24, 18, 9, 8, 17, 2, 13, 32, 42, 1, 28, 49, 3, 15, 38, 36, 33, 30, 16, 4, 7, 40, 11, 5, 22, 41, 39, 21, 31, 0, 47, 27, 10, 34, 20, 29] \n",
            "\n",
            "--> Iteração: 64\n",
            " Melhor custo: 22704.68701067158 | [29, 25, 6, 19, 44, 50, 26, 46, 12, 51, 45, 23, 48, 35, 43, 14, 37, 24, 18, 9, 8, 17, 2, 13, 32, 42, 1, 28, 49, 3, 15, 38, 36, 33, 30, 16, 4, 7, 40, 11, 5, 22, 41, 39, 21, 31, 0, 47, 27, 10, 34, 20, 29] \n",
            "\n",
            "--> Iteração: 65\n",
            " Melhor custo: 22704.68701067158 | [29, 25, 6, 19, 44, 50, 26, 46, 12, 51, 45, 23, 48, 35, 43, 14, 37, 24, 18, 9, 8, 17, 2, 13, 32, 42, 1, 28, 49, 3, 15, 38, 36, 33, 30, 16, 4, 7, 40, 11, 5, 22, 41, 39, 21, 31, 0, 47, 27, 10, 34, 20, 29] \n",
            "\n",
            "--> Iteração: 66\n",
            " Melhor custo: 22704.68701067158 | [29, 25, 6, 19, 44, 50, 26, 46, 12, 51, 45, 23, 48, 35, 43, 14, 37, 24, 18, 9, 8, 17, 2, 13, 32, 42, 1, 28, 49, 3, 15, 38, 36, 33, 30, 16, 4, 7, 40, 11, 5, 22, 41, 39, 21, 31, 0, 47, 27, 10, 34, 20, 29] \n",
            "\n",
            "--> Iteração: 67\n",
            " Melhor custo: 22704.68701067158 | [29, 25, 6, 19, 44, 50, 26, 46, 12, 51, 45, 23, 48, 35, 43, 14, 37, 24, 18, 9, 8, 17, 2, 13, 32, 42, 1, 28, 49, 3, 15, 38, 36, 33, 30, 16, 4, 7, 40, 11, 5, 22, 41, 39, 21, 31, 0, 47, 27, 10, 34, 20, 29] \n",
            "\n",
            "--> Iteração: 68\n",
            " Melhor custo: 22704.68701067158 | [29, 25, 6, 19, 44, 50, 26, 46, 12, 51, 45, 23, 48, 35, 43, 14, 37, 24, 18, 9, 8, 17, 2, 13, 32, 42, 1, 28, 49, 3, 15, 38, 36, 33, 30, 16, 4, 7, 40, 11, 5, 22, 41, 39, 21, 31, 0, 47, 27, 10, 34, 20, 29] \n",
            "\n",
            "--> Iteração: 69\n",
            " Melhor custo: 22704.68701067158 | [29, 25, 6, 19, 44, 50, 26, 46, 12, 51, 45, 23, 48, 35, 43, 14, 37, 24, 18, 9, 8, 17, 2, 13, 32, 42, 1, 28, 49, 3, 15, 38, 36, 33, 30, 16, 4, 7, 40, 11, 5, 22, 41, 39, 21, 31, 0, 47, 27, 10, 34, 20, 29] \n",
            "\n",
            "--> Iteração: 70\n",
            " Melhor custo: 22704.68701067158 | [29, 25, 6, 19, 44, 50, 26, 46, 12, 51, 45, 23, 48, 35, 43, 14, 37, 24, 18, 9, 8, 17, 2, 13, 32, 42, 1, 28, 49, 3, 15, 38, 36, 33, 30, 16, 4, 7, 40, 11, 5, 22, 41, 39, 21, 31, 0, 47, 27, 10, 34, 20, 29] \n",
            "\n",
            "--> Iteração: 71\n",
            " Melhor custo: 22704.68701067158 | [29, 25, 6, 19, 44, 50, 26, 46, 12, 51, 45, 23, 48, 35, 43, 14, 37, 24, 18, 9, 8, 17, 2, 13, 32, 42, 1, 28, 49, 3, 15, 38, 36, 33, 30, 16, 4, 7, 40, 11, 5, 22, 41, 39, 21, 31, 0, 47, 27, 10, 34, 20, 29] \n",
            "\n",
            "--> Iteração: 72\n",
            " Melhor custo: 22704.68701067158 | [29, 25, 6, 19, 44, 50, 26, 46, 12, 51, 45, 23, 48, 35, 43, 14, 37, 24, 18, 9, 8, 17, 2, 13, 32, 42, 1, 28, 49, 3, 15, 38, 36, 33, 30, 16, 4, 7, 40, 11, 5, 22, 41, 39, 21, 31, 0, 47, 27, 10, 34, 20, 29] \n",
            "\n",
            "--> Iteração: 73\n",
            " Melhor custo: 22704.68701067158 | [29, 25, 6, 19, 44, 50, 26, 46, 12, 51, 45, 23, 48, 35, 43, 14, 37, 24, 18, 9, 8, 17, 2, 13, 32, 42, 1, 28, 49, 3, 15, 38, 36, 33, 30, 16, 4, 7, 40, 11, 5, 22, 41, 39, 21, 31, 0, 47, 27, 10, 34, 20, 29] \n",
            "\n",
            "--> Iteração: 74\n",
            " Melhor custo: 22704.68701067158 | [29, 25, 6, 19, 44, 50, 26, 46, 12, 51, 45, 23, 48, 35, 43, 14, 37, 24, 18, 9, 8, 17, 2, 13, 32, 42, 1, 28, 49, 3, 15, 38, 36, 33, 30, 16, 4, 7, 40, 11, 5, 22, 41, 39, 21, 31, 0, 47, 27, 10, 34, 20, 29] \n",
            "\n",
            "--> Iteração: 75\n",
            " Melhor custo: 22704.68701067158 | [29, 25, 6, 19, 44, 50, 26, 46, 12, 51, 45, 23, 48, 35, 43, 14, 37, 24, 18, 9, 8, 17, 2, 13, 32, 42, 1, 28, 49, 3, 15, 38, 36, 33, 30, 16, 4, 7, 40, 11, 5, 22, 41, 39, 21, 31, 0, 47, 27, 10, 34, 20, 29] \n",
            "\n",
            "--> Iteração: 76\n",
            " Melhor custo: 22704.68701067158 | [29, 25, 6, 19, 44, 50, 26, 46, 12, 51, 45, 23, 48, 35, 43, 14, 37, 24, 18, 9, 8, 17, 2, 13, 32, 42, 1, 28, 49, 3, 15, 38, 36, 33, 30, 16, 4, 7, 40, 11, 5, 22, 41, 39, 21, 31, 0, 47, 27, 10, 34, 20, 29] \n",
            "\n",
            "--> Iteração: 77\n",
            " Melhor custo: 22704.68701067158 | [29, 25, 6, 19, 44, 50, 26, 46, 12, 51, 45, 23, 48, 35, 43, 14, 37, 24, 18, 9, 8, 17, 2, 13, 32, 42, 1, 28, 49, 3, 15, 38, 36, 33, 30, 16, 4, 7, 40, 11, 5, 22, 41, 39, 21, 31, 0, 47, 27, 10, 34, 20, 29] \n",
            "\n",
            "--> Iteração: 78\n",
            " Melhor custo: 22704.68701067158 | [29, 25, 6, 19, 44, 50, 26, 46, 12, 51, 45, 23, 48, 35, 43, 14, 37, 24, 18, 9, 8, 17, 2, 13, 32, 42, 1, 28, 49, 3, 15, 38, 36, 33, 30, 16, 4, 7, 40, 11, 5, 22, 41, 39, 21, 31, 0, 47, 27, 10, 34, 20, 29] \n",
            "\n",
            "--> Iteração: 79\n",
            " Melhor custo: 22704.68701067158 | [29, 25, 6, 19, 44, 50, 26, 46, 12, 51, 45, 23, 48, 35, 43, 14, 37, 24, 18, 9, 8, 17, 2, 13, 32, 42, 1, 28, 49, 3, 15, 38, 36, 33, 30, 16, 4, 7, 40, 11, 5, 22, 41, 39, 21, 31, 0, 47, 27, 10, 34, 20, 29] \n",
            "\n",
            "--> Iteração: 80\n",
            " Melhor custo: 22704.68701067158 | [29, 25, 6, 19, 44, 50, 26, 46, 12, 51, 45, 23, 48, 35, 43, 14, 37, 24, 18, 9, 8, 17, 2, 13, 32, 42, 1, 28, 49, 3, 15, 38, 36, 33, 30, 16, 4, 7, 40, 11, 5, 22, 41, 39, 21, 31, 0, 47, 27, 10, 34, 20, 29] \n",
            "\n",
            "--> Iteração: 81\n",
            " Melhor custo: 22704.68701067158 | [29, 25, 6, 19, 44, 50, 26, 46, 12, 51, 45, 23, 48, 35, 43, 14, 37, 24, 18, 9, 8, 17, 2, 13, 32, 42, 1, 28, 49, 3, 15, 38, 36, 33, 30, 16, 4, 7, 40, 11, 5, 22, 41, 39, 21, 31, 0, 47, 27, 10, 34, 20, 29] \n",
            "\n",
            "--> Iteração: 82\n",
            " Melhor custo: 22704.68701067158 | [29, 25, 6, 19, 44, 50, 26, 46, 12, 51, 45, 23, 48, 35, 43, 14, 37, 24, 18, 9, 8, 17, 2, 13, 32, 42, 1, 28, 49, 3, 15, 38, 36, 33, 30, 16, 4, 7, 40, 11, 5, 22, 41, 39, 21, 31, 0, 47, 27, 10, 34, 20, 29] \n",
            "\n",
            "--> Iteração: 83\n",
            " Melhor custo: 22704.68701067158 | [29, 25, 6, 19, 44, 50, 26, 46, 12, 51, 45, 23, 48, 35, 43, 14, 37, 24, 18, 9, 8, 17, 2, 13, 32, 42, 1, 28, 49, 3, 15, 38, 36, 33, 30, 16, 4, 7, 40, 11, 5, 22, 41, 39, 21, 31, 0, 47, 27, 10, 34, 20, 29] \n",
            "\n",
            "--> Iteração: 84\n",
            " Melhor custo: 22512.007542812804 | [44, 7, 41, 22, 3, 15, 36, 1, 28, 26, 32, 42, 17, 6, 25, 18, 20, 29, 21, 31, 0, 19, 43, 14, 37, 46, 12, 51, 50, 10, 11, 40, 16, 30, 8, 9, 33, 34, 27, 47, 49, 48, 23, 5, 39, 2, 45, 35, 4, 38, 13, 24, 44] \n",
            "\n",
            "--> Iteração: 85\n",
            " Melhor custo: 22512.007542812804 | [44, 7, 41, 22, 3, 15, 36, 1, 28, 26, 32, 42, 17, 6, 25, 18, 20, 29, 21, 31, 0, 19, 43, 14, 37, 46, 12, 51, 50, 10, 11, 40, 16, 30, 8, 9, 33, 34, 27, 47, 49, 48, 23, 5, 39, 2, 45, 35, 4, 38, 13, 24, 44] \n",
            "\n",
            "--> Iteração: 86\n",
            " Melhor custo: 22512.007542812804 | [44, 7, 41, 22, 3, 15, 36, 1, 28, 26, 32, 42, 17, 6, 25, 18, 20, 29, 21, 31, 0, 19, 43, 14, 37, 46, 12, 51, 50, 10, 11, 40, 16, 30, 8, 9, 33, 34, 27, 47, 49, 48, 23, 5, 39, 2, 45, 35, 4, 38, 13, 24, 44] \n",
            "\n",
            "--> Iteração: 87\n",
            " Melhor custo: 22512.007542812804 | [44, 7, 41, 22, 3, 15, 36, 1, 28, 26, 32, 42, 17, 6, 25, 18, 20, 29, 21, 31, 0, 19, 43, 14, 37, 46, 12, 51, 50, 10, 11, 40, 16, 30, 8, 9, 33, 34, 27, 47, 49, 48, 23, 5, 39, 2, 45, 35, 4, 38, 13, 24, 44] \n",
            "\n",
            "--> Iteração: 88\n",
            " Melhor custo: 22512.007542812804 | [44, 7, 41, 22, 3, 15, 36, 1, 28, 26, 32, 42, 17, 6, 25, 18, 20, 29, 21, 31, 0, 19, 43, 14, 37, 46, 12, 51, 50, 10, 11, 40, 16, 30, 8, 9, 33, 34, 27, 47, 49, 48, 23, 5, 39, 2, 45, 35, 4, 38, 13, 24, 44] \n",
            "\n",
            "--> Iteração: 89\n",
            " Melhor custo: 22512.007542812804 | [44, 7, 41, 22, 3, 15, 36, 1, 28, 26, 32, 42, 17, 6, 25, 18, 20, 29, 21, 31, 0, 19, 43, 14, 37, 46, 12, 51, 50, 10, 11, 40, 16, 30, 8, 9, 33, 34, 27, 47, 49, 48, 23, 5, 39, 2, 45, 35, 4, 38, 13, 24, 44] \n",
            "\n",
            "--> Iteração: 90\n",
            " Melhor custo: 22512.007542812804 | [44, 7, 41, 22, 3, 15, 36, 1, 28, 26, 32, 42, 17, 6, 25, 18, 20, 29, 21, 31, 0, 19, 43, 14, 37, 46, 12, 51, 50, 10, 11, 40, 16, 30, 8, 9, 33, 34, 27, 47, 49, 48, 23, 5, 39, 2, 45, 35, 4, 38, 13, 24, 44] \n",
            "\n",
            "--> Iteração: 91\n",
            " Melhor custo: 22512.007542812804 | [44, 7, 41, 22, 3, 15, 36, 1, 28, 26, 32, 42, 17, 6, 25, 18, 20, 29, 21, 31, 0, 19, 43, 14, 37, 46, 12, 51, 50, 10, 11, 40, 16, 30, 8, 9, 33, 34, 27, 47, 49, 48, 23, 5, 39, 2, 45, 35, 4, 38, 13, 24, 44] \n",
            "\n",
            "--> Iteração: 92\n",
            " Melhor custo: 22512.007542812804 | [44, 7, 41, 22, 3, 15, 36, 1, 28, 26, 32, 42, 17, 6, 25, 18, 20, 29, 21, 31, 0, 19, 43, 14, 37, 46, 12, 51, 50, 10, 11, 40, 16, 30, 8, 9, 33, 34, 27, 47, 49, 48, 23, 5, 39, 2, 45, 35, 4, 38, 13, 24, 44] \n",
            "\n",
            "--> Iteração: 93\n",
            " Melhor custo: 22512.007542812804 | [44, 7, 41, 22, 3, 15, 36, 1, 28, 26, 32, 42, 17, 6, 25, 18, 20, 29, 21, 31, 0, 19, 43, 14, 37, 46, 12, 51, 50, 10, 11, 40, 16, 30, 8, 9, 33, 34, 27, 47, 49, 48, 23, 5, 39, 2, 45, 35, 4, 38, 13, 24, 44] \n",
            "\n",
            "--> Iteração: 94\n",
            " Melhor custo: 22512.007542812804 | [44, 7, 41, 22, 3, 15, 36, 1, 28, 26, 32, 42, 17, 6, 25, 18, 20, 29, 21, 31, 0, 19, 43, 14, 37, 46, 12, 51, 50, 10, 11, 40, 16, 30, 8, 9, 33, 34, 27, 47, 49, 48, 23, 5, 39, 2, 45, 35, 4, 38, 13, 24, 44] \n",
            "\n",
            "--> Iteração: 95\n",
            " Melhor custo: 22512.007542812804 | [44, 7, 41, 22, 3, 15, 36, 1, 28, 26, 32, 42, 17, 6, 25, 18, 20, 29, 21, 31, 0, 19, 43, 14, 37, 46, 12, 51, 50, 10, 11, 40, 16, 30, 8, 9, 33, 34, 27, 47, 49, 48, 23, 5, 39, 2, 45, 35, 4, 38, 13, 24, 44] \n",
            "\n",
            "--> Iteração: 96\n",
            " Melhor custo: 22512.007542812804 | [44, 7, 41, 22, 3, 15, 36, 1, 28, 26, 32, 42, 17, 6, 25, 18, 20, 29, 21, 31, 0, 19, 43, 14, 37, 46, 12, 51, 50, 10, 11, 40, 16, 30, 8, 9, 33, 34, 27, 47, 49, 48, 23, 5, 39, 2, 45, 35, 4, 38, 13, 24, 44] \n",
            "\n",
            "--> Iteração: 97\n",
            " Melhor custo: 22512.007542812804 | [44, 7, 41, 22, 3, 15, 36, 1, 28, 26, 32, 42, 17, 6, 25, 18, 20, 29, 21, 31, 0, 19, 43, 14, 37, 46, 12, 51, 50, 10, 11, 40, 16, 30, 8, 9, 33, 34, 27, 47, 49, 48, 23, 5, 39, 2, 45, 35, 4, 38, 13, 24, 44] \n",
            "\n",
            "--> Iteração: 98\n",
            " Melhor custo: 22512.007542812804 | [44, 7, 41, 22, 3, 15, 36, 1, 28, 26, 32, 42, 17, 6, 25, 18, 20, 29, 21, 31, 0, 19, 43, 14, 37, 46, 12, 51, 50, 10, 11, 40, 16, 30, 8, 9, 33, 34, 27, 47, 49, 48, 23, 5, 39, 2, 45, 35, 4, 38, 13, 24, 44] \n",
            "\n",
            "--> Iteração: 99\n",
            " Melhor custo: 22512.007542812804 | [44, 7, 41, 22, 3, 15, 36, 1, 28, 26, 32, 42, 17, 6, 25, 18, 20, 29, 21, 31, 0, 19, 43, 14, 37, 46, 12, 51, 50, 10, 11, 40, 16, 30, 8, 9, 33, 34, 27, 47, 49, 48, 23, 5, 39, 2, 45, 35, 4, 38, 13, 24, 44] \n",
            "\n",
            "--> Iteração: 100\n",
            " Melhor custo: 22512.007542812804 | [44, 7, 41, 22, 3, 15, 36, 1, 28, 26, 32, 42, 17, 6, 25, 18, 20, 29, 21, 31, 0, 19, 43, 14, 37, 46, 12, 51, 50, 10, 11, 40, 16, 30, 8, 9, 33, 34, 27, 47, 49, 48, 23, 5, 39, 2, 45, 35, 4, 38, 13, 24, 44] \n",
            "\n",
            "--> Iteração: 101\n",
            " Melhor custo: 22512.007542812804 | [44, 7, 41, 22, 3, 15, 36, 1, 28, 26, 32, 42, 17, 6, 25, 18, 20, 29, 21, 31, 0, 19, 43, 14, 37, 46, 12, 51, 50, 10, 11, 40, 16, 30, 8, 9, 33, 34, 27, 47, 49, 48, 23, 5, 39, 2, 45, 35, 4, 38, 13, 24, 44] \n",
            "\n",
            "--> Iteração: 102\n",
            " Melhor custo: 22512.007542812804 | [44, 7, 41, 22, 3, 15, 36, 1, 28, 26, 32, 42, 17, 6, 25, 18, 20, 29, 21, 31, 0, 19, 43, 14, 37, 46, 12, 51, 50, 10, 11, 40, 16, 30, 8, 9, 33, 34, 27, 47, 49, 48, 23, 5, 39, 2, 45, 35, 4, 38, 13, 24, 44] \n",
            "\n",
            "--> Iteração: 103\n",
            " Melhor custo: 22512.007542812804 | [44, 7, 41, 22, 3, 15, 36, 1, 28, 26, 32, 42, 17, 6, 25, 18, 20, 29, 21, 31, 0, 19, 43, 14, 37, 46, 12, 51, 50, 10, 11, 40, 16, 30, 8, 9, 33, 34, 27, 47, 49, 48, 23, 5, 39, 2, 45, 35, 4, 38, 13, 24, 44] \n",
            "\n",
            "--> Iteração: 104\n",
            " Melhor custo: 22512.007542812804 | [44, 7, 41, 22, 3, 15, 36, 1, 28, 26, 32, 42, 17, 6, 25, 18, 20, 29, 21, 31, 0, 19, 43, 14, 37, 46, 12, 51, 50, 10, 11, 40, 16, 30, 8, 9, 33, 34, 27, 47, 49, 48, 23, 5, 39, 2, 45, 35, 4, 38, 13, 24, 44] \n",
            "\n",
            "--> Iteração: 105\n",
            " Melhor custo: 22512.007542812804 | [44, 7, 41, 22, 3, 15, 36, 1, 28, 26, 32, 42, 17, 6, 25, 18, 20, 29, 21, 31, 0, 19, 43, 14, 37, 46, 12, 51, 50, 10, 11, 40, 16, 30, 8, 9, 33, 34, 27, 47, 49, 48, 23, 5, 39, 2, 45, 35, 4, 38, 13, 24, 44] \n",
            "\n",
            "--> Iteração: 106\n",
            " Melhor custo: 22126.67648042275 | [23, 48, 33, 39, 5, 14, 32, 35, 4, 38, 15, 36, 42, 24, 47, 0, 31, 8, 34, 27, 49, 28, 30, 16, 40, 44, 7, 41, 22, 3, 25, 6, 29, 20, 18, 43, 51, 50, 10, 11, 21, 37, 9, 45, 19, 26, 46, 12, 13, 1, 17, 2, 23] \n",
            "\n",
            "--> Iteração: 107\n",
            " Melhor custo: 22126.67648042275 | [23, 48, 33, 39, 5, 14, 32, 35, 4, 38, 15, 36, 42, 24, 47, 0, 31, 8, 34, 27, 49, 28, 30, 16, 40, 44, 7, 41, 22, 3, 25, 6, 29, 20, 18, 43, 51, 50, 10, 11, 21, 37, 9, 45, 19, 26, 46, 12, 13, 1, 17, 2, 23] \n",
            "\n",
            "--> Iteração: 108\n",
            " Melhor custo: 22126.67648042275 | [23, 48, 33, 39, 5, 14, 32, 35, 4, 38, 15, 36, 42, 24, 47, 0, 31, 8, 34, 27, 49, 28, 30, 16, 40, 44, 7, 41, 22, 3, 25, 6, 29, 20, 18, 43, 51, 50, 10, 11, 21, 37, 9, 45, 19, 26, 46, 12, 13, 1, 17, 2, 23] \n",
            "\n",
            "--> Iteração: 109\n",
            " Melhor custo: 22126.67648042275 | [23, 48, 33, 39, 5, 14, 32, 35, 4, 38, 15, 36, 42, 24, 47, 0, 31, 8, 34, 27, 49, 28, 30, 16, 40, 44, 7, 41, 22, 3, 25, 6, 29, 20, 18, 43, 51, 50, 10, 11, 21, 37, 9, 45, 19, 26, 46, 12, 13, 1, 17, 2, 23] \n",
            "\n",
            "--> Iteração: 110\n",
            " Melhor custo: 22126.67648042275 | [23, 48, 33, 39, 5, 14, 32, 35, 4, 38, 15, 36, 42, 24, 47, 0, 31, 8, 34, 27, 49, 28, 30, 16, 40, 44, 7, 41, 22, 3, 25, 6, 29, 20, 18, 43, 51, 50, 10, 11, 21, 37, 9, 45, 19, 26, 46, 12, 13, 1, 17, 2, 23] \n",
            "\n",
            "--> Iteração: 111\n",
            " Melhor custo: 22126.67648042275 | [23, 48, 33, 39, 5, 14, 32, 35, 4, 38, 15, 36, 42, 24, 47, 0, 31, 8, 34, 27, 49, 28, 30, 16, 40, 44, 7, 41, 22, 3, 25, 6, 29, 20, 18, 43, 51, 50, 10, 11, 21, 37, 9, 45, 19, 26, 46, 12, 13, 1, 17, 2, 23] \n",
            "\n",
            "--> Iteração: 112\n",
            " Melhor custo: 22126.67648042275 | [23, 48, 33, 39, 5, 14, 32, 35, 4, 38, 15, 36, 42, 24, 47, 0, 31, 8, 34, 27, 49, 28, 30, 16, 40, 44, 7, 41, 22, 3, 25, 6, 29, 20, 18, 43, 51, 50, 10, 11, 21, 37, 9, 45, 19, 26, 46, 12, 13, 1, 17, 2, 23] \n",
            "\n",
            "--> Iteração: 113\n",
            " Melhor custo: 22126.67648042275 | [23, 48, 33, 39, 5, 14, 32, 35, 4, 38, 15, 36, 42, 24, 47, 0, 31, 8, 34, 27, 49, 28, 30, 16, 40, 44, 7, 41, 22, 3, 25, 6, 29, 20, 18, 43, 51, 50, 10, 11, 21, 37, 9, 45, 19, 26, 46, 12, 13, 1, 17, 2, 23] \n",
            "\n",
            "--> Iteração: 114\n",
            " Melhor custo: 22126.67648042275 | [23, 48, 33, 39, 5, 14, 32, 35, 4, 38, 15, 36, 42, 24, 47, 0, 31, 8, 34, 27, 49, 28, 30, 16, 40, 44, 7, 41, 22, 3, 25, 6, 29, 20, 18, 43, 51, 50, 10, 11, 21, 37, 9, 45, 19, 26, 46, 12, 13, 1, 17, 2, 23] \n",
            "\n",
            "--> Iteração: 115\n",
            " Melhor custo: 22126.67648042275 | [23, 48, 33, 39, 5, 14, 32, 35, 4, 38, 15, 36, 42, 24, 47, 0, 31, 8, 34, 27, 49, 28, 30, 16, 40, 44, 7, 41, 22, 3, 25, 6, 29, 20, 18, 43, 51, 50, 10, 11, 21, 37, 9, 45, 19, 26, 46, 12, 13, 1, 17, 2, 23] \n",
            "\n",
            "--> Iteração: 116\n",
            " Melhor custo: 22126.67648042275 | [23, 48, 33, 39, 5, 14, 32, 35, 4, 38, 15, 36, 42, 24, 47, 0, 31, 8, 34, 27, 49, 28, 30, 16, 40, 44, 7, 41, 22, 3, 25, 6, 29, 20, 18, 43, 51, 50, 10, 11, 21, 37, 9, 45, 19, 26, 46, 12, 13, 1, 17, 2, 23] \n",
            "\n",
            "--> Iteração: 117\n",
            " Melhor custo: 22126.67648042275 | [23, 48, 33, 39, 5, 14, 32, 35, 4, 38, 15, 36, 42, 24, 47, 0, 31, 8, 34, 27, 49, 28, 30, 16, 40, 44, 7, 41, 22, 3, 25, 6, 29, 20, 18, 43, 51, 50, 10, 11, 21, 37, 9, 45, 19, 26, 46, 12, 13, 1, 17, 2, 23] \n",
            "\n",
            "--> Iteração: 118\n",
            " Melhor custo: 22126.67648042275 | [23, 48, 33, 39, 5, 14, 32, 35, 4, 38, 15, 36, 42, 24, 47, 0, 31, 8, 34, 27, 49, 28, 30, 16, 40, 44, 7, 41, 22, 3, 25, 6, 29, 20, 18, 43, 51, 50, 10, 11, 21, 37, 9, 45, 19, 26, 46, 12, 13, 1, 17, 2, 23] \n",
            "\n",
            "--> Iteração: 119\n",
            " Melhor custo: 22126.67648042275 | [23, 48, 33, 39, 5, 14, 32, 35, 4, 38, 15, 36, 42, 24, 47, 0, 31, 8, 34, 27, 49, 28, 30, 16, 40, 44, 7, 41, 22, 3, 25, 6, 29, 20, 18, 43, 51, 50, 10, 11, 21, 37, 9, 45, 19, 26, 46, 12, 13, 1, 17, 2, 23] \n",
            "\n",
            "--> Iteração: 120\n",
            " Melhor custo: 22126.67648042275 | [23, 48, 33, 39, 5, 14, 32, 35, 4, 38, 15, 36, 42, 24, 47, 0, 31, 8, 34, 27, 49, 28, 30, 16, 40, 44, 7, 41, 22, 3, 25, 6, 29, 20, 18, 43, 51, 50, 10, 11, 21, 37, 9, 45, 19, 26, 46, 12, 13, 1, 17, 2, 23] \n",
            "\n",
            "--> Iteração: 121\n",
            " Melhor custo: 22126.67648042275 | [23, 48, 33, 39, 5, 14, 32, 35, 4, 38, 15, 36, 42, 24, 47, 0, 31, 8, 34, 27, 49, 28, 30, 16, 40, 44, 7, 41, 22, 3, 25, 6, 29, 20, 18, 43, 51, 50, 10, 11, 21, 37, 9, 45, 19, 26, 46, 12, 13, 1, 17, 2, 23] \n",
            "\n",
            "--> Iteração: 122\n",
            " Melhor custo: 22126.67648042275 | [23, 48, 33, 39, 5, 14, 32, 35, 4, 38, 15, 36, 42, 24, 47, 0, 31, 8, 34, 27, 49, 28, 30, 16, 40, 44, 7, 41, 22, 3, 25, 6, 29, 20, 18, 43, 51, 50, 10, 11, 21, 37, 9, 45, 19, 26, 46, 12, 13, 1, 17, 2, 23] \n",
            "\n",
            "--> Iteração: 123\n",
            " Melhor custo: 22126.67648042275 | [23, 48, 33, 39, 5, 14, 32, 35, 4, 38, 15, 36, 42, 24, 47, 0, 31, 8, 34, 27, 49, 28, 30, 16, 40, 44, 7, 41, 22, 3, 25, 6, 29, 20, 18, 43, 51, 50, 10, 11, 21, 37, 9, 45, 19, 26, 46, 12, 13, 1, 17, 2, 23] \n",
            "\n",
            "--> Iteração: 124\n",
            " Melhor custo: 22126.67648042275 | [23, 48, 33, 39, 5, 14, 32, 35, 4, 38, 15, 36, 42, 24, 47, 0, 31, 8, 34, 27, 49, 28, 30, 16, 40, 44, 7, 41, 22, 3, 25, 6, 29, 20, 18, 43, 51, 50, 10, 11, 21, 37, 9, 45, 19, 26, 46, 12, 13, 1, 17, 2, 23] \n",
            "\n",
            "--> Iteração: 125\n",
            " Melhor custo: 22126.67648042275 | [23, 48, 33, 39, 5, 14, 32, 35, 4, 38, 15, 36, 42, 24, 47, 0, 31, 8, 34, 27, 49, 28, 30, 16, 40, 44, 7, 41, 22, 3, 25, 6, 29, 20, 18, 43, 51, 50, 10, 11, 21, 37, 9, 45, 19, 26, 46, 12, 13, 1, 17, 2, 23] \n",
            "\n",
            "--> Iteração: 126\n",
            " Melhor custo: 22126.67648042275 | [23, 48, 33, 39, 5, 14, 32, 35, 4, 38, 15, 36, 42, 24, 47, 0, 31, 8, 34, 27, 49, 28, 30, 16, 40, 44, 7, 41, 22, 3, 25, 6, 29, 20, 18, 43, 51, 50, 10, 11, 21, 37, 9, 45, 19, 26, 46, 12, 13, 1, 17, 2, 23] \n",
            "\n",
            "--> Iteração: 127\n",
            " Melhor custo: 22126.67648042275 | [23, 48, 33, 39, 5, 14, 32, 35, 4, 38, 15, 36, 42, 24, 47, 0, 31, 8, 34, 27, 49, 28, 30, 16, 40, 44, 7, 41, 22, 3, 25, 6, 29, 20, 18, 43, 51, 50, 10, 11, 21, 37, 9, 45, 19, 26, 46, 12, 13, 1, 17, 2, 23] \n",
            "\n",
            "--> Iteração: 128\n",
            " Melhor custo: 22126.67648042275 | [23, 48, 33, 39, 5, 14, 32, 35, 4, 38, 15, 36, 42, 24, 47, 0, 31, 8, 34, 27, 49, 28, 30, 16, 40, 44, 7, 41, 22, 3, 25, 6, 29, 20, 18, 43, 51, 50, 10, 11, 21, 37, 9, 45, 19, 26, 46, 12, 13, 1, 17, 2, 23] \n",
            "\n",
            "--> Iteração: 129\n",
            " Melhor custo: 22126.67648042275 | [23, 48, 33, 39, 5, 14, 32, 35, 4, 38, 15, 36, 42, 24, 47, 0, 31, 8, 34, 27, 49, 28, 30, 16, 40, 44, 7, 41, 22, 3, 25, 6, 29, 20, 18, 43, 51, 50, 10, 11, 21, 37, 9, 45, 19, 26, 46, 12, 13, 1, 17, 2, 23] \n",
            "\n",
            "--> Iteração: 130\n",
            " Melhor custo: 22126.67648042275 | [23, 48, 33, 39, 5, 14, 32, 35, 4, 38, 15, 36, 42, 24, 47, 0, 31, 8, 34, 27, 49, 28, 30, 16, 40, 44, 7, 41, 22, 3, 25, 6, 29, 20, 18, 43, 51, 50, 10, 11, 21, 37, 9, 45, 19, 26, 46, 12, 13, 1, 17, 2, 23] \n",
            "\n",
            "--> Iteração: 131\n",
            " Melhor custo: 22126.67648042275 | [23, 48, 33, 39, 5, 14, 32, 35, 4, 38, 15, 36, 42, 24, 47, 0, 31, 8, 34, 27, 49, 28, 30, 16, 40, 44, 7, 41, 22, 3, 25, 6, 29, 20, 18, 43, 51, 50, 10, 11, 21, 37, 9, 45, 19, 26, 46, 12, 13, 1, 17, 2, 23] \n",
            "\n",
            "--> Iteração: 132\n",
            " Melhor custo: 22126.67648042275 | [23, 48, 33, 39, 5, 14, 32, 35, 4, 38, 15, 36, 42, 24, 47, 0, 31, 8, 34, 27, 49, 28, 30, 16, 40, 44, 7, 41, 22, 3, 25, 6, 29, 20, 18, 43, 51, 50, 10, 11, 21, 37, 9, 45, 19, 26, 46, 12, 13, 1, 17, 2, 23] \n",
            "\n",
            "--> Iteração: 133\n",
            " Melhor custo: 22126.67648042275 | [23, 48, 33, 39, 5, 14, 32, 35, 4, 38, 15, 36, 42, 24, 47, 0, 31, 8, 34, 27, 49, 28, 30, 16, 40, 44, 7, 41, 22, 3, 25, 6, 29, 20, 18, 43, 51, 50, 10, 11, 21, 37, 9, 45, 19, 26, 46, 12, 13, 1, 17, 2, 23] \n",
            "\n",
            "--> Iteração: 134\n",
            " Melhor custo: 22126.67648042275 | [23, 48, 33, 39, 5, 14, 32, 35, 4, 38, 15, 36, 42, 24, 47, 0, 31, 8, 34, 27, 49, 28, 30, 16, 40, 44, 7, 41, 22, 3, 25, 6, 29, 20, 18, 43, 51, 50, 10, 11, 21, 37, 9, 45, 19, 26, 46, 12, 13, 1, 17, 2, 23] \n",
            "\n",
            "--> Iteração: 135\n",
            " Melhor custo: 22126.67648042275 | [23, 48, 33, 39, 5, 14, 32, 35, 4, 38, 15, 36, 42, 24, 47, 0, 31, 8, 34, 27, 49, 28, 30, 16, 40, 44, 7, 41, 22, 3, 25, 6, 29, 20, 18, 43, 51, 50, 10, 11, 21, 37, 9, 45, 19, 26, 46, 12, 13, 1, 17, 2, 23] \n",
            "\n",
            "--> Iteração: 136\n",
            " Melhor custo: 22126.67648042275 | [23, 48, 33, 39, 5, 14, 32, 35, 4, 38, 15, 36, 42, 24, 47, 0, 31, 8, 34, 27, 49, 28, 30, 16, 40, 44, 7, 41, 22, 3, 25, 6, 29, 20, 18, 43, 51, 50, 10, 11, 21, 37, 9, 45, 19, 26, 46, 12, 13, 1, 17, 2, 23] \n",
            "\n",
            "--> Iteração: 137\n",
            " Melhor custo: 22126.67648042275 | [23, 48, 33, 39, 5, 14, 32, 35, 4, 38, 15, 36, 42, 24, 47, 0, 31, 8, 34, 27, 49, 28, 30, 16, 40, 44, 7, 41, 22, 3, 25, 6, 29, 20, 18, 43, 51, 50, 10, 11, 21, 37, 9, 45, 19, 26, 46, 12, 13, 1, 17, 2, 23] \n",
            "\n",
            "--> Iteração: 138\n",
            " Melhor custo: 22126.67648042275 | [23, 48, 33, 39, 5, 14, 32, 35, 4, 38, 15, 36, 42, 24, 47, 0, 31, 8, 34, 27, 49, 28, 30, 16, 40, 44, 7, 41, 22, 3, 25, 6, 29, 20, 18, 43, 51, 50, 10, 11, 21, 37, 9, 45, 19, 26, 46, 12, 13, 1, 17, 2, 23] \n",
            "\n",
            "--> Iteração: 139\n",
            " Melhor custo: 22126.67648042275 | [23, 48, 33, 39, 5, 14, 32, 35, 4, 38, 15, 36, 42, 24, 47, 0, 31, 8, 34, 27, 49, 28, 30, 16, 40, 44, 7, 41, 22, 3, 25, 6, 29, 20, 18, 43, 51, 50, 10, 11, 21, 37, 9, 45, 19, 26, 46, 12, 13, 1, 17, 2, 23] \n",
            "\n",
            "--> Iteração: 140\n",
            " Melhor custo: 22126.67648042275 | [23, 48, 33, 39, 5, 14, 32, 35, 4, 38, 15, 36, 42, 24, 47, 0, 31, 8, 34, 27, 49, 28, 30, 16, 40, 44, 7, 41, 22, 3, 25, 6, 29, 20, 18, 43, 51, 50, 10, 11, 21, 37, 9, 45, 19, 26, 46, 12, 13, 1, 17, 2, 23] \n",
            "\n",
            "--> Iteração: 141\n",
            " Melhor custo: 22126.67648042275 | [23, 48, 33, 39, 5, 14, 32, 35, 4, 38, 15, 36, 42, 24, 47, 0, 31, 8, 34, 27, 49, 28, 30, 16, 40, 44, 7, 41, 22, 3, 25, 6, 29, 20, 18, 43, 51, 50, 10, 11, 21, 37, 9, 45, 19, 26, 46, 12, 13, 1, 17, 2, 23] \n",
            "\n",
            "--> Iteração: 142\n",
            " Melhor custo: 22126.67648042275 | [23, 48, 33, 39, 5, 14, 32, 35, 4, 38, 15, 36, 42, 24, 47, 0, 31, 8, 34, 27, 49, 28, 30, 16, 40, 44, 7, 41, 22, 3, 25, 6, 29, 20, 18, 43, 51, 50, 10, 11, 21, 37, 9, 45, 19, 26, 46, 12, 13, 1, 17, 2, 23] \n",
            "\n",
            "--> Iteração: 143\n",
            " Melhor custo: 22126.67648042275 | [23, 48, 33, 39, 5, 14, 32, 35, 4, 38, 15, 36, 42, 24, 47, 0, 31, 8, 34, 27, 49, 28, 30, 16, 40, 44, 7, 41, 22, 3, 25, 6, 29, 20, 18, 43, 51, 50, 10, 11, 21, 37, 9, 45, 19, 26, 46, 12, 13, 1, 17, 2, 23] \n",
            "\n",
            "--> Iteração: 144\n",
            " Melhor custo: 22126.67648042275 | [23, 48, 33, 39, 5, 14, 32, 35, 4, 38, 15, 36, 42, 24, 47, 0, 31, 8, 34, 27, 49, 28, 30, 16, 40, 44, 7, 41, 22, 3, 25, 6, 29, 20, 18, 43, 51, 50, 10, 11, 21, 37, 9, 45, 19, 26, 46, 12, 13, 1, 17, 2, 23] \n",
            "\n",
            "--> Iteração: 145\n",
            " Melhor custo: 22126.67648042275 | [23, 48, 33, 39, 5, 14, 32, 35, 4, 38, 15, 36, 42, 24, 47, 0, 31, 8, 34, 27, 49, 28, 30, 16, 40, 44, 7, 41, 22, 3, 25, 6, 29, 20, 18, 43, 51, 50, 10, 11, 21, 37, 9, 45, 19, 26, 46, 12, 13, 1, 17, 2, 23] \n",
            "\n",
            "--> Iteração: 146\n",
            " Melhor custo: 22126.67648042275 | [23, 48, 33, 39, 5, 14, 32, 35, 4, 38, 15, 36, 42, 24, 47, 0, 31, 8, 34, 27, 49, 28, 30, 16, 40, 44, 7, 41, 22, 3, 25, 6, 29, 20, 18, 43, 51, 50, 10, 11, 21, 37, 9, 45, 19, 26, 46, 12, 13, 1, 17, 2, 23] \n",
            "\n",
            "--> Iteração: 147\n",
            " Melhor custo: 22126.67648042275 | [23, 48, 33, 39, 5, 14, 32, 35, 4, 38, 15, 36, 42, 24, 47, 0, 31, 8, 34, 27, 49, 28, 30, 16, 40, 44, 7, 41, 22, 3, 25, 6, 29, 20, 18, 43, 51, 50, 10, 11, 21, 37, 9, 45, 19, 26, 46, 12, 13, 1, 17, 2, 23] \n",
            "\n",
            "--> Iteração: 148\n",
            " Melhor custo: 22126.67648042275 | [23, 48, 33, 39, 5, 14, 32, 35, 4, 38, 15, 36, 42, 24, 47, 0, 31, 8, 34, 27, 49, 28, 30, 16, 40, 44, 7, 41, 22, 3, 25, 6, 29, 20, 18, 43, 51, 50, 10, 11, 21, 37, 9, 45, 19, 26, 46, 12, 13, 1, 17, 2, 23] \n",
            "\n",
            "--> Iteração: 149\n",
            " Melhor custo: 22126.67648042275 | [23, 48, 33, 39, 5, 14, 32, 35, 4, 38, 15, 36, 42, 24, 47, 0, 31, 8, 34, 27, 49, 28, 30, 16, 40, 44, 7, 41, 22, 3, 25, 6, 29, 20, 18, 43, 51, 50, 10, 11, 21, 37, 9, 45, 19, 26, 46, 12, 13, 1, 17, 2, 23] \n",
            "\n",
            "--> Iteração: 150\n",
            " Melhor custo: 22126.67648042275 | [23, 48, 33, 39, 5, 14, 32, 35, 4, 38, 15, 36, 42, 24, 47, 0, 31, 8, 34, 27, 49, 28, 30, 16, 40, 44, 7, 41, 22, 3, 25, 6, 29, 20, 18, 43, 51, 50, 10, 11, 21, 37, 9, 45, 19, 26, 46, 12, 13, 1, 17, 2, 23] \n",
            "\n",
            "--> Iteração: 151\n",
            " Melhor custo: 22126.67648042275 | [23, 48, 33, 39, 5, 14, 32, 35, 4, 38, 15, 36, 42, 24, 47, 0, 31, 8, 34, 27, 49, 28, 30, 16, 40, 44, 7, 41, 22, 3, 25, 6, 29, 20, 18, 43, 51, 50, 10, 11, 21, 37, 9, 45, 19, 26, 46, 12, 13, 1, 17, 2, 23] \n",
            "\n",
            "--> Iteração: 152\n",
            " Melhor custo: 22126.67648042275 | [23, 48, 33, 39, 5, 14, 32, 35, 4, 38, 15, 36, 42, 24, 47, 0, 31, 8, 34, 27, 49, 28, 30, 16, 40, 44, 7, 41, 22, 3, 25, 6, 29, 20, 18, 43, 51, 50, 10, 11, 21, 37, 9, 45, 19, 26, 46, 12, 13, 1, 17, 2, 23] \n",
            "\n",
            "--> Iteração: 153\n",
            " Melhor custo: 22126.67648042275 | [23, 48, 33, 39, 5, 14, 32, 35, 4, 38, 15, 36, 42, 24, 47, 0, 31, 8, 34, 27, 49, 28, 30, 16, 40, 44, 7, 41, 22, 3, 25, 6, 29, 20, 18, 43, 51, 50, 10, 11, 21, 37, 9, 45, 19, 26, 46, 12, 13, 1, 17, 2, 23] \n",
            "\n",
            "--> Iteração: 154\n",
            " Melhor custo: 22126.67648042275 | [23, 48, 33, 39, 5, 14, 32, 35, 4, 38, 15, 36, 42, 24, 47, 0, 31, 8, 34, 27, 49, 28, 30, 16, 40, 44, 7, 41, 22, 3, 25, 6, 29, 20, 18, 43, 51, 50, 10, 11, 21, 37, 9, 45, 19, 26, 46, 12, 13, 1, 17, 2, 23] \n",
            "\n",
            "--> Iteração: 155\n",
            " Melhor custo: 22126.67648042275 | [23, 48, 33, 39, 5, 14, 32, 35, 4, 38, 15, 36, 42, 24, 47, 0, 31, 8, 34, 27, 49, 28, 30, 16, 40, 44, 7, 41, 22, 3, 25, 6, 29, 20, 18, 43, 51, 50, 10, 11, 21, 37, 9, 45, 19, 26, 46, 12, 13, 1, 17, 2, 23] \n",
            "\n",
            "--> Iteração: 156\n",
            " Melhor custo: 22126.67648042275 | [23, 48, 33, 39, 5, 14, 32, 35, 4, 38, 15, 36, 42, 24, 47, 0, 31, 8, 34, 27, 49, 28, 30, 16, 40, 44, 7, 41, 22, 3, 25, 6, 29, 20, 18, 43, 51, 50, 10, 11, 21, 37, 9, 45, 19, 26, 46, 12, 13, 1, 17, 2, 23] \n",
            "\n",
            "--> Iteração: 157\n",
            " Melhor custo: 22126.67648042275 | [23, 48, 33, 39, 5, 14, 32, 35, 4, 38, 15, 36, 42, 24, 47, 0, 31, 8, 34, 27, 49, 28, 30, 16, 40, 44, 7, 41, 22, 3, 25, 6, 29, 20, 18, 43, 51, 50, 10, 11, 21, 37, 9, 45, 19, 26, 46, 12, 13, 1, 17, 2, 23] \n",
            "\n",
            "--> Iteração: 158\n",
            " Melhor custo: 22126.67648042275 | [23, 48, 33, 39, 5, 14, 32, 35, 4, 38, 15, 36, 42, 24, 47, 0, 31, 8, 34, 27, 49, 28, 30, 16, 40, 44, 7, 41, 22, 3, 25, 6, 29, 20, 18, 43, 51, 50, 10, 11, 21, 37, 9, 45, 19, 26, 46, 12, 13, 1, 17, 2, 23] \n",
            "\n",
            "--> Iteração: 159\n",
            " Melhor custo: 22126.67648042275 | [23, 48, 33, 39, 5, 14, 32, 35, 4, 38, 15, 36, 42, 24, 47, 0, 31, 8, 34, 27, 49, 28, 30, 16, 40, 44, 7, 41, 22, 3, 25, 6, 29, 20, 18, 43, 51, 50, 10, 11, 21, 37, 9, 45, 19, 26, 46, 12, 13, 1, 17, 2, 23] \n",
            "\n",
            "--> Iteração: 160\n",
            " Melhor custo: 22126.67648042275 | [23, 48, 33, 39, 5, 14, 32, 35, 4, 38, 15, 36, 42, 24, 47, 0, 31, 8, 34, 27, 49, 28, 30, 16, 40, 44, 7, 41, 22, 3, 25, 6, 29, 20, 18, 43, 51, 50, 10, 11, 21, 37, 9, 45, 19, 26, 46, 12, 13, 1, 17, 2, 23] \n",
            "\n",
            "--> Iteração: 161\n",
            " Melhor custo: 22126.67648042275 | [23, 48, 33, 39, 5, 14, 32, 35, 4, 38, 15, 36, 42, 24, 47, 0, 31, 8, 34, 27, 49, 28, 30, 16, 40, 44, 7, 41, 22, 3, 25, 6, 29, 20, 18, 43, 51, 50, 10, 11, 21, 37, 9, 45, 19, 26, 46, 12, 13, 1, 17, 2, 23] \n",
            "\n",
            "--> Iteração: 162\n",
            " Melhor custo: 22126.67648042275 | [23, 48, 33, 39, 5, 14, 32, 35, 4, 38, 15, 36, 42, 24, 47, 0, 31, 8, 34, 27, 49, 28, 30, 16, 40, 44, 7, 41, 22, 3, 25, 6, 29, 20, 18, 43, 51, 50, 10, 11, 21, 37, 9, 45, 19, 26, 46, 12, 13, 1, 17, 2, 23] \n",
            "\n",
            "--> Iteração: 163\n",
            " Melhor custo: 22126.67648042275 | [23, 48, 33, 39, 5, 14, 32, 35, 4, 38, 15, 36, 42, 24, 47, 0, 31, 8, 34, 27, 49, 28, 30, 16, 40, 44, 7, 41, 22, 3, 25, 6, 29, 20, 18, 43, 51, 50, 10, 11, 21, 37, 9, 45, 19, 26, 46, 12, 13, 1, 17, 2, 23] \n",
            "\n",
            "--> Iteração: 164\n",
            " Melhor custo: 22126.67648042275 | [23, 48, 33, 39, 5, 14, 32, 35, 4, 38, 15, 36, 42, 24, 47, 0, 31, 8, 34, 27, 49, 28, 30, 16, 40, 44, 7, 41, 22, 3, 25, 6, 29, 20, 18, 43, 51, 50, 10, 11, 21, 37, 9, 45, 19, 26, 46, 12, 13, 1, 17, 2, 23] \n",
            "\n",
            "--> Iteração: 165\n",
            " Melhor custo: 22126.67648042275 | [23, 48, 33, 39, 5, 14, 32, 35, 4, 38, 15, 36, 42, 24, 47, 0, 31, 8, 34, 27, 49, 28, 30, 16, 40, 44, 7, 41, 22, 3, 25, 6, 29, 20, 18, 43, 51, 50, 10, 11, 21, 37, 9, 45, 19, 26, 46, 12, 13, 1, 17, 2, 23] \n",
            "\n",
            "--> Iteração: 166\n",
            " Melhor custo: 22126.67648042275 | [23, 48, 33, 39, 5, 14, 32, 35, 4, 38, 15, 36, 42, 24, 47, 0, 31, 8, 34, 27, 49, 28, 30, 16, 40, 44, 7, 41, 22, 3, 25, 6, 29, 20, 18, 43, 51, 50, 10, 11, 21, 37, 9, 45, 19, 26, 46, 12, 13, 1, 17, 2, 23] \n",
            "\n",
            "--> Iteração: 167\n",
            " Melhor custo: 22126.67648042275 | [23, 48, 33, 39, 5, 14, 32, 35, 4, 38, 15, 36, 42, 24, 47, 0, 31, 8, 34, 27, 49, 28, 30, 16, 40, 44, 7, 41, 22, 3, 25, 6, 29, 20, 18, 43, 51, 50, 10, 11, 21, 37, 9, 45, 19, 26, 46, 12, 13, 1, 17, 2, 23] \n",
            "\n",
            "--> Iteração: 168\n",
            " Melhor custo: 22126.67648042275 | [23, 48, 33, 39, 5, 14, 32, 35, 4, 38, 15, 36, 42, 24, 47, 0, 31, 8, 34, 27, 49, 28, 30, 16, 40, 44, 7, 41, 22, 3, 25, 6, 29, 20, 18, 43, 51, 50, 10, 11, 21, 37, 9, 45, 19, 26, 46, 12, 13, 1, 17, 2, 23] \n",
            "\n",
            "--> Iteração: 169\n",
            " Melhor custo: 22126.67648042275 | [23, 48, 33, 39, 5, 14, 32, 35, 4, 38, 15, 36, 42, 24, 47, 0, 31, 8, 34, 27, 49, 28, 30, 16, 40, 44, 7, 41, 22, 3, 25, 6, 29, 20, 18, 43, 51, 50, 10, 11, 21, 37, 9, 45, 19, 26, 46, 12, 13, 1, 17, 2, 23] \n",
            "\n",
            "--> Iteração: 170\n",
            " Melhor custo: 22126.67648042275 | [23, 48, 33, 39, 5, 14, 32, 35, 4, 38, 15, 36, 42, 24, 47, 0, 31, 8, 34, 27, 49, 28, 30, 16, 40, 44, 7, 41, 22, 3, 25, 6, 29, 20, 18, 43, 51, 50, 10, 11, 21, 37, 9, 45, 19, 26, 46, 12, 13, 1, 17, 2, 23] \n",
            "\n",
            "--> Iteração: 171\n",
            " Melhor custo: 21571.25610093911 | [38, 15, 36, 29, 20, 18, 43, 19, 37, 5, 14, 11, 22, 47, 0, 4, 35, 7, 44, 40, 3, 24, 32, 10, 8, 9, 48, 23, 27, 12, 46, 26, 41, 1, 6, 25, 31, 34, 42, 21, 2, 17, 49, 28, 30, 16, 13, 50, 51, 39, 33, 45, 38] \n",
            "\n",
            "--> Iteração: 172\n",
            " Melhor custo: 21571.25610093911 | [38, 15, 36, 29, 20, 18, 43, 19, 37, 5, 14, 11, 22, 47, 0, 4, 35, 7, 44, 40, 3, 24, 32, 10, 8, 9, 48, 23, 27, 12, 46, 26, 41, 1, 6, 25, 31, 34, 42, 21, 2, 17, 49, 28, 30, 16, 13, 50, 51, 39, 33, 45, 38] \n",
            "\n",
            "--> Iteração: 173\n",
            " Melhor custo: 21571.25610093911 | [38, 15, 36, 29, 20, 18, 43, 19, 37, 5, 14, 11, 22, 47, 0, 4, 35, 7, 44, 40, 3, 24, 32, 10, 8, 9, 48, 23, 27, 12, 46, 26, 41, 1, 6, 25, 31, 34, 42, 21, 2, 17, 49, 28, 30, 16, 13, 50, 51, 39, 33, 45, 38] \n",
            "\n",
            "--> Iteração: 174\n",
            " Melhor custo: 21571.25610093911 | [38, 15, 36, 29, 20, 18, 43, 19, 37, 5, 14, 11, 22, 47, 0, 4, 35, 7, 44, 40, 3, 24, 32, 10, 8, 9, 48, 23, 27, 12, 46, 26, 41, 1, 6, 25, 31, 34, 42, 21, 2, 17, 49, 28, 30, 16, 13, 50, 51, 39, 33, 45, 38] \n",
            "\n",
            "--> Iteração: 175\n",
            " Melhor custo: 21571.25610093911 | [38, 15, 36, 29, 20, 18, 43, 19, 37, 5, 14, 11, 22, 47, 0, 4, 35, 7, 44, 40, 3, 24, 32, 10, 8, 9, 48, 23, 27, 12, 46, 26, 41, 1, 6, 25, 31, 34, 42, 21, 2, 17, 49, 28, 30, 16, 13, 50, 51, 39, 33, 45, 38] \n",
            "\n",
            "--> Iteração: 176\n",
            " Melhor custo: 21571.25610093911 | [38, 15, 36, 29, 20, 18, 43, 19, 37, 5, 14, 11, 22, 47, 0, 4, 35, 7, 44, 40, 3, 24, 32, 10, 8, 9, 48, 23, 27, 12, 46, 26, 41, 1, 6, 25, 31, 34, 42, 21, 2, 17, 49, 28, 30, 16, 13, 50, 51, 39, 33, 45, 38] \n",
            "\n",
            "--> Iteração: 177\n",
            " Melhor custo: 21571.25610093911 | [38, 15, 36, 29, 20, 18, 43, 19, 37, 5, 14, 11, 22, 47, 0, 4, 35, 7, 44, 40, 3, 24, 32, 10, 8, 9, 48, 23, 27, 12, 46, 26, 41, 1, 6, 25, 31, 34, 42, 21, 2, 17, 49, 28, 30, 16, 13, 50, 51, 39, 33, 45, 38] \n",
            "\n",
            "--> Iteração: 178\n",
            " Melhor custo: 21571.25610093911 | [38, 15, 36, 29, 20, 18, 43, 19, 37, 5, 14, 11, 22, 47, 0, 4, 35, 7, 44, 40, 3, 24, 32, 10, 8, 9, 48, 23, 27, 12, 46, 26, 41, 1, 6, 25, 31, 34, 42, 21, 2, 17, 49, 28, 30, 16, 13, 50, 51, 39, 33, 45, 38] \n",
            "\n",
            "--> Iteração: 179\n",
            " Melhor custo: 21571.25610093911 | [38, 15, 36, 29, 20, 18, 43, 19, 37, 5, 14, 11, 22, 47, 0, 4, 35, 7, 44, 40, 3, 24, 32, 10, 8, 9, 48, 23, 27, 12, 46, 26, 41, 1, 6, 25, 31, 34, 42, 21, 2, 17, 49, 28, 30, 16, 13, 50, 51, 39, 33, 45, 38] \n",
            "\n",
            "--> Iteração: 180\n",
            " Melhor custo: 21571.25610093911 | [38, 15, 36, 29, 20, 18, 43, 19, 37, 5, 14, 11, 22, 47, 0, 4, 35, 7, 44, 40, 3, 24, 32, 10, 8, 9, 48, 23, 27, 12, 46, 26, 41, 1, 6, 25, 31, 34, 42, 21, 2, 17, 49, 28, 30, 16, 13, 50, 51, 39, 33, 45, 38] \n",
            "\n",
            "--> Iteração: 181\n",
            " Melhor custo: 21571.25610093911 | [38, 15, 36, 29, 20, 18, 43, 19, 37, 5, 14, 11, 22, 47, 0, 4, 35, 7, 44, 40, 3, 24, 32, 10, 8, 9, 48, 23, 27, 12, 46, 26, 41, 1, 6, 25, 31, 34, 42, 21, 2, 17, 49, 28, 30, 16, 13, 50, 51, 39, 33, 45, 38] \n",
            "\n",
            "--> Iteração: 182\n",
            " Melhor custo: 21571.25610093911 | [38, 15, 36, 29, 20, 18, 43, 19, 37, 5, 14, 11, 22, 47, 0, 4, 35, 7, 44, 40, 3, 24, 32, 10, 8, 9, 48, 23, 27, 12, 46, 26, 41, 1, 6, 25, 31, 34, 42, 21, 2, 17, 49, 28, 30, 16, 13, 50, 51, 39, 33, 45, 38] \n",
            "\n",
            "--> Iteração: 183\n",
            " Melhor custo: 21571.25610093911 | [38, 15, 36, 29, 20, 18, 43, 19, 37, 5, 14, 11, 22, 47, 0, 4, 35, 7, 44, 40, 3, 24, 32, 10, 8, 9, 48, 23, 27, 12, 46, 26, 41, 1, 6, 25, 31, 34, 42, 21, 2, 17, 49, 28, 30, 16, 13, 50, 51, 39, 33, 45, 38] \n",
            "\n",
            "--> Iteração: 184\n",
            " Melhor custo: 21571.25610093911 | [38, 15, 36, 29, 20, 18, 43, 19, 37, 5, 14, 11, 22, 47, 0, 4, 35, 7, 44, 40, 3, 24, 32, 10, 8, 9, 48, 23, 27, 12, 46, 26, 41, 1, 6, 25, 31, 34, 42, 21, 2, 17, 49, 28, 30, 16, 13, 50, 51, 39, 33, 45, 38] \n",
            "\n",
            "--> Iteração: 185\n",
            " Melhor custo: 21571.25610093911 | [38, 15, 36, 29, 20, 18, 43, 19, 37, 5, 14, 11, 22, 47, 0, 4, 35, 7, 44, 40, 3, 24, 32, 10, 8, 9, 48, 23, 27, 12, 46, 26, 41, 1, 6, 25, 31, 34, 42, 21, 2, 17, 49, 28, 30, 16, 13, 50, 51, 39, 33, 45, 38] \n",
            "\n",
            "--> Iteração: 186\n",
            " Melhor custo: 21571.25610093911 | [38, 15, 36, 29, 20, 18, 43, 19, 37, 5, 14, 11, 22, 47, 0, 4, 35, 7, 44, 40, 3, 24, 32, 10, 8, 9, 48, 23, 27, 12, 46, 26, 41, 1, 6, 25, 31, 34, 42, 21, 2, 17, 49, 28, 30, 16, 13, 50, 51, 39, 33, 45, 38] \n",
            "\n",
            "--> Iteração: 187\n",
            " Melhor custo: 21571.25610093911 | [38, 15, 36, 29, 20, 18, 43, 19, 37, 5, 14, 11, 22, 47, 0, 4, 35, 7, 44, 40, 3, 24, 32, 10, 8, 9, 48, 23, 27, 12, 46, 26, 41, 1, 6, 25, 31, 34, 42, 21, 2, 17, 49, 28, 30, 16, 13, 50, 51, 39, 33, 45, 38] \n",
            "\n",
            "--> Iteração: 188\n",
            " Melhor custo: 20498.968431032903 | [22, 11, 10, 50, 42, 3, 23, 48, 30, 33, 18, 20, 16, 40, 6, 1, 5, 37, 21, 35, 7, 47, 4, 0, 34, 15, 31, 25, 26, 46, 51, 39, 14, 49, 17, 2, 44, 8, 9, 28, 29, 36, 38, 45, 32, 43, 19, 41, 27, 12, 13, 24, 22] \n",
            "\n",
            "--> Iteração: 189\n",
            " Melhor custo: 20498.968431032903 | [22, 11, 10, 50, 42, 3, 23, 48, 30, 33, 18, 20, 16, 40, 6, 1, 5, 37, 21, 35, 7, 47, 4, 0, 34, 15, 31, 25, 26, 46, 51, 39, 14, 49, 17, 2, 44, 8, 9, 28, 29, 36, 38, 45, 32, 43, 19, 41, 27, 12, 13, 24, 22] \n",
            "\n",
            "--> Iteração: 190\n",
            " Melhor custo: 20498.968431032903 | [22, 11, 10, 50, 42, 3, 23, 48, 30, 33, 18, 20, 16, 40, 6, 1, 5, 37, 21, 35, 7, 47, 4, 0, 34, 15, 31, 25, 26, 46, 51, 39, 14, 49, 17, 2, 44, 8, 9, 28, 29, 36, 38, 45, 32, 43, 19, 41, 27, 12, 13, 24, 22] \n",
            "\n",
            "--> Iteração: 191\n",
            " Melhor custo: 20498.968431032903 | [22, 11, 10, 50, 42, 3, 23, 48, 30, 33, 18, 20, 16, 40, 6, 1, 5, 37, 21, 35, 7, 47, 4, 0, 34, 15, 31, 25, 26, 46, 51, 39, 14, 49, 17, 2, 44, 8, 9, 28, 29, 36, 38, 45, 32, 43, 19, 41, 27, 12, 13, 24, 22] \n",
            "\n",
            "--> Iteração: 192\n",
            " Melhor custo: 20498.968431032903 | [22, 11, 10, 50, 42, 3, 23, 48, 30, 33, 18, 20, 16, 40, 6, 1, 5, 37, 21, 35, 7, 47, 4, 0, 34, 15, 31, 25, 26, 46, 51, 39, 14, 49, 17, 2, 44, 8, 9, 28, 29, 36, 38, 45, 32, 43, 19, 41, 27, 12, 13, 24, 22] \n",
            "\n",
            "--> Iteração: 193\n",
            " Melhor custo: 20498.968431032903 | [22, 11, 10, 50, 42, 3, 23, 48, 30, 33, 18, 20, 16, 40, 6, 1, 5, 37, 21, 35, 7, 47, 4, 0, 34, 15, 31, 25, 26, 46, 51, 39, 14, 49, 17, 2, 44, 8, 9, 28, 29, 36, 38, 45, 32, 43, 19, 41, 27, 12, 13, 24, 22] \n",
            "\n",
            "--> Iteração: 194\n",
            " Melhor custo: 20498.968431032903 | [22, 11, 10, 50, 42, 3, 23, 48, 30, 33, 18, 20, 16, 40, 6, 1, 5, 37, 21, 35, 7, 47, 4, 0, 34, 15, 31, 25, 26, 46, 51, 39, 14, 49, 17, 2, 44, 8, 9, 28, 29, 36, 38, 45, 32, 43, 19, 41, 27, 12, 13, 24, 22] \n",
            "\n",
            "--> Iteração: 195\n",
            " Melhor custo: 20498.968431032903 | [22, 11, 10, 50, 42, 3, 23, 48, 30, 33, 18, 20, 16, 40, 6, 1, 5, 37, 21, 35, 7, 47, 4, 0, 34, 15, 31, 25, 26, 46, 51, 39, 14, 49, 17, 2, 44, 8, 9, 28, 29, 36, 38, 45, 32, 43, 19, 41, 27, 12, 13, 24, 22] \n",
            "\n",
            "--> Iteração: 196\n",
            " Melhor custo: 20498.968431032903 | [22, 11, 10, 50, 42, 3, 23, 48, 30, 33, 18, 20, 16, 40, 6, 1, 5, 37, 21, 35, 7, 47, 4, 0, 34, 15, 31, 25, 26, 46, 51, 39, 14, 49, 17, 2, 44, 8, 9, 28, 29, 36, 38, 45, 32, 43, 19, 41, 27, 12, 13, 24, 22] \n",
            "\n",
            "--> Iteração: 197\n",
            " Melhor custo: 20498.968431032903 | [22, 11, 10, 50, 42, 3, 23, 48, 30, 33, 18, 20, 16, 40, 6, 1, 5, 37, 21, 35, 7, 47, 4, 0, 34, 15, 31, 25, 26, 46, 51, 39, 14, 49, 17, 2, 44, 8, 9, 28, 29, 36, 38, 45, 32, 43, 19, 41, 27, 12, 13, 24, 22] \n",
            "\n",
            "--> Iteração: 198\n",
            " Melhor custo: 20498.968431032903 | [22, 11, 10, 50, 42, 3, 23, 48, 30, 33, 18, 20, 16, 40, 6, 1, 5, 37, 21, 35, 7, 47, 4, 0, 34, 15, 31, 25, 26, 46, 51, 39, 14, 49, 17, 2, 44, 8, 9, 28, 29, 36, 38, 45, 32, 43, 19, 41, 27, 12, 13, 24, 22] \n",
            "\n",
            "--> Iteração: 199\n",
            " Melhor custo: 20498.968431032903 | [22, 11, 10, 50, 42, 3, 23, 48, 30, 33, 18, 20, 16, 40, 6, 1, 5, 37, 21, 35, 7, 47, 4, 0, 34, 15, 31, 25, 26, 46, 51, 39, 14, 49, 17, 2, 44, 8, 9, 28, 29, 36, 38, 45, 32, 43, 19, 41, 27, 12, 13, 24, 22] \n",
            "\n"
          ]
        }
      ]
    },
    {
      "cell_type": "code",
      "source": [
        "plt.scatter(x_list, y_list)\n",
        "n = len(melhor_rota)\n",
        "for i in range(n - 1):\n",
        "  p1_x = x_list[melhor_rota[i]]\n",
        "  p1_y = y_list[melhor_rota[i]]\n",
        "  p2_x = x_list[melhor_rota[i+1]]\n",
        "  p2_y = y_list[melhor_rota[i+1]]\n",
        "  plt.plot([p1_x, p2_x], [p1_y, p2_y], 'black')\n",
        "plt.plot([p1_x, p2_x], [p1_y, p2_y], 'black')\n",
        "plt.title('Melhor rota: ' + str(melhor_custo))\n",
        "plt.show()"
      ],
      "metadata": {
        "colab": {
          "base_uri": "https://localhost:8080/",
          "height": 281
        },
        "outputId": "3f27b05e-3bb6-4962-9035-ef09f9c689cd",
        "id": "CFX6pV-zP0fh"
      },
      "execution_count": 28,
      "outputs": [
        {
          "output_type": "display_data",
          "data": {
            "text/plain": [
              "<Figure size 432x288 with 1 Axes>"
            ],
            "image/png": "[encoded data removed]"
          },
          "metadata": {
            "needs_background": "light"
          }
        }
      ]
    },
    {
      "cell_type": "code",
      "source": [
        "plt.plot(historico_sol['it'], historico_sol['d'])\n",
        "plt.show()"
      ],
      "metadata": {
        "colab": {
          "base_uri": "https://localhost:8080/",
          "height": 265
        },
        "id": "aD2qlOt2qQ3x",
        "outputId": "fb661fdd-265b-44c2-918c-9151f446c669"
      },
      "execution_count": 29,
      "outputs": [
        {
          "output_type": "display_data",
          "data": {
            "text/plain": [
              "<Figure size 432x288 with 1 Axes>"
            ],
            "image/png": "[encoded data removed]"
          },
          "metadata": {
            "needs_background": "light"
          }
        }
      ]
    },
    {
      "cell_type": "markdown",
      "source": [
        "## Teste com todas cidades: 1000 iterações"
      ],
      "metadata": {
        "id": "T45nKzwidYux"
      }
    },
    {
      "cell_type": "code",
      "source": [
        "grafo_dist, grafo_fero = dataToGraph(x_list, y_list)"
      ],
      "metadata": {
        "id": "WA0dBKzideeE"
      },
      "execution_count": 31,
      "outputs": []
    },
    {
      "cell_type": "code",
      "source": [
        "melhor_custo, melhor_rota, historico_sol = buscaMenorCaminho_2(grafo_dist=grafo_dist, grafo_fero=grafo_fero, p=0.5, alfa=1, beta=5, Q=100, b=5, quant_pop=len(grafo_dist), max_it=1000, print_info=False)"
      ],
      "metadata": {
        "id": "kxgfAjnxdeeF"
      },
      "execution_count": null,
      "outputs": []
    },
    {
      "cell_type": "code",
      "source": [
        "plt.scatter(x_list, y_list)\n",
        "n = len(melhor_rota)\n",
        "for i in range(n - 1):\n",
        "  p1_x = x_list[melhor_rota[i]]\n",
        "  p1_y = y_list[melhor_rota[i]]\n",
        "  p2_x = x_list[melhor_rota[i+1]]\n",
        "  p2_y = y_list[melhor_rota[i+1]]\n",
        "  plt.plot([p1_x, p2_x], [p1_y, p2_y], 'black')\n",
        "plt.plot([p1_x, p2_x], [p1_y, p2_y], 'black')\n",
        "plt.title('Melhor rota: ' + str(melhor_custo))\n",
        "plt.show()"
      ],
      "metadata": {
        "colab": {
          "base_uri": "https://localhost:8080/",
          "height": 281
        },
        "outputId": "e716d941-1936-44c4-da8a-5d0dddfa171a",
        "id": "22AIZf6tdeeG"
      },
      "execution_count": 33,
      "outputs": [
        {
          "output_type": "display_data",
          "data": {
            "text/plain": [
              "<Figure size 432x288 with 1 Axes>"
            ],
            "image/png": "[encoded data removed]"
          },
          "metadata": {
            "needs_background": "light"
          }
        }
      ]
    },
    {
      "cell_type": "code",
      "source": [
        "plt.plot(historico_sol['it'], historico_sol['d'])\n",
        "plt.show()"
      ],
      "metadata": {
        "colab": {
          "base_uri": "https://localhost:8080/",
          "height": 265
        },
        "outputId": "87081880-0923-40b7-f7f4-36124b282f12",
        "id": "CLhcjxKbdeeH"
      },
      "execution_count": 34,
      "outputs": [
        {
          "output_type": "display_data",
          "data": {
            "text/plain": [
              "<Figure size 432x288 with 1 Axes>"
            ],
            "image/png": "[encoded data removed]"
          },
          "metadata": {
            "needs_background": "light"
          }
        }
      ]
    }
  ]
}