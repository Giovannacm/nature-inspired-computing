{
  "nbformat": 4,
  "nbformat_minor": 0,
  "metadata": {
    "colab": {
      "name": "ACO.ipynb",
      "provenance": [],
      "collapsed_sections": [],
      "toc_visible": true,
      "authorship_tag": "ABX9TyMe2aJuxtiSlhsTFtzW72dG",
      "include_colab_link": true
    },
    "kernelspec": {
      "name": "python3",
      "display_name": "Python 3"
    },
    "language_info": {
      "name": "python"
    }
  },
  "cells": [
    {
      "cell_type": "markdown",
      "metadata": {
        "id": "view-in-github",
        "colab_type": "text"
      },
      "source": [
        "<a href=\"https://colab.research.google.com/github/Giovannacm/nature-inspired-computing/blob/main/ACO.ipynb\" target=\"_parent\"><img src=\"https://colab.research.google.com/assets/colab-badge.svg\" alt=\"Open In Colab\"/></a>"
      ]
    },
    {
      "cell_type": "markdown",
      "source": [
        "Universidade Estadual Paulista - UNESP\n",
        "\n",
        "Programa de Pós-Graduação em Ciência da Computação\n",
        "\n",
        "Disciplina: **Computação Inspirada pela Natureza** - Professor Fabricio Breve\n",
        "\n",
        "**Trabalho 3** - Giovanna Carreira Marinho"
      ],
      "metadata": {
        "id": "HwqfQewfLY9g"
      }
    },
    {
      "cell_type": "markdown",
      "source": [
        "# Funções auxiliares"
      ],
      "metadata": {
        "id": "Z0rgqWT6La8Y"
      }
    },
    {
      "cell_type": "code",
      "execution_count": 1,
      "metadata": {
        "id": "eELfRgZSlw5z"
      },
      "outputs": [],
      "source": [
        "import random\n",
        "import numpy as np"
      ]
    },
    {
      "cell_type": "code",
      "source": [
        "def getFeromonio(grafo, aresta_i, aresta_j):\n",
        "  return grafo[aresta_i][aresta_j]"
      ],
      "metadata": {
        "id": "OUoNGhh1npOJ"
      },
      "execution_count": 2,
      "outputs": []
    },
    {
      "cell_type": "code",
      "source": [
        "def accFeromonio(grafo, aresta_i, aresta_j, valor):\n",
        "  if grafo[aresta_i][aresta_j] > 0:\n",
        "    grafo[aresta_i][aresta_j] += valor\n",
        "    grafo[aresta_j][aresta_i] += valor"
      ],
      "metadata": {
        "id": "dN5gxc0doCpJ"
      },
      "execution_count": 3,
      "outputs": []
    },
    {
      "cell_type": "code",
      "source": [
        "def evaporaFeromonios(grafo, valor):\n",
        "  len_vertices = len(grafo)\n",
        "  for i in range(len_vertices):\n",
        "    for j in range(len_vertices):\n",
        "      if grafo[i][j] > 0:\n",
        "        grafo[i][j] *= valor"
      ],
      "metadata": {
        "id": "3yvllzd5ZqHw"
      },
      "execution_count": 4,
      "outputs": []
    },
    {
      "cell_type": "code",
      "source": [
        "def getVerticesAdjacentes(grafo, aresta):\n",
        "  vizinhos = []\n",
        "  feromonio = []\n",
        "  len_vertices = len(grafo[aresta])\n",
        "  for i in range(len_vertices):\n",
        "    if grafo[aresta][i] > 0:\n",
        "      vizinhos.append(i)\n",
        "      feromonio.append(grafo[aresta][i])\n",
        "  return vizinhos, feromonio"
      ],
      "metadata": {
        "id": "Gd1zQtNBoWga"
      },
      "execution_count": 5,
      "outputs": []
    },
    {
      "cell_type": "code",
      "source": [
        "def geraPopulacao(tamanho, valor):\n",
        "  formigas = []\n",
        "  for i in range(tamanho):\n",
        "    formigas.append([valor])\n",
        "  return formigas"
      ],
      "metadata": {
        "id": "ajfB0IY7BLhi"
      },
      "execution_count": 6,
      "outputs": []
    },
    {
      "cell_type": "code",
      "source": [
        "def buscaMenorCaminho(grafo, p, origem, destino, quant_pop, max_it):\n",
        "  t = 0\n",
        "  while t < max_it:\n",
        "\n",
        "    formigas = geraPopulacao(quant_pop, origem)\n",
        "\n",
        "    for formiga in formigas:\n",
        "      historico = formiga.copy()\n",
        "\n",
        "      while destino not in formiga:\n",
        "        vizinhos_real, feromonios_real = getVerticesAdjacentes(grafo, formiga[-1])\n",
        "\n",
        "        vizinhos, feromonios = [], []\n",
        "        for vertice in range(len(vizinhos_real)):\n",
        "          if vizinhos_real[vertice] not in historico:\n",
        "            vizinhos.append(vizinhos_real[vertice])\n",
        "            feromonios.append(feromonios_real[vertice])\n",
        "\n",
        "        proba = []\n",
        "        for vertice in range(len(vizinhos)):\n",
        "          proba.append(getFeromonio(grafo, formiga[-1], vizinhos[vertice]) / sum(feromonios))\n",
        "\n",
        "        escolha = vizinhos[np.random.choice(np.arange(len(vizinhos)), p = proba)]\n",
        "\n",
        "        formiga.append(escolha)\n",
        "        historico.append(escolha)\n",
        "\n",
        "    evaporaFeromonios(grafo, p)\n",
        "\n",
        "    for formiga in formigas:\n",
        "      for vertice in range(len(formiga) - 1):\n",
        "        accFeromonio(grafo, formiga[vertice], formiga[vertice+1], 1/(len(formiga) - 1))\n",
        "\n",
        "    print('\\n--> Iteração:', t)\n",
        "    for linha in grafo:\n",
        "      print(linha)\n",
        "    \n",
        "    t += 1"
      ],
      "metadata": {
        "id": "vDeUc_QgmtLK"
      },
      "execution_count": 21,
      "outputs": []
    },
    {
      "cell_type": "markdown",
      "source": [
        "# Atividade da aula"
      ],
      "metadata": {
        "id": "hOxH8SUTLey3"
      }
    },
    {
      "cell_type": "code",
      "source": [
        "grafo = [[0, 1, 1, 1],\n",
        "         [1, 0, 1, 1],\n",
        "         [1, 1, 0, 1],\n",
        "         [1, 1, 1, 0]]\n",
        "buscaMenorCaminho(grafo=grafo, p=0.5, origem=0, destino=3, quant_pop=5, max_it=2)"
      ],
      "metadata": {
        "colab": {
          "base_uri": "https://localhost:8080/"
        },
        "id": "_YH3uaEZjLl3",
        "outputId": "a5eee945-9599-418a-cf7c-82e2e20623c3"
      },
      "execution_count": 24,
      "outputs": [
        {
          "output_type": "stream",
          "name": "stdout",
          "text": [
            "\n",
            "--> Iteração: 0\n",
            "[0, 1.0, 1.1666666666666665, 2.5]\n",
            "[1.0, 0, 1.1666666666666665, 1.6666666666666665]\n",
            "[1.1666666666666665, 1.1666666666666665, 0, 0.5]\n",
            "[2.5, 1.6666666666666665, 0.5, 0]\n",
            "\n",
            "--> Iteração: 1\n",
            "[0, 1.0, 0.9166666666666665, 4.25]\n",
            "[1.0, 0, 0.9166666666666665, 1.6666666666666665]\n",
            "[0.9166666666666665, 0.9166666666666665, 0, 0.25]\n",
            "[4.25, 1.6666666666666665, 0.25, 0]\n"
          ]
        }
      ]
    }
  ]
}