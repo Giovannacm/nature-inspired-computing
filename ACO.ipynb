{
  "nbformat": 4,
  "nbformat_minor": 0,
  "metadata": {
    "colab": {
      "name": "ACO.ipynb",
      "provenance": [],
      "collapsed_sections": [
        "Z0rgqWT6La8Y",
        "Ts_9E50HDvg0",
        "9IEvs-n8wEpn"
      ],
      "authorship_tag": "ABX9TyOvlc/z9PPcNabm4BoJpw3X",
      "include_colab_link": true
    },
    "kernelspec": {
      "name": "python3",
      "display_name": "Python 3"
    },
    "language_info": {
      "name": "python"
    }
  },
  "cells": [
    {
      "cell_type": "markdown",
      "metadata": {
        "id": "view-in-github",
        "colab_type": "text"
      },
      "source": [
        "<a href=\"https://colab.research.google.com/github/Giovannacm/nature-inspired-computing/blob/main/ACO.ipynb\" target=\"_parent\"><img src=\"https://colab.research.google.com/assets/colab-badge.svg\" alt=\"Open In Colab\"/></a>"
      ]
    },
    {
      "cell_type": "markdown",
      "source": [
        "Universidade Estadual Paulista - UNESP\n",
        "\n",
        "Programa de Pós-Graduação em Ciência da Computação\n",
        "\n",
        "Disciplina: **Computação Inspirada pela Natureza** - Professor Fabricio Breve\n",
        "\n",
        "**Trabalho 3** - Giovanna Carreira Marinho"
      ],
      "metadata": {
        "id": "HwqfQewfLY9g"
      }
    },
    {
      "cell_type": "code",
      "execution_count": 1,
      "metadata": {
        "id": "eELfRgZSlw5z"
      },
      "outputs": [],
      "source": [
        "import random\n",
        "import numpy as np\n",
        "import matplotlib.pyplot as plt"
      ]
    },
    {
      "cell_type": "markdown",
      "source": [
        "# Funções auxiliares"
      ],
      "metadata": {
        "id": "Z0rgqWT6La8Y"
      }
    },
    {
      "cell_type": "code",
      "source": [
        "def getFeromonio(grafo, aresta_i, aresta_j):\n",
        "  return grafo[aresta_i][aresta_j]"
      ],
      "metadata": {
        "id": "OUoNGhh1npOJ"
      },
      "execution_count": 2,
      "outputs": []
    },
    {
      "cell_type": "code",
      "source": [
        "def accFeromonio(grafo, aresta_i, aresta_j, valor):\n",
        "  if grafo[aresta_i][aresta_j] > 0:\n",
        "    grafo[aresta_i][aresta_j] += valor\n",
        "    grafo[aresta_j][aresta_i] += valor"
      ],
      "metadata": {
        "id": "dN5gxc0doCpJ"
      },
      "execution_count": 3,
      "outputs": []
    },
    {
      "cell_type": "code",
      "source": [
        "def evaporaFeromonios(grafo, valor):\n",
        "  len_vertices = len(grafo)\n",
        "  for i in range(len_vertices):\n",
        "    for j in range(len_vertices):\n",
        "      if grafo[i][j] > 0:\n",
        "        grafo[i][j] *= valor"
      ],
      "metadata": {
        "id": "3yvllzd5ZqHw"
      },
      "execution_count": 4,
      "outputs": []
    },
    {
      "cell_type": "code",
      "source": [
        "def getVerticesAdjacentes(grafo, aresta):\n",
        "  vizinhos = []\n",
        "  feromonio = []\n",
        "  len_vertices = len(grafo[aresta])\n",
        "  for i in range(len_vertices):\n",
        "    if grafo[aresta][i] > 0:\n",
        "      vizinhos.append(i)\n",
        "      feromonio.append(grafo[aresta][i])\n",
        "  return vizinhos, feromonio"
      ],
      "metadata": {
        "id": "Gd1zQtNBoWga"
      },
      "execution_count": 5,
      "outputs": []
    },
    {
      "cell_type": "code",
      "source": [
        "def geraPopulacao(tamanho, valor):\n",
        "  formigas = []\n",
        "  for i in range(tamanho):\n",
        "    formigas.append([valor])\n",
        "  return formigas"
      ],
      "metadata": {
        "id": "ajfB0IY7BLhi"
      },
      "execution_count": 6,
      "outputs": []
    },
    {
      "cell_type": "markdown",
      "source": [
        "#ACO simples"
      ],
      "metadata": {
        "id": "Ts_9E50HDvg0"
      }
    },
    {
      "cell_type": "code",
      "source": [
        "def buscaMenorCaminho(grafo, p, origem, destino, quant_pop, max_it):\n",
        "  t = 0\n",
        "  while t < max_it:\n",
        "\n",
        "    formigas = geraPopulacao(quant_pop, origem)\n",
        "\n",
        "    for formiga in formigas:\n",
        "      historico = formiga.copy()\n",
        "\n",
        "      while destino not in formiga:\n",
        "        vizinhos_real, feromonios_real = getVerticesAdjacentes(grafo, formiga[-1])\n",
        "\n",
        "        vizinhos, feromonios = [], []\n",
        "        for vertice in range(len(vizinhos_real)):\n",
        "          if vizinhos_real[vertice] not in historico:\n",
        "            vizinhos.append(vizinhos_real[vertice])\n",
        "            feromonios.append(feromonios_real[vertice])\n",
        "\n",
        "        proba = []\n",
        "        for vertice in range(len(vizinhos)):\n",
        "          proba.append(getFeromonio(grafo, formiga[-1], vizinhos[vertice]) / sum(feromonios))\n",
        "\n",
        "        escolha = vizinhos[np.random.choice(np.arange(len(vizinhos)), p = proba)]\n",
        "\n",
        "        formiga.append(escolha)\n",
        "        historico.append(escolha)\n",
        "\n",
        "    evaporaFeromonios(grafo, p)\n",
        "\n",
        "    for formiga in formigas:\n",
        "      for vertice in range(len(formiga) - 1):\n",
        "        accFeromonio(grafo, formiga[vertice], formiga[vertice+1], 1/(len(formiga) - 1))\n",
        "\n",
        "    print('\\n--> Iteração:', t)\n",
        "    for linha in grafo:\n",
        "      print(linha)\n",
        "    \n",
        "    t += 1"
      ],
      "metadata": {
        "id": "vDeUc_QgmtLK"
      },
      "execution_count": 7,
      "outputs": []
    },
    {
      "cell_type": "code",
      "source": [
        "grafo = [[0, 1, 1, 1],\n",
        "         [1, 0, 1, 1],\n",
        "         [1, 1, 0, 1],\n",
        "         [1, 1, 1, 0]]\n",
        "buscaMenorCaminho(grafo=grafo, p=0.5, origem=0, destino=3, quant_pop=5, max_it=4)"
      ],
      "metadata": {
        "colab": {
          "base_uri": "https://localhost:8080/"
        },
        "id": "_YH3uaEZjLl3",
        "outputId": "2f071e0b-6157-43c6-ea04-e98d2fdb5b03"
      },
      "execution_count": 8,
      "outputs": [
        {
          "output_type": "stream",
          "name": "stdout",
          "text": [
            "\n",
            "--> Iteração: 0\n",
            "[0, 0.8333333333333333, 0.5, 4.5]\n",
            "[0.8333333333333333, 0, 0.8333333333333333, 0.5]\n",
            "[0.5, 0.8333333333333333, 0, 0.8333333333333333]\n",
            "[4.5, 0.5, 0.8333333333333333, 0]\n",
            "\n",
            "--> Iteração: 1\n",
            "[0, 0.75, 0.25, 6.25]\n",
            "[0.75, 0, 0.75, 0.25]\n",
            "[0.25, 0.75, 0, 0.75]\n",
            "[6.25, 0.25, 0.75, 0]\n",
            "\n",
            "--> Iteração: 2\n",
            "[0, 0.7083333333333333, 0.125, 7.125]\n",
            "[0.7083333333333333, 0, 0.7083333333333333, 0.125]\n",
            "[0.125, 0.7083333333333333, 0, 0.7083333333333333]\n",
            "[7.125, 0.125, 0.7083333333333333, 0]\n",
            "\n",
            "--> Iteração: 3\n",
            "[0, 0.8541666666666666, 0.0625, 7.5625]\n",
            "[0.8541666666666666, 0, 0.35416666666666663, 0.5625]\n",
            "[0.0625, 0.35416666666666663, 0, 0.35416666666666663]\n",
            "[7.5625, 0.5625, 0.35416666666666663, 0]\n"
          ]
        }
      ]
    },
    {
      "cell_type": "markdown",
      "source": [
        "# Transformar arquivo em grafo"
      ],
      "metadata": {
        "id": "9IEvs-n8wEpn"
      }
    },
    {
      "cell_type": "code",
      "source": [
        "def fileToData():\n",
        "  arquivo = open(\"/content/berlin52.tsp\", \"r\")\n",
        "  x_list = []\n",
        "  y_list = []\n",
        "  for linha in arquivo:\n",
        "    if linha[0].isdigit():\n",
        "      id, x, y = linha.split()\n",
        "      x_list.append(float(x))\n",
        "      y_list.append(float(y))\n",
        "  return x_list, y_list"
      ],
      "metadata": {
        "id": "BVFUT-uuwH84"
      },
      "execution_count": 9,
      "outputs": []
    },
    {
      "cell_type": "code",
      "source": [
        "x_list, y_list = fileToData()"
      ],
      "metadata": {
        "id": "yF9CMa92wvo4"
      },
      "execution_count": 10,
      "outputs": []
    },
    {
      "cell_type": "code",
      "source": [
        "plt.scatter(x_list, y_list)\n",
        "plt.show()"
      ],
      "metadata": {
        "colab": {
          "base_uri": "https://localhost:8080/",
          "height": 0
        },
        "id": "4dP75hL8wxRv",
        "outputId": "fca2b983-c0fc-485e-c4c8-00693d9e828b"
      },
      "execution_count": 11,
      "outputs": [
        {
          "output_type": "display_data",
          "data": {
            "text/plain": [
              "<Figure size 432x288 with 1 Axes>"
            ],
            "image/png": "[encoded data removed]"
          },
          "metadata": {
            "needs_background": "light"
          }
        }
      ]
    },
    {
      "cell_type": "code",
      "source": [
        "def distancia(a, b):\n",
        "  a_array = np.array(a)\n",
        "  b_array = np.array(b)\n",
        "  return np.linalg.norm(a-b)"
      ],
      "metadata": {
        "id": "o_ihvD9k_Swq"
      },
      "execution_count": 12,
      "outputs": []
    },
    {
      "cell_type": "code",
      "source": [
        "def dataToGraph(x, y, feromonio_inicial=10**(-6)):\n",
        "  n = len(x)\n",
        "  grafo_dist = []\n",
        "  grafo_fero = []\n",
        "  for i in range(n):\n",
        "    dist = []\n",
        "    fero = []\n",
        "    for j in range(n):\n",
        "      if i == j:\n",
        "        dist.append(0)\n",
        "        fero.append(0)\n",
        "      else:\n",
        "        dist.append(distancia(x[i], y[j]))\n",
        "        fero.append(feromonio_inicial)\n",
        "    grafo_dist.append(dist)\n",
        "    grafo_fero.append(fero)\n",
        "  return grafo_dist, grafo_fero"
      ],
      "metadata": {
        "id": "9tGA9Scf4ayr"
      },
      "execution_count": 13,
      "outputs": []
    },
    {
      "cell_type": "markdown",
      "source": [
        "# ACO-TSP"
      ],
      "metadata": {
        "id": "vrO8JZ8UDmLy"
      }
    },
    {
      "cell_type": "code",
      "source": [
        "def geraPopulacao_2(tamanho):\n",
        "  formigas = []\n",
        "  for i in range(tamanho):\n",
        "    formigas.append([i])\n",
        "  return formigas"
      ],
      "metadata": {
        "id": "tJUcsWZ-G-Pq"
      },
      "execution_count": 14,
      "outputs": []
    },
    {
      "cell_type": "code",
      "source": [
        "def getVerticesAdjacentes_2(grafo_dist, grafo_fero, aresta):\n",
        "  vizinhos = []\n",
        "  feromonio = []\n",
        "  len_vertices = len(grafo_dist[aresta])\n",
        "  for i in range(len_vertices):\n",
        "    if grafo_dist[aresta][i] > 0:\n",
        "      vizinhos.append(i)\n",
        "      feromonio.append(grafo_fero[aresta][i])\n",
        "  return vizinhos, feromonio"
      ],
      "metadata": {
        "id": "Z_ybYd6DJm74"
      },
      "execution_count": 15,
      "outputs": []
    },
    {
      "cell_type": "code",
      "source": [
        "def sum_pow(lista, pow):\n",
        "  sum = 0\n",
        "  for item in lista:\n",
        "    sum += item**pow\n",
        "  return sum"
      ],
      "metadata": {
        "id": "9GzAP57cL1iQ"
      },
      "execution_count": 16,
      "outputs": []
    },
    {
      "cell_type": "code",
      "source": [
        "def avaliaRota(formiga, grafo_dist):\n",
        "  acc = 0\n",
        "  n = len(formiga)\n",
        "  for i in range(n - 1):\n",
        "    acc += grafo_dist[formiga[i]][formiga[i+1]]\n",
        "  return acc"
      ],
      "metadata": {
        "id": "6cJOOPfxP9P0"
      },
      "execution_count": 17,
      "outputs": []
    },
    {
      "cell_type": "code",
      "source": [
        "def buscaMenorCaminho_2(grafo_dist, grafo_fero, p, alfa, beta, Q, b, quant_pop, max_it, print_info=True):\n",
        "  quant_cidades = len(grafo_dist)\n",
        "  melhor_rota = []\n",
        "  melhor_custo = np.inf\n",
        "  t = 0\n",
        "  while t < max_it:\n",
        "    formigas = geraPopulacao_2(quant_pop)\n",
        "\n",
        "    for formiga in formigas:\n",
        "      historico = formiga.copy()\n",
        "\n",
        "      while len(formiga) != quant_cidades:\n",
        "        vizinhos_real, feromonios_real = getVerticesAdjacentes_2(grafo_dist, grafo_fero, formiga[-1])\n",
        "\n",
        "        vizinhos, feromonios = [], []\n",
        "        for vertice in range(len(vizinhos_real)):\n",
        "          if vizinhos_real[vertice] not in historico:\n",
        "            vizinhos.append(vizinhos_real[vertice])\n",
        "            feromonios.append(feromonios_real[vertice])\n",
        "\n",
        "        proba = []\n",
        "        for vertice in range(len(vizinhos)):\n",
        "          visibilidade = 1 / (grafo_dist[formiga[-1]][vizinhos[vertice]])\n",
        "          num = (getFeromonio(grafo_fero, formiga[-1], vizinhos[vertice])**alfa) * (visibilidade**beta)\n",
        "          deno = sum_pow(feromonios, alfa) * (visibilidade**beta)\n",
        "          proba.append(num / deno)\n",
        "\n",
        "        escolha = vizinhos[np.random.choice(np.arange(len(vizinhos)), p = proba)]\n",
        "        formiga.append(escolha)\n",
        "        historico.append(escolha)\n",
        "\n",
        "    for formiga in formigas:\n",
        "      rota = avaliaRota(formiga, grafo_dist)\n",
        "      if rota < melhor_custo:\n",
        "        melhor_custo = rota\n",
        "        melhor_rota = formiga\n",
        "    \n",
        "    evaporaFeromonios(grafo_fero, p)\n",
        "\n",
        "    for formiga in formigas:\n",
        "      for vertice in range(len(formiga) - 1):\n",
        "        feromonio_depositado = Q/(len(formiga) - 1)\n",
        "        accFeromonio(grafo_fero, formiga[vertice], formiga[vertice+1], feromonio_depositado)\n",
        "    \n",
        "    #formiga elitista\n",
        "    for vertice in range(len(melhor_rota) - 1):\n",
        "      feromonio_depositado = Q/(len(melhor_rota) - 1)\n",
        "      accFeromonio(grafo_fero, formiga[vertice], formiga[vertice+1], b*feromonio_depositado)\n",
        "\n",
        "    if print_info:\n",
        "      print('--> Iteração:', t)\n",
        "      print(' Melhor custo:', melhor_custo, '|', melhor_rota, '\\n')\n",
        "    \n",
        "    t += 1\n",
        "\n",
        "  return melhor_custo, melhor_rota"
      ],
      "metadata": {
        "id": "j4d82oS3BZAx"
      },
      "execution_count": 18,
      "outputs": []
    },
    {
      "cell_type": "code",
      "source": [
        "grafo_dist, grafo_fero = dataToGraph(x_list[:10], y_list[:10])"
      ],
      "metadata": {
        "id": "10OmGTNxBWeD"
      },
      "execution_count": 19,
      "outputs": []
    },
    {
      "cell_type": "code",
      "source": [
        "melhor_custo, melhor_rota = buscaMenorCaminho_2(grafo_dist=grafo_dist, grafo_fero=grafo_fero, p=0.5, alfa=1, beta=5, Q=100, b=5, quant_pop=len(grafo_dist), max_it=100, print_info=True)"
      ],
      "metadata": {
        "id": "y62KdAaPVY_o",
        "colab": {
          "base_uri": "https://localhost:8080/"
        },
        "outputId": "d7390eac-c44a-4d3c-c702-d625e709f089"
      },
      "execution_count": 20,
      "outputs": [
        {
          "output_type": "stream",
          "name": "stdout",
          "text": [
            "--> Iteração: 0\n",
            " Melhor custo: 1825.0 | [9, 5, 8, 0, 2, 3, 4, 7, 1, 6] \n",
            "\n",
            "--> Iteração: 1\n",
            " Melhor custo: 1825.0 | [9, 5, 8, 0, 2, 3, 4, 7, 1, 6] \n",
            "\n",
            "--> Iteração: 2\n",
            " Melhor custo: 1825.0 | [9, 5, 8, 0, 2, 3, 4, 7, 1, 6] \n",
            "\n",
            "--> Iteração: 3\n",
            " Melhor custo: 1825.0 | [9, 5, 8, 0, 2, 3, 4, 7, 1, 6] \n",
            "\n",
            "--> Iteração: 4\n",
            " Melhor custo: 1825.0 | [9, 5, 8, 0, 2, 3, 4, 7, 1, 6] \n",
            "\n",
            "--> Iteração: 5\n",
            " Melhor custo: 1825.0 | [9, 5, 8, 0, 2, 3, 4, 7, 1, 6] \n",
            "\n",
            "--> Iteração: 6\n",
            " Melhor custo: 1825.0 | [9, 5, 8, 0, 2, 3, 4, 7, 1, 6] \n",
            "\n",
            "--> Iteração: 7\n",
            " Melhor custo: 1825.0 | [9, 5, 8, 0, 2, 3, 4, 7, 1, 6] \n",
            "\n",
            "--> Iteração: 8\n",
            " Melhor custo: 1825.0 | [9, 5, 8, 0, 2, 3, 4, 7, 1, 6] \n",
            "\n",
            "--> Iteração: 9\n",
            " Melhor custo: 1825.0 | [9, 5, 8, 0, 2, 3, 4, 7, 1, 6] \n",
            "\n",
            "--> Iteração: 10\n",
            " Melhor custo: 1825.0 | [9, 5, 8, 0, 2, 3, 4, 7, 1, 6] \n",
            "\n",
            "--> Iteração: 11\n",
            " Melhor custo: 1825.0 | [9, 5, 8, 0, 2, 3, 4, 7, 1, 6] \n",
            "\n",
            "--> Iteração: 12\n",
            " Melhor custo: 1825.0 | [9, 5, 8, 0, 2, 3, 4, 7, 1, 6] \n",
            "\n",
            "--> Iteração: 13\n",
            " Melhor custo: 1825.0 | [9, 5, 8, 0, 2, 3, 4, 7, 1, 6] \n",
            "\n",
            "--> Iteração: 14\n",
            " Melhor custo: 1825.0 | [9, 5, 8, 0, 2, 3, 4, 7, 1, 6] \n",
            "\n",
            "--> Iteração: 15\n",
            " Melhor custo: 1825.0 | [9, 5, 8, 0, 2, 3, 4, 7, 1, 6] \n",
            "\n",
            "--> Iteração: 16\n",
            " Melhor custo: 1825.0 | [9, 5, 8, 0, 2, 3, 4, 7, 1, 6] \n",
            "\n",
            "--> Iteração: 17\n",
            " Melhor custo: 1825.0 | [9, 5, 8, 0, 2, 3, 4, 7, 1, 6] \n",
            "\n",
            "--> Iteração: 18\n",
            " Melhor custo: 1825.0 | [9, 5, 8, 0, 2, 3, 4, 7, 1, 6] \n",
            "\n",
            "--> Iteração: 19\n",
            " Melhor custo: 1825.0 | [9, 5, 8, 0, 2, 3, 4, 7, 1, 6] \n",
            "\n",
            "--> Iteração: 20\n",
            " Melhor custo: 1825.0 | [9, 5, 8, 0, 2, 3, 4, 7, 1, 6] \n",
            "\n",
            "--> Iteração: 21\n",
            " Melhor custo: 1825.0 | [9, 5, 8, 0, 2, 3, 4, 7, 1, 6] \n",
            "\n",
            "--> Iteração: 22\n",
            " Melhor custo: 1825.0 | [9, 5, 8, 0, 2, 3, 4, 7, 1, 6] \n",
            "\n",
            "--> Iteração: 23\n",
            " Melhor custo: 1825.0 | [9, 5, 8, 0, 2, 3, 4, 7, 1, 6] \n",
            "\n",
            "--> Iteração: 24\n",
            " Melhor custo: 1825.0 | [9, 5, 8, 0, 2, 3, 4, 7, 1, 6] \n",
            "\n",
            "--> Iteração: 25\n",
            " Melhor custo: 1825.0 | [9, 5, 8, 0, 2, 3, 4, 7, 1, 6] \n",
            "\n",
            "--> Iteração: 26\n",
            " Melhor custo: 1825.0 | [9, 5, 8, 0, 2, 3, 4, 7, 1, 6] \n",
            "\n",
            "--> Iteração: 27\n",
            " Melhor custo: 1825.0 | [9, 5, 8, 0, 2, 3, 4, 7, 1, 6] \n",
            "\n",
            "--> Iteração: 28\n",
            " Melhor custo: 1825.0 | [9, 5, 8, 0, 2, 3, 4, 7, 1, 6] \n",
            "\n",
            "--> Iteração: 29\n",
            " Melhor custo: 1825.0 | [9, 5, 8, 0, 2, 3, 4, 7, 1, 6] \n",
            "\n",
            "--> Iteração: 30\n",
            " Melhor custo: 1825.0 | [9, 5, 8, 0, 2, 3, 4, 7, 1, 6] \n",
            "\n",
            "--> Iteração: 31\n",
            " Melhor custo: 1825.0 | [9, 5, 8, 0, 2, 3, 4, 7, 1, 6] \n",
            "\n",
            "--> Iteração: 32\n",
            " Melhor custo: 1825.0 | [9, 5, 8, 0, 2, 3, 4, 7, 1, 6] \n",
            "\n",
            "--> Iteração: 33\n",
            " Melhor custo: 1825.0 | [9, 5, 8, 0, 2, 3, 4, 7, 1, 6] \n",
            "\n",
            "--> Iteração: 34\n",
            " Melhor custo: 1825.0 | [9, 5, 8, 0, 2, 3, 4, 7, 1, 6] \n",
            "\n",
            "--> Iteração: 35\n",
            " Melhor custo: 1825.0 | [9, 5, 8, 0, 2, 3, 4, 7, 1, 6] \n",
            "\n",
            "--> Iteração: 36\n",
            " Melhor custo: 1825.0 | [9, 5, 8, 0, 2, 3, 4, 7, 1, 6] \n",
            "\n",
            "--> Iteração: 37\n",
            " Melhor custo: 1825.0 | [9, 5, 8, 0, 2, 3, 4, 7, 1, 6] \n",
            "\n",
            "--> Iteração: 38\n",
            " Melhor custo: 1825.0 | [9, 5, 8, 0, 2, 3, 4, 7, 1, 6] \n",
            "\n",
            "--> Iteração: 39\n",
            " Melhor custo: 1825.0 | [9, 5, 8, 0, 2, 3, 4, 7, 1, 6] \n",
            "\n",
            "--> Iteração: 40\n",
            " Melhor custo: 1825.0 | [9, 5, 8, 0, 2, 3, 4, 7, 1, 6] \n",
            "\n",
            "--> Iteração: 41\n",
            " Melhor custo: 1825.0 | [9, 5, 8, 0, 2, 3, 4, 7, 1, 6] \n",
            "\n",
            "--> Iteração: 42\n",
            " Melhor custo: 1825.0 | [9, 5, 8, 0, 2, 3, 4, 7, 1, 6] \n",
            "\n",
            "--> Iteração: 43\n",
            " Melhor custo: 1825.0 | [9, 5, 8, 0, 2, 3, 4, 7, 1, 6] \n",
            "\n",
            "--> Iteração: 44\n",
            " Melhor custo: 1825.0 | [9, 5, 8, 0, 2, 3, 4, 7, 1, 6] \n",
            "\n",
            "--> Iteração: 45\n",
            " Melhor custo: 1825.0 | [9, 5, 8, 0, 2, 3, 4, 7, 1, 6] \n",
            "\n",
            "--> Iteração: 46\n",
            " Melhor custo: 1825.0 | [9, 5, 8, 0, 2, 3, 4, 7, 1, 6] \n",
            "\n",
            "--> Iteração: 47\n",
            " Melhor custo: 1825.0 | [9, 5, 8, 0, 2, 3, 4, 7, 1, 6] \n",
            "\n",
            "--> Iteração: 48\n",
            " Melhor custo: 1825.0 | [9, 5, 8, 0, 2, 3, 4, 7, 1, 6] \n",
            "\n",
            "--> Iteração: 49\n",
            " Melhor custo: 1825.0 | [9, 5, 8, 0, 2, 3, 4, 7, 1, 6] \n",
            "\n",
            "--> Iteração: 50\n",
            " Melhor custo: 1825.0 | [9, 5, 8, 0, 2, 3, 4, 7, 1, 6] \n",
            "\n",
            "--> Iteração: 51\n",
            " Melhor custo: 1825.0 | [9, 5, 8, 0, 2, 3, 4, 7, 1, 6] \n",
            "\n",
            "--> Iteração: 52\n",
            " Melhor custo: 1825.0 | [9, 5, 8, 0, 2, 3, 4, 7, 1, 6] \n",
            "\n",
            "--> Iteração: 53\n",
            " Melhor custo: 1825.0 | [9, 5, 8, 0, 2, 3, 4, 7, 1, 6] \n",
            "\n",
            "--> Iteração: 54\n",
            " Melhor custo: 1825.0 | [9, 5, 8, 0, 2, 3, 4, 7, 1, 6] \n",
            "\n",
            "--> Iteração: 55\n",
            " Melhor custo: 1825.0 | [9, 5, 8, 0, 2, 3, 4, 7, 1, 6] \n",
            "\n",
            "--> Iteração: 56\n",
            " Melhor custo: 1825.0 | [9, 5, 8, 0, 2, 3, 4, 7, 1, 6] \n",
            "\n",
            "--> Iteração: 57\n",
            " Melhor custo: 1825.0 | [9, 5, 8, 0, 2, 3, 4, 7, 1, 6] \n",
            "\n",
            "--> Iteração: 58\n",
            " Melhor custo: 1825.0 | [9, 5, 8, 0, 2, 3, 4, 7, 1, 6] \n",
            "\n",
            "--> Iteração: 59\n",
            " Melhor custo: 1825.0 | [9, 5, 8, 0, 2, 3, 4, 7, 1, 6] \n",
            "\n",
            "--> Iteração: 60\n",
            " Melhor custo: 1825.0 | [9, 5, 8, 0, 2, 3, 4, 7, 1, 6] \n",
            "\n",
            "--> Iteração: 61\n",
            " Melhor custo: 1825.0 | [9, 5, 8, 0, 2, 3, 4, 7, 1, 6] \n",
            "\n",
            "--> Iteração: 62\n",
            " Melhor custo: 1825.0 | [9, 5, 8, 0, 2, 3, 4, 7, 1, 6] \n",
            "\n",
            "--> Iteração: 63\n",
            " Melhor custo: 1825.0 | [9, 5, 8, 0, 2, 3, 4, 7, 1, 6] \n",
            "\n",
            "--> Iteração: 64\n",
            " Melhor custo: 1825.0 | [9, 5, 8, 0, 2, 3, 4, 7, 1, 6] \n",
            "\n",
            "--> Iteração: 65\n",
            " Melhor custo: 1825.0 | [9, 5, 8, 0, 2, 3, 4, 7, 1, 6] \n",
            "\n",
            "--> Iteração: 66\n",
            " Melhor custo: 1825.0 | [9, 5, 8, 0, 2, 3, 4, 7, 1, 6] \n",
            "\n",
            "--> Iteração: 67\n",
            " Melhor custo: 1825.0 | [9, 5, 8, 0, 2, 3, 4, 7, 1, 6] \n",
            "\n",
            "--> Iteração: 68\n",
            " Melhor custo: 1825.0 | [9, 5, 8, 0, 2, 3, 4, 7, 1, 6] \n",
            "\n",
            "--> Iteração: 69\n",
            " Melhor custo: 1825.0 | [9, 5, 8, 0, 2, 3, 4, 7, 1, 6] \n",
            "\n",
            "--> Iteração: 70\n",
            " Melhor custo: 1825.0 | [9, 5, 8, 0, 2, 3, 4, 7, 1, 6] \n",
            "\n",
            "--> Iteração: 71\n",
            " Melhor custo: 1825.0 | [9, 5, 8, 0, 2, 3, 4, 7, 1, 6] \n",
            "\n",
            "--> Iteração: 72\n",
            " Melhor custo: 1825.0 | [9, 5, 8, 0, 2, 3, 4, 7, 1, 6] \n",
            "\n",
            "--> Iteração: 73\n",
            " Melhor custo: 1825.0 | [9, 5, 8, 0, 2, 3, 4, 7, 1, 6] \n",
            "\n",
            "--> Iteração: 74\n",
            " Melhor custo: 1825.0 | [9, 5, 8, 0, 2, 3, 4, 7, 1, 6] \n",
            "\n",
            "--> Iteração: 75\n",
            " Melhor custo: 1825.0 | [9, 5, 8, 0, 2, 3, 4, 7, 1, 6] \n",
            "\n",
            "--> Iteração: 76\n",
            " Melhor custo: 1825.0 | [9, 5, 8, 0, 2, 3, 4, 7, 1, 6] \n",
            "\n",
            "--> Iteração: 77\n",
            " Melhor custo: 1825.0 | [9, 5, 8, 0, 2, 3, 4, 7, 1, 6] \n",
            "\n",
            "--> Iteração: 78\n",
            " Melhor custo: 1825.0 | [9, 5, 8, 0, 2, 3, 4, 7, 1, 6] \n",
            "\n",
            "--> Iteração: 79\n",
            " Melhor custo: 1770.0 | [4, 8, 0, 5, 9, 2, 6, 1, 3, 7] \n",
            "\n",
            "--> Iteração: 80\n",
            " Melhor custo: 1770.0 | [4, 8, 0, 5, 9, 2, 6, 1, 3, 7] \n",
            "\n",
            "--> Iteração: 81\n",
            " Melhor custo: 1770.0 | [4, 8, 0, 5, 9, 2, 6, 1, 3, 7] \n",
            "\n",
            "--> Iteração: 82\n",
            " Melhor custo: 1770.0 | [4, 8, 0, 5, 9, 2, 6, 1, 3, 7] \n",
            "\n",
            "--> Iteração: 83\n",
            " Melhor custo: 1770.0 | [4, 8, 0, 5, 9, 2, 6, 1, 3, 7] \n",
            "\n",
            "--> Iteração: 84\n",
            " Melhor custo: 1770.0 | [4, 8, 0, 5, 9, 2, 6, 1, 3, 7] \n",
            "\n",
            "--> Iteração: 85\n",
            " Melhor custo: 1770.0 | [4, 8, 0, 5, 9, 2, 6, 1, 3, 7] \n",
            "\n",
            "--> Iteração: 86\n",
            " Melhor custo: 1770.0 | [4, 8, 0, 5, 9, 2, 6, 1, 3, 7] \n",
            "\n",
            "--> Iteração: 87\n",
            " Melhor custo: 1770.0 | [4, 8, 0, 5, 9, 2, 6, 1, 3, 7] \n",
            "\n",
            "--> Iteração: 88\n",
            " Melhor custo: 1770.0 | [4, 8, 0, 5, 9, 2, 6, 1, 3, 7] \n",
            "\n",
            "--> Iteração: 89\n",
            " Melhor custo: 1770.0 | [4, 8, 0, 5, 9, 2, 6, 1, 3, 7] \n",
            "\n",
            "--> Iteração: 90\n",
            " Melhor custo: 1770.0 | [4, 8, 0, 5, 9, 2, 6, 1, 3, 7] \n",
            "\n",
            "--> Iteração: 91\n",
            " Melhor custo: 1770.0 | [4, 8, 0, 5, 9, 2, 6, 1, 3, 7] \n",
            "\n",
            "--> Iteração: 92\n",
            " Melhor custo: 1770.0 | [4, 8, 0, 5, 9, 2, 6, 1, 3, 7] \n",
            "\n",
            "--> Iteração: 93\n",
            " Melhor custo: 1770.0 | [4, 8, 0, 5, 9, 2, 6, 1, 3, 7] \n",
            "\n",
            "--> Iteração: 94\n",
            " Melhor custo: 1770.0 | [4, 8, 0, 5, 9, 2, 6, 1, 3, 7] \n",
            "\n",
            "--> Iteração: 95\n",
            " Melhor custo: 1770.0 | [4, 8, 0, 5, 9, 2, 6, 1, 3, 7] \n",
            "\n",
            "--> Iteração: 96\n",
            " Melhor custo: 1770.0 | [4, 8, 0, 5, 9, 2, 6, 1, 3, 7] \n",
            "\n",
            "--> Iteração: 97\n",
            " Melhor custo: 1770.0 | [4, 8, 0, 5, 9, 2, 6, 1, 3, 7] \n",
            "\n",
            "--> Iteração: 98\n",
            " Melhor custo: 1770.0 | [4, 8, 0, 5, 9, 2, 6, 1, 3, 7] \n",
            "\n",
            "--> Iteração: 99\n",
            " Melhor custo: 1770.0 | [4, 8, 0, 5, 9, 2, 6, 1, 3, 7] \n",
            "\n"
          ]
        }
      ]
    },
    {
      "cell_type": "code",
      "source": [
        "plt.scatter(x_list[:10], y_list[:10])\n",
        "melhor_rota.append(melhor_rota[0])\n",
        "n = len(melhor_rota)\n",
        "for i in range(n - 1):\n",
        "  p1_x = x_list[:10][melhor_rota[i]]\n",
        "  p1_y = y_list[:10][melhor_rota[i]]\n",
        "  p2_x = x_list[:10][melhor_rota[i+1]]\n",
        "  p2_y = y_list[:10][melhor_rota[i+1]]\n",
        "  plt.plot([p1_x, p2_x], [p1_y, p2_y], 'black')\n",
        "plt.plot([p1_x, p2_x], [p1_y, p2_y], 'black')\n",
        "plt.title('Melhor rota:' + str(melhor_custo))\n",
        "plt.show()"
      ],
      "metadata": {
        "colab": {
          "base_uri": "https://localhost:8080/",
          "height": 281
        },
        "id": "wnoHyHsfT0po",
        "outputId": "3aa427ab-3723-48f3-e196-4030cb3507c4"
      },
      "execution_count": 21,
      "outputs": [
        {
          "output_type": "display_data",
          "data": {
            "text/plain": [
              "<Figure size 432x288 with 1 Axes>"
            ],
            "image/png": "[encoded data removed]"
          },
          "metadata": {
            "needs_background": "light"
          }
        }
      ]
    }
  ]
}