{
  "nbformat": 4,
  "nbformat_minor": 0,
  "metadata": {
    "colab": {
      "name": "ACO.ipynb",
      "provenance": [],
      "collapsed_sections": [
        "Z0rgqWT6La8Y",
        "Ts_9E50HDvg0",
        "9IEvs-n8wEpn"
      ],
      "toc_visible": true,
      "authorship_tag": "ABX9TyMKdLhDZGhdF2iowvUVnM9r",
      "include_colab_link": true
    },
    "kernelspec": {
      "name": "python3",
      "display_name": "Python 3"
    },
    "language_info": {
      "name": "python"
    }
  },
  "cells": [
    {
      "cell_type": "markdown",
      "metadata": {
        "id": "view-in-github",
        "colab_type": "text"
      },
      "source": [
        "<a href=\"https://colab.research.google.com/github/Giovannacm/nature-inspired-computing/blob/main/ACO.ipynb\" target=\"_parent\"><img src=\"https://colab.research.google.com/assets/colab-badge.svg\" alt=\"Open In Colab\"/></a>"
      ]
    },
    {
      "cell_type": "markdown",
      "source": [
        "Universidade Estadual Paulista - UNESP\n",
        "\n",
        "Programa de Pós-Graduação em Ciência da Computação\n",
        "\n",
        "Disciplina: **Computação Inspirada pela Natureza** - Professor Fabricio Breve\n",
        "\n",
        "**Trabalho 3** - Giovanna Carreira Marinho"
      ],
      "metadata": {
        "id": "HwqfQewfLY9g"
      }
    },
    {
      "cell_type": "code",
      "execution_count": 1,
      "metadata": {
        "id": "eELfRgZSlw5z"
      },
      "outputs": [],
      "source": [
        "import random\n",
        "import numpy as np\n",
        "import matplotlib.pyplot as plt"
      ]
    },
    {
      "cell_type": "markdown",
      "source": [
        "# Funções auxiliares"
      ],
      "metadata": {
        "id": "Z0rgqWT6La8Y"
      }
    },
    {
      "cell_type": "code",
      "source": [
        "def getFeromonio(grafo, aresta_i, aresta_j):\n",
        "  return grafo[aresta_i][aresta_j]"
      ],
      "metadata": {
        "id": "OUoNGhh1npOJ"
      },
      "execution_count": 2,
      "outputs": []
    },
    {
      "cell_type": "code",
      "source": [
        "def accFeromonio(grafo, aresta_i, aresta_j, valor):\n",
        "  if grafo[aresta_i][aresta_j] > 0:\n",
        "    grafo[aresta_i][aresta_j] += valor\n",
        "    grafo[aresta_j][aresta_i] += valor"
      ],
      "metadata": {
        "id": "dN5gxc0doCpJ"
      },
      "execution_count": 3,
      "outputs": []
    },
    {
      "cell_type": "code",
      "source": [
        "def evaporaFeromonios(grafo, valor):\n",
        "  len_vertices = len(grafo)\n",
        "  for i in range(len_vertices):\n",
        "    for j in range(len_vertices):\n",
        "      if grafo[i][j] > 0:\n",
        "        grafo[i][j] *= valor"
      ],
      "metadata": {
        "id": "3yvllzd5ZqHw"
      },
      "execution_count": 4,
      "outputs": []
    },
    {
      "cell_type": "code",
      "source": [
        "def getVerticesAdjacentes(grafo, aresta):\n",
        "  vizinhos = []\n",
        "  feromonio = []\n",
        "  len_vertices = len(grafo[aresta])\n",
        "  for i in range(len_vertices):\n",
        "    if grafo[aresta][i] > 0:\n",
        "      vizinhos.append(i)\n",
        "      feromonio.append(grafo[aresta][i])\n",
        "  return vizinhos, feromonio"
      ],
      "metadata": {
        "id": "Gd1zQtNBoWga"
      },
      "execution_count": 5,
      "outputs": []
    },
    {
      "cell_type": "code",
      "source": [
        "def geraPopulacao(tamanho, valor):\n",
        "  formigas = []\n",
        "  for i in range(tamanho):\n",
        "    formigas.append([valor])\n",
        "  return formigas"
      ],
      "metadata": {
        "id": "ajfB0IY7BLhi"
      },
      "execution_count": 6,
      "outputs": []
    },
    {
      "cell_type": "markdown",
      "source": [
        "#ACO simples"
      ],
      "metadata": {
        "id": "Ts_9E50HDvg0"
      }
    },
    {
      "cell_type": "code",
      "source": [
        "def buscaMenorCaminho(grafo, p, origem, destino, quant_pop, max_it):\n",
        "  t = 0\n",
        "  while t < max_it:\n",
        "\n",
        "    formigas = geraPopulacao(quant_pop, origem)\n",
        "\n",
        "    for formiga in formigas:\n",
        "      historico = formiga.copy()\n",
        "\n",
        "      while destino not in formiga:\n",
        "        vizinhos_real, feromonios_real = getVerticesAdjacentes(grafo, formiga[-1])\n",
        "\n",
        "        vizinhos, feromonios = [], []\n",
        "        for vertice in range(len(vizinhos_real)):\n",
        "          if vizinhos_real[vertice] not in historico:\n",
        "            vizinhos.append(vizinhos_real[vertice])\n",
        "            feromonios.append(feromonios_real[vertice])\n",
        "\n",
        "        proba = []\n",
        "        for vertice in range(len(vizinhos)):\n",
        "          proba.append(getFeromonio(grafo, formiga[-1], vizinhos[vertice]) / sum(feromonios))\n",
        "\n",
        "        escolha = vizinhos[np.random.choice(np.arange(len(vizinhos)), p = proba)]\n",
        "\n",
        "        formiga.append(escolha)\n",
        "        historico.append(escolha)\n",
        "\n",
        "    evaporaFeromonios(grafo, p)\n",
        "\n",
        "    for formiga in formigas:\n",
        "      for vertice in range(len(formiga) - 1):\n",
        "        accFeromonio(grafo, formiga[vertice], formiga[vertice+1], 1/(len(formiga) - 1))\n",
        "\n",
        "    print('\\n--> Iteração:', t)\n",
        "    for linha in grafo:\n",
        "      print(linha)\n",
        "    \n",
        "    t += 1"
      ],
      "metadata": {
        "id": "vDeUc_QgmtLK"
      },
      "execution_count": 7,
      "outputs": []
    },
    {
      "cell_type": "code",
      "source": [
        "grafo = [[0, 1, 1, 1],\n",
        "         [1, 0, 1, 1],\n",
        "         [1, 1, 0, 1],\n",
        "         [1, 1, 1, 0]]\n",
        "buscaMenorCaminho(grafo=grafo, p=0.5, origem=0, destino=3, quant_pop=5, max_it=4)"
      ],
      "metadata": {
        "colab": {
          "base_uri": "https://localhost:8080/"
        },
        "id": "_YH3uaEZjLl3",
        "outputId": "e51ed45f-a226-4f4d-b2e1-027b0bb09534"
      },
      "execution_count": 8,
      "outputs": [
        {
          "output_type": "stream",
          "name": "stdout",
          "text": [
            "\n",
            "--> Iteração: 0\n",
            "[0, 1.3333333333333333, 1.5, 1.5]\n",
            "[1.3333333333333333, 0, 0.8333333333333333, 1.0]\n",
            "[1.5, 0.8333333333333333, 0, 1.8333333333333333]\n",
            "[1.5, 1.0, 1.8333333333333333, 0]\n",
            "\n",
            "--> Iteração: 1\n",
            "[0, 1.5, 1.25, 2.75]\n",
            "[1.5, 0, 0.75, 1.0]\n",
            "[1.25, 0.75, 0, 1.7499999999999998]\n",
            "[2.75, 1.0, 1.7499999999999998, 0]\n",
            "\n",
            "--> Iteração: 2\n",
            "[0, 2.083333333333333, 1.625, 1.375]\n",
            "[2.083333333333333, 0, 0.7083333333333333, 1.5]\n",
            "[1.625, 0.7083333333333333, 0, 2.208333333333333]\n",
            "[1.375, 1.5, 2.208333333333333, 0]\n",
            "\n",
            "--> Iteração: 3\n",
            "[0, 1.5416666666666665, 1.8125, 2.6875]\n",
            "[1.5416666666666665, 0, 0.35416666666666663, 1.25]\n",
            "[1.8125, 0.35416666666666663, 0, 2.1041666666666665]\n",
            "[2.6875, 1.25, 2.1041666666666665, 0]\n"
          ]
        }
      ]
    },
    {
      "cell_type": "markdown",
      "source": [
        "# Transformar arquivo em grafo"
      ],
      "metadata": {
        "id": "9IEvs-n8wEpn"
      }
    },
    {
      "cell_type": "code",
      "source": [
        "def fileToData():\n",
        "  arquivo = open(\"/content/berlin52.tsp\", \"r\")\n",
        "  x_list = []\n",
        "  y_list = []\n",
        "  for linha in arquivo:\n",
        "    if linha[0].isdigit():\n",
        "      id, x, y = linha.split()\n",
        "      x_list.append(float(x))\n",
        "      y_list.append(float(y))\n",
        "  return x_list, y_list"
      ],
      "metadata": {
        "id": "BVFUT-uuwH84"
      },
      "execution_count": 9,
      "outputs": []
    },
    {
      "cell_type": "code",
      "source": [
        "x_list, y_list = fileToData()"
      ],
      "metadata": {
        "id": "yF9CMa92wvo4"
      },
      "execution_count": 10,
      "outputs": []
    },
    {
      "cell_type": "code",
      "source": [
        "plt.scatter(x_list, y_list)\n",
        "plt.show()"
      ],
      "metadata": {
        "colab": {
          "base_uri": "https://localhost:8080/",
          "height": 265
        },
        "id": "4dP75hL8wxRv",
        "outputId": "fd58af64-913e-4a04-959e-65fe5d5524a4"
      },
      "execution_count": 11,
      "outputs": [
        {
          "output_type": "display_data",
          "data": {
            "text/plain": [
              "<Figure size 432x288 with 1 Axes>"
            ],
            "image/png": "[encoded data removed]"
          },
          "metadata": {
            "needs_background": "light"
          }
        }
      ]
    },
    {
      "cell_type": "code",
      "source": [
        "def distancia(a, b):\n",
        "  a_array = np.array(a)\n",
        "  b_array = np.array(b)\n",
        "  return np.linalg.norm(a-b)"
      ],
      "metadata": {
        "id": "o_ihvD9k_Swq"
      },
      "execution_count": 12,
      "outputs": []
    },
    {
      "cell_type": "code",
      "source": [
        "def dataToGraph(x, y, feromonio_inicial=10**(-6)):\n",
        "  n = len(x)\n",
        "  grafo_dist = []\n",
        "  grafo_fero = []\n",
        "  for i in range(n):\n",
        "    dist = []\n",
        "    fero = []\n",
        "    for j in range(n):\n",
        "      if i == j:\n",
        "        dist.append(0)\n",
        "        fero.append(0)\n",
        "      else:\n",
        "        dist.append(distancia(x[i], y[j]))\n",
        "        fero.append(feromonio_inicial)\n",
        "    grafo_dist.append(dist)\n",
        "    grafo_fero.append(fero)\n",
        "  return grafo_dist, grafo_fero"
      ],
      "metadata": {
        "id": "9tGA9Scf4ayr"
      },
      "execution_count": 18,
      "outputs": []
    },
    {
      "cell_type": "code",
      "source": [
        "grafo_dist, grafo_fero = dataToGraph(x_list, y_list)"
      ],
      "metadata": {
        "id": "10OmGTNxBWeD"
      },
      "execution_count": 19,
      "outputs": []
    },
    {
      "cell_type": "markdown",
      "source": [
        "# ACO-TSP"
      ],
      "metadata": {
        "id": "vrO8JZ8UDmLy"
      }
    },
    {
      "cell_type": "code",
      "source": [
        "def geraPopulacao_2(tamanho):\n",
        "  formigas = []\n",
        "  for i in range(tamanho):\n",
        "    formigas.append([i])\n",
        "  return formigas"
      ],
      "metadata": {
        "id": "tJUcsWZ-G-Pq"
      },
      "execution_count": 20,
      "outputs": []
    },
    {
      "cell_type": "code",
      "source": [
        "def sum_pow(lista, pow):\n",
        "  sum = 0\n",
        "  for item in lista:\n",
        "    sum += item**pow\n",
        "  return sum"
      ],
      "metadata": {
        "id": "9GzAP57cL1iQ"
      },
      "execution_count": 23,
      "outputs": []
    },
    {
      "cell_type": "code",
      "source": [
        "def buscaMenorCaminho_2(grafo_dist, grafo_fero, p, alfa, beta, Q, b, quant_pop, max_it):\n",
        "  quant_cidades = len(grafo_dist)\n",
        "  melhor_rota = []\n",
        "  melhor_custo = np.inf\n",
        "  t = 0\n",
        "  while t < max_it:\n",
        "\n",
        "    formigas = geraPopulacao_2(quant_pop)\n",
        "\n",
        "    for formiga in formigas:\n",
        "      historico = formiga.copy()\n",
        "\n",
        "      while len(formiga) != quant_cidades:\n",
        "        vizinhos_real, feromonios_real = getVerticesAdjacentes(grafo, formiga[-1])\n",
        "\n",
        "        vizinhos, feromonios = [], []\n",
        "        for vertice in range(len(vizinhos_real)):\n",
        "          if vizinhos_real[vertice] not in historico:\n",
        "            vizinhos.append(vizinhos_real[vertice])\n",
        "            feromonios.append(feromonios_real[vertice])\n",
        "\n",
        "        proba = []\n",
        "        for vertice in range(len(vizinhos)):\n",
        "          visibilidade = 1 / (grafo_dist[formiga[-1], vizinhos[vertice]])\n",
        "          num = (getFeromonio(grafo, formiga[-1], vizinhos[vertice])**alfa) * (visibilidade**beta)\n",
        "          deno = sum_pow(feromonios) * (visibilidade**beta)\n",
        "          proba.append(num / deno)\n",
        "\n",
        "        escolha = vizinhos[np.random.choice(np.arange(len(vizinhos)), p = proba)]\n",
        "\n",
        "        formiga.append(escolha)\n",
        "        historico.append(escolha)\n",
        "\n",
        "    for formiga in formigas:\n",
        "      if sum(formiga) < melhor_custo:\n",
        "        melhor_custo = sum(formiga)\n",
        "        melhor_rota = formiga\n",
        "    \n",
        "    evaporaFeromonios(grafo, p)\n",
        "\n",
        "    for formiga in formigas:\n",
        "      for vertice in range(len(formiga) - 1):\n",
        "        feromonio_depositado = Q/(len(formiga) - 1)\n",
        "        accFeromonio(grafo, formiga[vertice], formiga[vertice+1], feromonio_depositado)\n",
        "    \n",
        "    #formiga elitista\n",
        "    for vertice in range(len(melhor_rota) - 1):\n",
        "      feromonio_depositado = Q/(len(melhor_rota) - 1)\n",
        "      accFeromonio(grafo, formiga[vertice], formiga[vertice+1], b*feromonio_depositado)\n",
        "\n",
        "    print('\\n--> Iteração:', t)\n",
        "    for linha in grafo:\n",
        "      print(linha)\n",
        "    \n",
        "    t += 1"
      ],
      "metadata": {
        "id": "j4d82oS3BZAx"
      },
      "execution_count": 30,
      "outputs": []
    },
    {
      "cell_type": "code",
      "source": [
        "buscaMenorCaminho_2(grafo_dist=grafo_dist, grafo_fero=grafo_fero, p=0.5, alfa=1, beta=5, Q=100, b=5, quant_pop=len(grafo_dist), max_it=2)"
      ],
      "metadata": {
        "id": "y62KdAaPVY_o"
      },
      "execution_count": null,
      "outputs": []
    }
  ]
}